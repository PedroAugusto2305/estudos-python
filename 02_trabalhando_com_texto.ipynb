{
 "cells": [
  {
   "cell_type": "markdown",
   "id": "49ed4f88",
   "metadata": {},
   "source": [
    "# Trabalhando com texto - strings"
   ]
  },
  {
   "cell_type": "code",
   "execution_count": 1,
   "id": "b75ea469",
   "metadata": {},
   "outputs": [
    {
     "data": {
      "text/plain": [
       "'Isto é um texto'"
      ]
     },
     "execution_count": 1,
     "metadata": {},
     "output_type": "execute_result"
    }
   ],
   "source": [
    "'Isto é um texto'"
   ]
  },
  {
   "cell_type": "code",
   "execution_count": 2,
   "id": "593b8c64",
   "metadata": {},
   "outputs": [
    {
     "data": {
      "text/plain": [
       "'Isto é um texto'"
      ]
     },
     "execution_count": 2,
     "metadata": {},
     "output_type": "execute_result"
    }
   ],
   "source": [
    "\"Isto é um texto\""
   ]
  },
  {
   "cell_type": "code",
   "execution_count": 3,
   "id": "d75b9dfb",
   "metadata": {},
   "outputs": [
    {
     "data": {
      "text/plain": [
       "\"Caixa d'água\""
      ]
     },
     "execution_count": 3,
     "metadata": {},
     "output_type": "execute_result"
    }
   ],
   "source": [
    "\"Caixa d'água\""
   ]
  },
  {
   "cell_type": "code",
   "execution_count": 5,
   "id": "f58e69df",
   "metadata": {},
   "outputs": [
    {
     "name": "stdout",
     "output_type": "stream",
     "text": [
      "Isto é um texto\n"
     ]
    }
   ],
   "source": [
    "# No Jupyter, o comando print é opcional\n",
    "print(\"Isto é um texto\")"
   ]
  },
  {
   "cell_type": "code",
   "execution_count": 7,
   "id": "d7936ebc",
   "metadata": {},
   "outputs": [
    {
     "name": "stdout",
     "output_type": "stream",
     "text": [
      "\n",
      "Este texto\n",
      "tem múltiplas\n",
      "linhas\n",
      "\n"
     ]
    }
   ],
   "source": [
    "print(\"\"\"\n",
    "Este texto\n",
    "tem múltiplas\n",
    "linhas\n",
    "\"\"\")"
   ]
  },
  {
   "cell_type": "code",
   "execution_count": 10,
   "id": "f415becc",
   "metadata": {},
   "outputs": [
    {
     "name": "stdout",
     "output_type": "stream",
     "text": [
      "Opa, \n",
      "pulei linha.\n"
     ]
    }
   ],
   "source": [
    "print(\"Opa, \\npulei linha.\")"
   ]
  },
  {
   "cell_type": "code",
   "execution_count": 11,
   "id": "b26d156a",
   "metadata": {},
   "outputs": [
    {
     "name": "stdout",
     "output_type": "stream",
     "text": [
      "Opa, \\npulei linha.\n"
     ]
    }
   ],
   "source": [
    "print(\"Opa, \\\\npulei linha.\")"
   ]
  },
  {
   "cell_type": "code",
   "execution_count": 12,
   "id": "165bdaae",
   "metadata": {},
   "outputs": [
    {
     "name": "stdout",
     "output_type": "stream",
     "text": [
      "Olha uma \t tabulação.\n"
     ]
    }
   ],
   "source": [
    "print(\"Olha uma \\t tabulação.\")"
   ]
  }
 ],
 "metadata": {
  "kernelspec": {
   "display_name": ".venv",
   "language": "python",
   "name": "python3"
  },
  "language_info": {
   "codemirror_mode": {
    "name": "ipython",
    "version": 3
   },
   "file_extension": ".py",
   "mimetype": "text/x-python",
   "name": "python",
   "nbconvert_exporter": "python",
   "pygments_lexer": "ipython3",
   "version": "3.12.3"
  }
 },
 "nbformat": 4,
 "nbformat_minor": 5
}
