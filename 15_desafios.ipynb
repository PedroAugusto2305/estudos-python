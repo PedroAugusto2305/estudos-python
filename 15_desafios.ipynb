{
 "cells": [
  {
   "cell_type": "markdown",
   "id": "b06c044b",
   "metadata": {},
   "source": [
    "# Desafios"
   ]
  },
  {
   "cell_type": "markdown",
   "id": "0bae3481",
   "metadata": {},
   "source": [
    "## Desafio 01: Divisão de listas em tuplas\n",
    "Dada uma lista `dados = [\"Ana\", 25, \"Luís\", 30, \"Clara\", 28]` onde cada nome de funcionário é seguido pela sua idade, converta essa lista em uma lista de tuplas, onde cada tupla contém o nome do funcionário e sua idade."
   ]
  },
  {
   "cell_type": "code",
   "execution_count": 14,
   "id": "a741e3ea",
   "metadata": {},
   "outputs": [
    {
     "name": "stdout",
     "output_type": "stream",
     "text": [
      "[('Ana', 25), ('Luís', 30), ('Clara', 28)]\n"
     ]
    }
   ],
   "source": [
    "dados = [\"Ana\", 25, \"Luís\", 30, \"Clara\", 28]\n",
    "\n",
    "nomes = dados[0::2]\n",
    "idades = dados[1::2]\n",
    "\n",
    "resultado = zip(nomes, idades)\n",
    "\n",
    "print(list(resultado))"
   ]
  },
  {
   "cell_type": "markdown",
   "id": "c4de292e",
   "metadata": {},
   "source": [
    "## Desafio 02: Unindo listas de departamentos\n",
    "Duas listas contêm nomes de funcionários de diferentes departamentos da empresa: `departamento_a = [\"Ana\", \"Luís\", \"Clara\"]` e `departamento_b = [\"Marcos\", \"Jonas\", \"Mariana\", \"Ana\"]`. Crie uma nova lista que combine os funcionários de ambos os departamentos e remova qualquer duplicata."
   ]
  },
  {
   "cell_type": "code",
   "execution_count": null,
   "id": "93fbcf4b",
   "metadata": {},
   "outputs": [
    {
     "name": "stdout",
     "output_type": "stream",
     "text": [
      "{'Luís', 'Jonas', 'Mariana', 'Clara', 'Marcos', 'Ana'}\n"
     ]
    }
   ],
   "source": [
    "departamento_a = [\"Ana\", \"Luís\", \"Clara\"]\n",
    "departamento_b = [\"Marcos\", \"Jonas\", \"Mariana\", \"Ana\"]\n",
    "\n",
    "departamentos = departamento_a + departamento_b\n",
    "print(set(departamentos))"
   ]
  }
 ],
 "metadata": {
  "kernelspec": {
   "display_name": ".venv",
   "language": "python",
   "name": "python3"
  },
  "language_info": {
   "codemirror_mode": {
    "name": "ipython",
    "version": 3
   },
   "file_extension": ".py",
   "mimetype": "text/x-python",
   "name": "python",
   "nbconvert_exporter": "python",
   "pygments_lexer": "ipython3",
   "version": "3.12.3"
  }
 },
 "nbformat": 4,
 "nbformat_minor": 5
}
