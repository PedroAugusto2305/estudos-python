{
 "cells": [
  {
   "cell_type": "markdown",
   "id": "52d3fdc1",
   "metadata": {},
   "source": [
    "# Try / Except\n",
    "\n",
    "## Exceção\n",
    "- **Definição:** Uma exceção é um erro que ocorre durante a execução do programa. As exeções são problemas que surgem enquanto o programa já está rodando e não necessariamente indicam que o código está escrito incorretamente.\n",
    "- **Exemplos:**\n",
    "  - Tentar dividir um número por zero.\n",
    "  - Tentar acessar um índice em uma lista que não existe.\n",
    "  - Tentar abrir um arquivo que não existe.\n",
    "- **Como é tratado:** As exceções podem ser tratadas e controladas usando blocos `try-except`. Quando uma exceção é gerada, o fluxo normal do programa é interrompido, e o Python procura por um bloco `except` correspondente para tratar a execução.\n",
    "\n",
    "### Exemplo\n",
    "\n",
    "Suponha que você esteja gerenciando um sistema de caixa de uma loja. Você tem uma lista que registra o valor de várias transações de compra. No entanto, algumas transações podem não ter sido completadas por algum motivo e são registradas como `None` na lista. Para cada transação completa, você deseja gerar um cupom de desconto de 5%. Para as transações que não foram completadas, você precisa emitir um aviso de \"Compra Incompleta\"."
   ]
  },
  {
   "cell_type": "code",
   "execution_count": 3,
   "id": "764299ac",
   "metadata": {},
   "outputs": [
    {
     "name": "stdout",
     "output_type": "stream",
     "text": [
      "Transação 1: Compra de R$ 150.00. Cupom de desconto gerado de R$ 7.50\n",
      "Transação 2: Compra de R$ 200.00. Cupom de desconto gerado de R$ 10.00\n",
      "Transação 3: Compra Incompleta.\n",
      "Transação 4: Compra de R$ 350.00. Cupom de desconto gerado de R$ 17.50\n",
      "Transação 5: Compra Incompleta.\n",
      "Transação 6: Compra de R$ 500.00. Cupom de desconto gerado de R$ 25.00\n"
     ]
    }
   ],
   "source": [
    "transacoes = [150.0, 200.0, None, 350.0, None, 500.0]\n",
    "\n",
    "for i, valor in enumerate(transacoes, start=1):\n",
    "    try:\n",
    "        desconto = valor * 0.05\n",
    "        print(f\"Transação {i}: Compra de R$ {valor:.2f}. Cupom de desconto gerado de R$ {desconto:.2f}\")\n",
    "    except TypeError:\n",
    "        print(f\"Transação {i}: Compra Incompleta.\")"
   ]
  },
  {
   "cell_type": "markdown",
   "id": "2c251c56",
   "metadata": {},
   "source": [
    "### Exemplo\n",
    "\n",
    "Em um sistema de folha de pagamento, o usuário insere as horas trabalhadas e a taxa por hora para calcular o salário. Use try/except para lidar com entradas inválidas.\n",
    "\n"
   ]
  },
  {
   "cell_type": "code",
   "execution_count": 8,
   "id": "e60c3d22",
   "metadata": {},
   "outputs": [
    {
     "name": "stdout",
     "output_type": "stream",
     "text": [
      "Erro: por favor, insira um número válido.\n"
     ]
    }
   ],
   "source": [
    "try:\n",
    "    horas = float(input(\"Horas trabalhadas: \"))\n",
    "    taxa = float (input(\"Taxa por hora:\"))\n",
    "\n",
    "    salario = horas * taxa\n",
    "\n",
    "    print(f\"Salário: R$ {salario:.2f}\")\n",
    "except ValueError:\n",
    "    print(\"Erro: por favor, insira um número válido.\")"
   ]
  }
 ],
 "metadata": {
  "kernelspec": {
   "display_name": ".venv",
   "language": "python",
   "name": "python3"
  },
  "language_info": {
   "codemirror_mode": {
    "name": "ipython",
    "version": 3
   },
   "file_extension": ".py",
   "mimetype": "text/x-python",
   "name": "python",
   "nbconvert_exporter": "python",
   "pygments_lexer": "ipython3",
   "version": "3.12.3"
  }
 },
 "nbformat": 4,
 "nbformat_minor": 5
}
