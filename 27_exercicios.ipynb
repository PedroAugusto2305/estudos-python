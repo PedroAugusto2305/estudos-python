{
 "cells": [
  {
   "cell_type": "markdown",
   "id": "c9b93de7",
   "metadata": {},
   "source": [
    "# Exercício 01\n",
    "Escreva uma função `aumento_salarial` que recebe o salário atual de um funcionário e a porcentagem de aumento, retornando o novo salário."
   ]
  },
  {
   "cell_type": "code",
   "execution_count": 4,
   "id": "11afa651",
   "metadata": {},
   "outputs": [
    {
     "data": {
      "text/plain": [
       "1150.0"
      ]
     },
     "execution_count": 4,
     "metadata": {},
     "output_type": "execute_result"
    }
   ],
   "source": [
    "def aumento_salarial(salario_atual, porcentagem):\n",
    "    \"\"\"Calcula aumento salarial com base em uma porcentagem sobre o salário atual\n",
    "\n",
    "    Parameters\n",
    "    ----------\n",
    "    salario : int ou float\n",
    "        Salário atual.\n",
    "    porcentagem : int ou float\n",
    "        Porcentagem de aumento\n",
    "\n",
    "    Returns\n",
    "    -------\n",
    "    float\n",
    "        Salário com aumento\n",
    "    \"\"\"\n",
    "    return salario_atual + salario_atual * porcentagem / 100\n",
    "    \n",
    "\n",
    "novo_salario = aumento_salarial(1000, 15)\n",
    "novo_salario"
   ]
  },
  {
   "cell_type": "markdown",
   "id": "93c14e3e",
   "metadata": {},
   "source": [
    "# Exercício 02\n",
    "Crie uma função `normalizar_numeros` que recebe uma lista de números e retorna uma nova lista com os valores normalizados entre 0 e 1."
   ]
  },
  {
   "cell_type": "code",
   "execution_count": null,
   "id": "9a6e8889",
   "metadata": {},
   "outputs": [
    {
     "name": "stdout",
     "output_type": "stream",
     "text": [
      "[0.0, 0.25, 0.5, 0.75, 1.0]\n",
      "[0.5, 0.75, 0.25, 0.0, 1.0]\n"
     ]
    }
   ],
   "source": [
    "def normalizar_numeros(numeros):\n",
    "    \"\"\"Normaliza uma lista de números para o intervalo [0, 1]\n",
    "\n",
    "    Parameters\n",
    "    ----------\n",
    "    numeros : lst ou tuple de int ou float\n",
    "        Itens a serem normalizados\n",
    "    \n",
    "    Returns\n",
    "    -------\n",
    "    lst de floats\n",
    "        Itens normalizados\n",
    "    \"\"\"\n",
    "    minimo = min(numeros)\n",
    "    maximo = max(numeros)\n",
    "    return [(numero - minimo) / (maximo - minimo) for numero in numeros]\n",
    "\n",
    "\n",
    "print(normalizar_numeros((1, 2, 3, 4, 5)))\n",
    "print(normalizar_numeros([10, 20, 0, -10, 30]))"
   ]
  },
  {
   "cell_type": "markdown",
   "id": "ba410004",
   "metadata": {},
   "source": [
    "# Exercício 03\n",
    "Escreva uma função gerar_email_corporativo que recebe um nome completo e retorna um email no formato \"nome.ultimonome@empresa.com\"."
   ]
  },
  {
   "cell_type": "code",
   "execution_count": null,
   "id": "2e8c7173",
   "metadata": {},
   "outputs": [
    {
     "data": {
      "text/plain": [
       "'maria.silva@empresa.com'"
      ]
     },
     "execution_count": 13,
     "metadata": {},
     "output_type": "execute_result"
    }
   ],
   "source": [
    "def gerar_email_corporativo(nome_completo):\n",
    "    partes_nome = nome_completo.split()\n",
    "    email = f\"{partes_nome[0]}.{partes_nome[-1]}@empresa.com\"\n",
    "    return email.lower()\n",
    "\n",
    "exemplo = \"Maria Souza Silva\"  # maria.silva@empresa.com\n",
    "gerar_email_corporativo(exemplo)"
   ]
  },
  {
   "cell_type": "markdown",
   "id": "c2278e93",
   "metadata": {},
   "source": [
    "# Exercício 04\n",
    "Dada uma lista de valores de compras dos clientes, escreva uma função `segmentar_clientes` que classifica cada cliente como 'alto', 'médio' ou 'baixo' valor de compra, baseando-se em limites predefinidos para as segmentações e retorne uma lista de segmentações correspondentes. Assume-se que 'alto' é acima de 500, 'médio' entre 200 e 500, e 'baixo' abaixo de 200."
   ]
  },
  {
   "cell_type": "code",
   "execution_count": 14,
   "id": "3506330b",
   "metadata": {},
   "outputs": [
    {
     "name": "stdout",
     "output_type": "stream",
     "text": [
      "['baixo', 'médio', 'alto', 'baixo', 'médio']\n"
     ]
    }
   ],
   "source": [
    "def segmentar_clientes(valores_compras):\n",
    "    segmentos = []\n",
    "\n",
    "    for valor in valores_compras:\n",
    "        if valor > 500:\n",
    "            segmentos.append(\"alto\")\n",
    "        elif valor >= 200:\n",
    "            segmentos.append(\"médio\")\n",
    "        else:\n",
    "            segmentos.append(\"baixo\")\n",
    "    \n",
    "    return segmentos\n",
    "\n",
    "\n",
    "compras = [100, 250, 550, 150, 450]\n",
    "print(segmentar_clientes(compras))"
   ]
  },
  {
   "cell_type": "markdown",
   "id": "a54fe95c",
   "metadata": {},
   "source": [
    "# Exercício 05\n",
    "Crie uma função `verifica_email` que recebe um email e retorna um booleano a depender se o email tem ou não o domínio \"@empresa.com\".\n",
    "\n",
    "Aplique a função para cada email da lista `emails` e retorne a lista de booleanos correspondentes."
   ]
  },
  {
   "cell_type": "code",
   "execution_count": 17,
   "id": "febf4465",
   "metadata": {},
   "outputs": [
    {
     "data": {
      "text/plain": [
       "[True, False, True, False]"
      ]
     },
     "execution_count": 17,
     "metadata": {},
     "output_type": "execute_result"
    }
   ],
   "source": [
    "emails = ['joao@empresa.com', 'maria@mail.com', 'jose@empresa.com', 'andre@abc.com']\n",
    "\n",
    "def verifica_email(email):\n",
    "    return email.endswith(\"@empresa.com\")\n",
    "\n",
    "\n",
    "verificados = [verifica_email(email) for email in emails]\n",
    "verificados"
   ]
  },
  {
   "cell_type": "markdown",
   "id": "279cb205",
   "metadata": {},
   "source": [
    "**Outra resolução**"
   ]
  },
  {
   "cell_type": "code",
   "execution_count": 20,
   "id": "3d91c5fc",
   "metadata": {},
   "outputs": [
    {
     "data": {
      "text/plain": [
       "[True, False, True, False]"
      ]
     },
     "execution_count": 20,
     "metadata": {},
     "output_type": "execute_result"
    }
   ],
   "source": [
    "verificados = list(map(verifica_email, emails))\n",
    "verificados"
   ]
  },
  {
   "cell_type": "markdown",
   "id": "794ed7a9",
   "metadata": {},
   "source": [
    "**Retornar apenas os emails que terminam com \"@empresa.com\"**"
   ]
  },
  {
   "cell_type": "code",
   "execution_count": 22,
   "id": "d78c297a",
   "metadata": {},
   "outputs": [
    {
     "data": {
      "text/plain": [
       "['joao@empresa.com', 'jose@empresa.com']"
      ]
     },
     "execution_count": 22,
     "metadata": {},
     "output_type": "execute_result"
    }
   ],
   "source": [
    "emails_empresa = list(filter(verifica_email, emails))\n",
    "emails_empresa"
   ]
  }
 ],
 "metadata": {
  "kernelspec": {
   "display_name": ".venv",
   "language": "python",
   "name": "python3"
  },
  "language_info": {
   "codemirror_mode": {
    "name": "ipython",
    "version": 3
   },
   "file_extension": ".py",
   "mimetype": "text/x-python",
   "name": "python",
   "nbconvert_exporter": "python",
   "pygments_lexer": "ipython3",
   "version": "3.12.3"
  }
 },
 "nbformat": 4,
 "nbformat_minor": 5
}
