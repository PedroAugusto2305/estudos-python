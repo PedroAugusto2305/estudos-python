{
 "cells": [
  {
   "cell_type": "markdown",
   "id": "99ad9b1d",
   "metadata": {},
   "source": [
    "# Condicionais em Python\n",
    "Em um programa, temos instruções sequenciais. Por vezes, desejamos que algumas instruções sejam executadas apenas quando alguma condição é satisfeita. Nestes casos, falamos de ferramentas de controle de fluxo condicionais que, no Python, utilizam as palavras reservadas `if`, `elif` e `else`. Vejamos alguns exemplos:"
   ]
  },
  {
   "cell_type": "markdown",
   "id": "eb356447",
   "metadata": {},
   "source": [
    "## If\n",
    "Caso mais simples com a sintaxe:\n",
    "\n",
    "```py\n",
    "if <expressão lógica>:\n",
    "    <instrução>\n",
    "```\n",
    "Onde `expressão lógica` representa nossa condição, algo que possa ser verdadeiro ou falso."
   ]
  },
  {
   "cell_type": "code",
   "execution_count": 88,
   "id": "e3ebb598",
   "metadata": {},
   "outputs": [
    {
     "name": "stdout",
     "output_type": "stream",
     "text": [
      "O número é positivo\n",
      "O programa continua...\n"
     ]
    }
   ],
   "source": [
    "# Exemplo: verificar se um número é positivo\n",
    "numero = 5\n",
    "\n",
    "if numero >= 0:\n",
    "    print('O número é positivo')\n",
    "\n",
    "print('O programa continua...')"
   ]
  },
  {
   "cell_type": "code",
   "execution_count": 89,
   "id": "5427a939",
   "metadata": {},
   "outputs": [
    {
     "name": "stdout",
     "output_type": "stream",
     "text": [
      "6000.0\n"
     ]
    }
   ],
   "source": [
    "# Exemplo: bonificação de funcionários\n",
    "funcionario = {\n",
    "    'nome': 'João',\n",
    "    'idade': 25,\n",
    "    'salario': 6000.0,\n",
    "    'cargo': 'Cientista de Dados',\n",
    "    'tempo_de_casa': 3,\n",
    "}\n",
    "\n",
    "if funcionario['tempo_de_casa'] >= 5:\n",
    "    funcionario['salario'] *= 1.2\n",
    "    print(f'Parabéns {funcionario['nome']}, você recebeu um aumento de 20%.')\n",
    "\n",
    "print(funcionario['salario'])\n"
   ]
  },
  {
   "cell_type": "markdown",
   "id": "5f1a13cf",
   "metadata": {},
   "source": [
    "## if / else\n",
    "Neste caso, dizemos qual instrução deve ser executada caso a primeira expressão lógica não seja verdadeira:\n",
    "```py\n",
    "if <expressão lógica>:\n",
    "    <instrução>\n",
    "else:\n",
    "    <outra instrução>`\n",
    "\n",
    "```"
   ]
  },
  {
   "cell_type": "code",
   "execution_count": 90,
   "id": "3c4a2272",
   "metadata": {},
   "outputs": [
    {
     "name": "stdout",
     "output_type": "stream",
     "text": [
      "O número é ímpar.\n",
      "O programa continua...\n"
     ]
    }
   ],
   "source": [
    "# Exemplo: verificar se um número é par ou ímpar\n",
    "numero = 3\n",
    "\n",
    "if numero % 2 == 0:\n",
    "    print(\"O número é par.\")\n",
    "else:\n",
    "    print(\"O número é ímpar.\")\n",
    "\n",
    "print(\"O programa continua...\")"
   ]
  },
  {
   "cell_type": "code",
   "execution_count": 91,
   "id": "f30b7b13",
   "metadata": {},
   "outputs": [
    {
     "name": "stdout",
     "output_type": "stream",
     "text": [
      "Infelizmente, você ainda não tem tempo de casa suficiente para receber um aumento\n"
     ]
    }
   ],
   "source": [
    "# Exemplo: bonificação de funcionários\n",
    "funcionario = {\n",
    "    'nome': 'João',\n",
    "    'idade': 25,\n",
    "    'salario': 6000.0,\n",
    "    'cargo': 'Cientista de Dados',\n",
    "    'tempo_de_casa': 3,\n",
    "}\n",
    "\n",
    "if funcionario['tempo_de_casa'] >= 5:\n",
    "    funcionario['salario'] *= 1.2\n",
    "    print(f'Parabéns {funcionario['nome']}, você recebeu um aumento de 20%.')\n",
    "else:\n",
    "    print('Infelizmente, você ainda não tem tempo de casa suficiente para receber um aumento')"
   ]
  },
  {
   "cell_type": "code",
   "execution_count": 92,
   "id": "1636120e",
   "metadata": {},
   "outputs": [
    {
     "name": "stdout",
     "output_type": "stream",
     "text": [
      "Parabéns Maria, você recebeu um aumento de 20%.\n"
     ]
    }
   ],
   "source": [
    "outro_funcionario = {\n",
    "    'nome': 'Maria',\n",
    "    'idade': 30,\n",
    "    'salario': 6500.0,\n",
    "    'cargo': 'Cientista de Dados',\n",
    "    'tempo_de_casa': 6,\n",
    "}\n",
    "\n",
    "if outro_funcionario['tempo_de_casa'] >= 5:\n",
    "    outro_funcionario['salario'] *= 1.2\n",
    "    print(f'Parabéns {outro_funcionario['nome']}, você recebeu um aumento de 20%.')\n",
    "else:\n",
    "    print('Infelizmente, você ainda não tem tempo de casa suficiente para receber um aumento')"
   ]
  },
  {
   "cell_type": "markdown",
   "id": "d395be9e",
   "metadata": {},
   "source": [
    "## If / elif / else\n",
    "\n",
    "Em algumas situações, podem ser necessárias mais análises de casos, necessitando de mais expressões lógicas:\n",
    "```py\n",
    "if <expressão lógica>:\n",
    "    <instrução>\n",
    "elif <outra expressão lógica>:\n",
    "    <outra instrução>\n",
    "else:\n",
    "    <instrução final>\n",
    "```\n"
   ]
  },
  {
   "cell_type": "code",
   "execution_count": 93,
   "id": "8c642b41",
   "metadata": {},
   "outputs": [
    {
     "name": "stdout",
     "output_type": "stream",
     "text": [
      "O conceito é B\n",
      "O programa continua...\n"
     ]
    }
   ],
   "source": [
    "# Exemplo: classificar uuma nota escolar\n",
    "nota = 80\n",
    "\n",
    "if nota >= 90:\n",
    "    print(\"O conceito é A\")\n",
    "elif nota >= 80:\n",
    "    print(\"O conceito é B\")\n",
    "elif nota >= 70:\n",
    "    print(\"O conceito é C\")\n",
    "elif nota >= 60:\n",
    "    print(\"O conceito é D\")\n",
    "else:\n",
    "    print(\"O conceito é F\")\n",
    "\n",
    "print(\"O programa continua...\")"
   ]
  },
  {
   "cell_type": "code",
   "execution_count": 94,
   "id": "7d2162a1",
   "metadata": {},
   "outputs": [
    {
     "name": "stdout",
     "output_type": "stream",
     "text": [
      "Parabéns João, você recebeu um aumento de 10%\n"
     ]
    }
   ],
   "source": [
    "# Exemplo if / elif / else bonificação de funcionários\n",
    "\n",
    "funcionario = {\n",
    "        'nome': 'João',\n",
    "    'idade': 25,\n",
    "    'salario': 6000.0,\n",
    "    'cargo': 'Cientista de Dados',\n",
    "    'tempo_de_casa': 3,\n",
    "}\n",
    "\n",
    "if funcionario['tempo_de_casa'] >= 5:\n",
    "    funcionario['salario'] *= 1.2\n",
    "    print(f'Parabéns {funcionario[\"nome\"]}, você recebeu um aumento de 20%')\n",
    "elif funcionario['tempo_de_casa'] >= 3:\n",
    "    funcionario['salario'] *= 1.1\n",
    "    print(f'Parabéns {funcionario[\"nome\"]}, você recebeu um aumento de 10%')\n",
    "else:\n",
    "    print('Infelizmente, você ainda não tem tempo de casa suficiente para receber um aumento.')"
   ]
  },
  {
   "cell_type": "markdown",
   "id": "d58eade5",
   "metadata": {},
   "source": [
    "## Outros exemplos\n",
    "Expressões lógicas com operadores `and`, `or` e `in` podem ser utilizadas:"
   ]
  },
  {
   "cell_type": "code",
   "execution_count": 95,
   "id": "4287d782",
   "metadata": {},
   "outputs": [
    {
     "data": {
      "text/plain": [
       "{'nome': 'João',\n",
       " 'idade': 25,\n",
       " 'salario_base': 1500.0,\n",
       " 'total_vendas': 50000.0,\n",
       " 'tempo_de_casa': 5,\n",
       " 'total_a_receber': 0.0,\n",
       " 'nivel': 2}"
      ]
     },
     "execution_count": 95,
     "metadata": {},
     "output_type": "execute_result"
    }
   ],
   "source": [
    "vendedor = {\n",
    "    'nome': 'João',\n",
    "    'idade': 25,\n",
    "    'salario_base': 1_500.00,\n",
    "    'total_vendas': 50_000.00,\n",
    "    'tempo_de_casa': 5,\n",
    "    'total_a_receber': 0.0,\n",
    "    'nivel': 2,\n",
    "}\n",
    "\n",
    "vendedor"
   ]
  },
  {
   "cell_type": "markdown",
   "id": "11055189",
   "metadata": {},
   "source": [
    "Política de bonificação de funcionários:\n",
    "\n",
    "- Tempo de casa maior ou igual que 5 anos: 20% de bonificação sobre o salário base.\n",
    "- Tempo de casa entre 3 e 5 anos e nível maior que 1: 10% de bonficação sobre o salário base.\n",
    "- Tempo de casa entre 3 e 5 anos: 5% de bonificação sobre o salário base.\n",
    "- Vendas maior ou igual que 50000: 30% de bonificação sobre o salário base.\n",
    "- Vendas entre 20000 (inclusive) e 50000 (exclusive): 20% de bonificação sobre o salário base\n",
    "- Vendas entre 10000 (inclusive) e 20000 (exclusive): 10% de bonificação sobre o salário base"
   ]
  },
  {
   "cell_type": "code",
   "execution_count": 96,
   "id": "b68d5483",
   "metadata": {},
   "outputs": [
    {
     "data": {
      "text/plain": [
       "0.2"
      ]
     },
     "execution_count": 96,
     "metadata": {},
     "output_type": "execute_result"
    }
   ],
   "source": [
    "# análise de tempo de casa\n",
    "bonus_tempo = 0\n",
    "\n",
    "if vendedor['tempo_de_casa'] >= 5:\n",
    "    bonus_tempo = 0.20\n",
    "elif (vendedor['tempo_de_casa'] >= 3) and (vendedor['nivel'] > 1):\n",
    "    bonus_tempo = 0.10\n",
    "elif vendedor['tempo_de_casa'] >= 3:\n",
    "    bonus_tempo = 0.05\n",
    "\n",
    "bonus_tempo"
   ]
  },
  {
   "cell_type": "code",
   "execution_count": 97,
   "id": "5e66bec6",
   "metadata": {},
   "outputs": [
    {
     "data": {
      "text/plain": [
       "0.3"
      ]
     },
     "execution_count": 97,
     "metadata": {},
     "output_type": "execute_result"
    }
   ],
   "source": [
    "# análise de vendas\n",
    "bonus_vendas = 0\n",
    "\n",
    "if vendedor['total_vendas'] >= 50_000:\n",
    "    bonus_vendas = 0.30\n",
    "elif vendedor['total_vendas'] >= 20_000:\n",
    "    bonus_vendas = 0.20\n",
    "elif vendedor['total_vendas'] >= 10_000:\n",
    "    bonus_vendas = 0.10\n",
    "\n",
    "bonus_vendas"
   ]
  },
  {
   "cell_type": "code",
   "execution_count": 98,
   "id": "ae129fb4",
   "metadata": {},
   "outputs": [
    {
     "name": "stdout",
     "output_type": "stream",
     "text": [
      "O total a receber será de: R$2250.0\n"
     ]
    }
   ],
   "source": [
    "vendedor['total_a_receber'] = vendedor['salario_base'] + (vendedor['salario_base'] * bonus_tempo) + (vendedor['salario_base'] * bonus_vendas)\n",
    "print(f\"O total a receber será de: R${vendedor['total_a_receber']}\")"
   ]
  }
 ],
 "metadata": {
  "kernelspec": {
   "display_name": ".venv",
   "language": "python",
   "name": "python3"
  },
  "language_info": {
   "codemirror_mode": {
    "name": "ipython",
    "version": 3
   },
   "file_extension": ".py",
   "mimetype": "text/x-python",
   "name": "python",
   "nbconvert_exporter": "python",
   "pygments_lexer": "ipython3",
   "version": "3.12.3"
  }
 },
 "nbformat": 4,
 "nbformat_minor": 5
}
