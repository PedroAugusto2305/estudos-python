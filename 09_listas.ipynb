{
 "cells": [
  {
   "cell_type": "markdown",
   "id": "37f17a1e",
   "metadata": {},
   "source": [
    "# Listas"
   ]
  },
  {
   "cell_type": "code",
   "execution_count": 1,
   "id": "f4e12758",
   "metadata": {},
   "outputs": [
    {
     "data": {
      "text/plain": [
       "['a', 'b', 'c', 'd']"
      ]
     },
     "execution_count": 1,
     "metadata": {},
     "output_type": "execute_result"
    }
   ],
   "source": [
    "minha_lista = [\"a\", \"b\", \"c\", \"d\"]\n",
    "minha_lista"
   ]
  },
  {
   "cell_type": "code",
   "execution_count": 6,
   "id": "9c514163",
   "metadata": {},
   "outputs": [
    {
     "data": {
      "text/plain": [
       "'a'"
      ]
     },
     "execution_count": 6,
     "metadata": {},
     "output_type": "execute_result"
    }
   ],
   "source": [
    "minha_lista[0]"
   ]
  },
  {
   "cell_type": "code",
   "execution_count": 7,
   "id": "4910ab1d",
   "metadata": {},
   "outputs": [
    {
     "data": {
      "text/plain": [
       "'b'"
      ]
     },
     "execution_count": 7,
     "metadata": {},
     "output_type": "execute_result"
    }
   ],
   "source": [
    "minha_lista[1]"
   ]
  },
  {
   "cell_type": "code",
   "execution_count": 8,
   "id": "d257f6f3",
   "metadata": {},
   "outputs": [
    {
     "data": {
      "text/plain": [
       "'c'"
      ]
     },
     "execution_count": 8,
     "metadata": {},
     "output_type": "execute_result"
    }
   ],
   "source": [
    "minha_lista[2]"
   ]
  },
  {
   "cell_type": "code",
   "execution_count": 10,
   "id": "0f960cee",
   "metadata": {},
   "outputs": [
    {
     "data": {
      "text/plain": [
       "'d'"
      ]
     },
     "execution_count": 10,
     "metadata": {},
     "output_type": "execute_result"
    }
   ],
   "source": [
    "minha_lista[-1]"
   ]
  },
  {
   "cell_type": "code",
   "execution_count": 11,
   "id": "ff61573a",
   "metadata": {},
   "outputs": [
    {
     "data": {
      "text/plain": [
       "'c'"
      ]
     },
     "execution_count": 11,
     "metadata": {},
     "output_type": "execute_result"
    }
   ],
   "source": [
    "minha_lista[-2]"
   ]
  },
  {
   "cell_type": "code",
   "execution_count": 12,
   "id": "4af917f1",
   "metadata": {},
   "outputs": [
    {
     "ename": "IndexError",
     "evalue": "list index out of range",
     "output_type": "error",
     "traceback": [
      "\u001b[31m---------------------------------------------------------------------------\u001b[39m",
      "\u001b[31mIndexError\u001b[39m                                Traceback (most recent call last)",
      "\u001b[36mCell\u001b[39m\u001b[36m \u001b[39m\u001b[32mIn[12]\u001b[39m\u001b[32m, line 1\u001b[39m\n\u001b[32m----> \u001b[39m\u001b[32m1\u001b[39m \u001b[43mminha_lista\u001b[49m\u001b[43m[\u001b[49m\u001b[32;43m4\u001b[39;49m\u001b[43m]\u001b[49m\n",
      "\u001b[31mIndexError\u001b[39m: list index out of range"
     ]
    }
   ],
   "source": [
    "minha_lista[4]"
   ]
  },
  {
   "cell_type": "code",
   "execution_count": 13,
   "id": "d3568244",
   "metadata": {},
   "outputs": [
    {
     "ename": "IndexError",
     "evalue": "list index out of range",
     "output_type": "error",
     "traceback": [
      "\u001b[31m---------------------------------------------------------------------------\u001b[39m",
      "\u001b[31mIndexError\u001b[39m                                Traceback (most recent call last)",
      "\u001b[36mCell\u001b[39m\u001b[36m \u001b[39m\u001b[32mIn[13]\u001b[39m\u001b[32m, line 1\u001b[39m\n\u001b[32m----> \u001b[39m\u001b[32m1\u001b[39m \u001b[43mminha_lista\u001b[49m\u001b[43m[\u001b[49m\u001b[43m-\u001b[49m\u001b[32;43m5\u001b[39;49m\u001b[43m]\u001b[49m\n",
      "\u001b[31mIndexError\u001b[39m: list index out of range"
     ]
    }
   ],
   "source": [
    "minha_lista[-5]"
   ]
  },
  {
   "cell_type": "code",
   "execution_count": 14,
   "id": "1b0af20c",
   "metadata": {},
   "outputs": [
    {
     "data": {
      "text/plain": [
       "['a', 'b', 'c', 'd']"
      ]
     },
     "execution_count": 14,
     "metadata": {},
     "output_type": "execute_result"
    }
   ],
   "source": [
    "minha_lista"
   ]
  },
  {
   "cell_type": "code",
   "execution_count": 15,
   "id": "d92c6fc4",
   "metadata": {},
   "outputs": [
    {
     "data": {
      "text/plain": [
       "False"
      ]
     },
     "execution_count": 15,
     "metadata": {},
     "output_type": "execute_result"
    }
   ],
   "source": [
    "\"e\" in minha_lista"
   ]
  },
  {
   "cell_type": "code",
   "execution_count": 16,
   "id": "97066232",
   "metadata": {},
   "outputs": [
    {
     "data": {
      "text/plain": [
       "True"
      ]
     },
     "execution_count": 16,
     "metadata": {},
     "output_type": "execute_result"
    }
   ],
   "source": [
    "\"c\" in minha_lista"
   ]
  },
  {
   "cell_type": "code",
   "execution_count": 17,
   "id": "5a90ae80",
   "metadata": {},
   "outputs": [],
   "source": [
    "minha_lista[2] = \"e\""
   ]
  },
  {
   "cell_type": "code",
   "execution_count": 18,
   "id": "40dfdfb9",
   "metadata": {},
   "outputs": [
    {
     "data": {
      "text/plain": [
       "['a', 'b', 'e', 'd']"
      ]
     },
     "execution_count": 18,
     "metadata": {},
     "output_type": "execute_result"
    }
   ],
   "source": [
    "minha_lista"
   ]
  },
  {
   "cell_type": "code",
   "execution_count": 19,
   "id": "9394f3af",
   "metadata": {},
   "outputs": [
    {
     "data": {
      "text/plain": [
       "True"
      ]
     },
     "execution_count": 19,
     "metadata": {},
     "output_type": "execute_result"
    }
   ],
   "source": [
    "\"e\" in minha_lista"
   ]
  },
  {
   "cell_type": "code",
   "execution_count": 20,
   "id": "179c8639",
   "metadata": {},
   "outputs": [
    {
     "data": {
      "text/plain": [
       "False"
      ]
     },
     "execution_count": 20,
     "metadata": {},
     "output_type": "execute_result"
    }
   ],
   "source": [
    "\"c\" in minha_lista"
   ]
  },
  {
   "cell_type": "code",
   "execution_count": 21,
   "id": "7391e51a",
   "metadata": {},
   "outputs": [],
   "source": [
    "minha_lista[-1] = 3"
   ]
  },
  {
   "cell_type": "code",
   "execution_count": 22,
   "id": "b993ccb2",
   "metadata": {},
   "outputs": [
    {
     "data": {
      "text/plain": [
       "['a', 'b', 'e', 3]"
      ]
     },
     "execution_count": 22,
     "metadata": {},
     "output_type": "execute_result"
    }
   ],
   "source": [
    "minha_lista"
   ]
  },
  {
   "cell_type": "code",
   "execution_count": 24,
   "id": "07b41f21",
   "metadata": {},
   "outputs": [
    {
     "data": {
      "text/plain": [
       "4"
      ]
     },
     "execution_count": 24,
     "metadata": {},
     "output_type": "execute_result"
    }
   ],
   "source": [
    "len(minha_lista)"
   ]
  },
  {
   "cell_type": "code",
   "execution_count": 26,
   "id": "743c47d0",
   "metadata": {},
   "outputs": [
    {
     "ename": "TypeError",
     "evalue": "'<' not supported between instances of 'int' and 'str'",
     "output_type": "error",
     "traceback": [
      "\u001b[31m---------------------------------------------------------------------------\u001b[39m",
      "\u001b[31mTypeError\u001b[39m                                 Traceback (most recent call last)",
      "\u001b[36mCell\u001b[39m\u001b[36m \u001b[39m\u001b[32mIn[26]\u001b[39m\u001b[32m, line 1\u001b[39m\n\u001b[32m----> \u001b[39m\u001b[32m1\u001b[39m \u001b[38;5;28;43mmin\u001b[39;49m\u001b[43m(\u001b[49m\u001b[43mminha_lista\u001b[49m\u001b[43m)\u001b[49m\n",
      "\u001b[31mTypeError\u001b[39m: '<' not supported between instances of 'int' and 'str'"
     ]
    }
   ],
   "source": [
    "min(minha_lista)"
   ]
  },
  {
   "cell_type": "code",
   "execution_count": 27,
   "id": "b69b87dc",
   "metadata": {},
   "outputs": [
    {
     "data": {
      "text/plain": [
       "[90, 120, 2.0, 3.14, 0.5]"
      ]
     },
     "execution_count": 27,
     "metadata": {},
     "output_type": "execute_result"
    }
   ],
   "source": [
    "nova_lista = [90, 120, 2.0, 3.14, 0.5]\n",
    "nova_lista"
   ]
  },
  {
   "cell_type": "code",
   "execution_count": 28,
   "id": "c1b90eda",
   "metadata": {},
   "outputs": [
    {
     "data": {
      "text/plain": [
       "0.5"
      ]
     },
     "execution_count": 28,
     "metadata": {},
     "output_type": "execute_result"
    }
   ],
   "source": [
    "min(nova_lista)"
   ]
  },
  {
   "cell_type": "code",
   "execution_count": 29,
   "id": "74e1f169",
   "metadata": {},
   "outputs": [
    {
     "data": {
      "text/plain": [
       "120"
      ]
     },
     "execution_count": 29,
     "metadata": {},
     "output_type": "execute_result"
    }
   ],
   "source": [
    "max(nova_lista)"
   ]
  },
  {
   "cell_type": "code",
   "execution_count": 30,
   "id": "b9d03654",
   "metadata": {},
   "outputs": [
    {
     "data": {
      "text/plain": [
       "5"
      ]
     },
     "execution_count": 30,
     "metadata": {},
     "output_type": "execute_result"
    }
   ],
   "source": [
    "len(nova_lista)"
   ]
  },
  {
   "cell_type": "code",
   "execution_count": 31,
   "id": "22012177",
   "metadata": {},
   "outputs": [
    {
     "data": {
      "text/plain": [
       "['a', 'b', 'c', 'd', 'e', 'f']"
      ]
     },
     "execution_count": 31,
     "metadata": {},
     "output_type": "execute_result"
    }
   ],
   "source": [
    "lista_de_letras = ['a', 'b', 'c', 'd', 'e', 'f']\n",
    "lista_de_letras"
   ]
  },
  {
   "cell_type": "code",
   "execution_count": 35,
   "id": "b72bf2e5",
   "metadata": {},
   "outputs": [
    {
     "data": {
      "text/plain": [
       "['a', 'b', 'c', 'd', 'e', 'f']"
      ]
     },
     "execution_count": 35,
     "metadata": {},
     "output_type": "execute_result"
    }
   ],
   "source": [
    "lista_de_letras[:]"
   ]
  },
  {
   "cell_type": "code",
   "execution_count": 36,
   "id": "746fb35d",
   "metadata": {},
   "outputs": [
    {
     "data": {
      "text/plain": [
       "['a', 'b', 'c', 'd', 'e', 'f']"
      ]
     },
     "execution_count": 36,
     "metadata": {},
     "output_type": "execute_result"
    }
   ],
   "source": [
    "lista_de_letras[0:]"
   ]
  },
  {
   "cell_type": "code",
   "execution_count": 37,
   "id": "19e46e6f",
   "metadata": {},
   "outputs": [
    {
     "data": {
      "text/plain": [
       "['b', 'c', 'd', 'e', 'f']"
      ]
     },
     "execution_count": 37,
     "metadata": {},
     "output_type": "execute_result"
    }
   ],
   "source": [
    "lista_de_letras[1:]"
   ]
  },
  {
   "cell_type": "code",
   "execution_count": 38,
   "id": "971e4e79",
   "metadata": {},
   "outputs": [
    {
     "data": {
      "text/plain": [
       "['c', 'd', 'e', 'f']"
      ]
     },
     "execution_count": 38,
     "metadata": {},
     "output_type": "execute_result"
    }
   ],
   "source": [
    "lista_de_letras[2:]"
   ]
  },
  {
   "cell_type": "code",
   "execution_count": 39,
   "id": "49c4ef0c",
   "metadata": {},
   "outputs": [
    {
     "data": {
      "text/plain": [
       "[]"
      ]
     },
     "execution_count": 39,
     "metadata": {},
     "output_type": "execute_result"
    }
   ],
   "source": [
    "lista_de_letras[:0]"
   ]
  },
  {
   "cell_type": "code",
   "execution_count": 40,
   "id": "e21fe3eb",
   "metadata": {},
   "outputs": [
    {
     "data": {
      "text/plain": [
       "['a']"
      ]
     },
     "execution_count": 40,
     "metadata": {},
     "output_type": "execute_result"
    }
   ],
   "source": [
    "lista_de_letras[:1]"
   ]
  },
  {
   "cell_type": "code",
   "execution_count": 41,
   "id": "ced3d802",
   "metadata": {},
   "outputs": [
    {
     "data": {
      "text/plain": [
       "['a', 'b']"
      ]
     },
     "execution_count": 41,
     "metadata": {},
     "output_type": "execute_result"
    }
   ],
   "source": [
    "lista_de_letras[:2]"
   ]
  },
  {
   "cell_type": "code",
   "execution_count": 42,
   "id": "ebce59c0",
   "metadata": {},
   "outputs": [
    {
     "data": {
      "text/plain": [
       "['b', 'c']"
      ]
     },
     "execution_count": 42,
     "metadata": {},
     "output_type": "execute_result"
    }
   ],
   "source": [
    "lista_de_letras[1:3]"
   ]
  },
  {
   "cell_type": "code",
   "execution_count": 44,
   "id": "ef1513e0",
   "metadata": {},
   "outputs": [
    {
     "data": {
      "text/plain": [
       "[0, 1, 2, 3, 4, 5, 6, 7, 8, 9, 10]"
      ]
     },
     "execution_count": 44,
     "metadata": {},
     "output_type": "execute_result"
    }
   ],
   "source": [
    "lista_longa = [0, 1, 2, 3, 4, 5, 6, 7, 8, 9, 10]\n",
    "lista_longa"
   ]
  },
  {
   "cell_type": "code",
   "execution_count": 45,
   "id": "03d221eb",
   "metadata": {},
   "outputs": [
    {
     "data": {
      "text/plain": [
       "11"
      ]
     },
     "execution_count": 45,
     "metadata": {},
     "output_type": "execute_result"
    }
   ],
   "source": [
    "len(lista_longa)"
   ]
  },
  {
   "cell_type": "code",
   "execution_count": 50,
   "id": "7c723df5",
   "metadata": {},
   "outputs": [
    {
     "data": {
      "text/plain": [
       "[0, 1, 2, 3, 4, 5, 6, 7, 8, 9, 10]"
      ]
     },
     "execution_count": 50,
     "metadata": {},
     "output_type": "execute_result"
    }
   ],
   "source": [
    "lista_longa[0:11]"
   ]
  },
  {
   "cell_type": "code",
   "execution_count": 52,
   "id": "e936e331",
   "metadata": {},
   "outputs": [
    {
     "data": {
      "text/plain": [
       "[0, 2, 4, 6, 8, 10]"
      ]
     },
     "execution_count": 52,
     "metadata": {},
     "output_type": "execute_result"
    }
   ],
   "source": [
    "lista_longa[0:11:2]"
   ]
  },
  {
   "cell_type": "code",
   "execution_count": 58,
   "id": "6f377cba",
   "metadata": {},
   "outputs": [
    {
     "data": {
      "text/plain": [
       "[0, 2, 4, 6, 8, 10]"
      ]
     },
     "execution_count": 58,
     "metadata": {},
     "output_type": "execute_result"
    }
   ],
   "source": [
    "lista_longa[::2]"
   ]
  },
  {
   "cell_type": "code",
   "execution_count": 59,
   "id": "9ce4370f",
   "metadata": {},
   "outputs": [
    {
     "data": {
      "text/plain": [
       "[10, 9, 8, 7, 6, 5, 4, 3, 2, 1, 0]"
      ]
     },
     "execution_count": 59,
     "metadata": {},
     "output_type": "execute_result"
    }
   ],
   "source": [
    "lista_longa[::-1]"
   ]
  },
  {
   "cell_type": "code",
   "execution_count": 61,
   "id": "bc57500f",
   "metadata": {},
   "outputs": [
    {
     "data": {
      "text/plain": [
       "[10, 9, 8, 7, 6, 5, 4, 3, 2, 1, 0]"
      ]
     },
     "execution_count": 61,
     "metadata": {},
     "output_type": "execute_result"
    }
   ],
   "source": [
    "lista_longa_invertida = lista_longa[::-1]\n",
    "lista_longa_invertida"
   ]
  },
  {
   "cell_type": "code",
   "execution_count": 62,
   "id": "d6383377",
   "metadata": {},
   "outputs": [
    {
     "data": {
      "text/plain": [
       "[0, 1, 2, 3, 4, 5, 6, 7, 8, 9, 10]"
      ]
     },
     "execution_count": 62,
     "metadata": {},
     "output_type": "execute_result"
    }
   ],
   "source": [
    "lista_longa"
   ]
  },
  {
   "cell_type": "code",
   "execution_count": 63,
   "id": "a8833860",
   "metadata": {},
   "outputs": [
    {
     "data": {
      "text/plain": [
       "[0, 1, 2, 3, 4, 5, 6, 7, 8, 9, 10, 11]"
      ]
     },
     "execution_count": 63,
     "metadata": {},
     "output_type": "execute_result"
    }
   ],
   "source": [
    "lista_longa += [11]\n",
    "lista_longa"
   ]
  },
  {
   "cell_type": "code",
   "execution_count": 64,
   "id": "2769204d",
   "metadata": {},
   "outputs": [
    {
     "data": {
      "text/plain": [
       "[0, 1, 2, 3, 4, 5, 6, 7, 8, 9, 10, 11, 11, 12, 13, 14]"
      ]
     },
     "execution_count": 64,
     "metadata": {},
     "output_type": "execute_result"
    }
   ],
   "source": [
    "lista_longa += [11, 12, 13, 14]\n",
    "lista_longa"
   ]
  },
  {
   "cell_type": "code",
   "execution_count": 65,
   "id": "21129aea",
   "metadata": {},
   "outputs": [],
   "source": [
    "lista_longa.append(15)"
   ]
  },
  {
   "cell_type": "code",
   "execution_count": 66,
   "id": "b4163b2e",
   "metadata": {},
   "outputs": [
    {
     "data": {
      "text/plain": [
       "[0, 1, 2, 3, 4, 5, 6, 7, 8, 9, 10, 11, 11, 12, 13, 14, 15]"
      ]
     },
     "execution_count": 66,
     "metadata": {},
     "output_type": "execute_result"
    }
   ],
   "source": [
    "lista_longa"
   ]
  },
  {
   "cell_type": "code",
   "execution_count": 67,
   "id": "5eca3fae",
   "metadata": {},
   "outputs": [],
   "source": [
    "lista_longa.append([16, 17, 18])"
   ]
  },
  {
   "cell_type": "code",
   "execution_count": 68,
   "id": "909a8b8e",
   "metadata": {},
   "outputs": [
    {
     "data": {
      "text/plain": [
       "[0, 1, 2, 3, 4, 5, 6, 7, 8, 9, 10, 11, 11, 12, 13, 14, 15, [16, 17, 18]]"
      ]
     },
     "execution_count": 68,
     "metadata": {},
     "output_type": "execute_result"
    }
   ],
   "source": [
    "lista_longa"
   ]
  },
  {
   "cell_type": "code",
   "execution_count": 69,
   "id": "a52ac27e",
   "metadata": {},
   "outputs": [
    {
     "data": {
      "text/plain": [
       "[16, 17, 18]"
      ]
     },
     "execution_count": 69,
     "metadata": {},
     "output_type": "execute_result"
    }
   ],
   "source": [
    "lista_longa[-1]"
   ]
  },
  {
   "cell_type": "code",
   "execution_count": 70,
   "id": "940bb411",
   "metadata": {},
   "outputs": [
    {
     "data": {
      "text/plain": [
       "[16, 17, 18]"
      ]
     },
     "execution_count": 70,
     "metadata": {},
     "output_type": "execute_result"
    }
   ],
   "source": [
    "lista_longa.pop()"
   ]
  },
  {
   "cell_type": "code",
   "execution_count": 71,
   "id": "3b9e56c8",
   "metadata": {},
   "outputs": [
    {
     "data": {
      "text/plain": [
       "[0, 1, 2, 3, 4, 5, 6, 7, 8, 9, 10, 11, 11, 12, 13, 14, 15]"
      ]
     },
     "execution_count": 71,
     "metadata": {},
     "output_type": "execute_result"
    }
   ],
   "source": [
    "lista_longa"
   ]
  },
  {
   "cell_type": "code",
   "execution_count": 73,
   "id": "72becb57",
   "metadata": {},
   "outputs": [],
   "source": [
    "lista_longa.extend([16, 17, 18])"
   ]
  },
  {
   "cell_type": "code",
   "execution_count": 74,
   "id": "c72d6824",
   "metadata": {},
   "outputs": [
    {
     "data": {
      "text/plain": [
       "[0, 1, 2, 3, 4, 5, 6, 7, 8, 9, 10, 11, 11, 12, 13, 14, 15, 16, 17, 18]"
      ]
     },
     "execution_count": 74,
     "metadata": {},
     "output_type": "execute_result"
    }
   ],
   "source": [
    "lista_longa"
   ]
  }
 ],
 "metadata": {
  "kernelspec": {
   "display_name": ".venv",
   "language": "python",
   "name": "python3"
  },
  "language_info": {
   "codemirror_mode": {
    "name": "ipython",
    "version": 3
   },
   "file_extension": ".py",
   "mimetype": "text/x-python",
   "name": "python",
   "nbconvert_exporter": "python",
   "pygments_lexer": "ipython3",
   "version": "3.12.3"
  }
 },
 "nbformat": 4,
 "nbformat_minor": 5
}
