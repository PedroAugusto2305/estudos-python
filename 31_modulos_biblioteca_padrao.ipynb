{
 "cells": [
  {
   "cell_type": "markdown",
   "id": "b7109366",
   "metadata": {},
   "source": [
    "# Exemplos\n",
    "\n",
    "## Exemplo com `datetime`\n",
    "\n",
    "O módulo `datetime` fornece classes para manipulação de datas e horas de forma simples."
   ]
  },
  {
   "cell_type": "code",
   "execution_count": 6,
   "id": "b51cb230",
   "metadata": {},
   "outputs": [
    {
     "name": "stdout",
     "output_type": "stream",
     "text": [
      "Data e hora atuais: 2025-06-18 15:30:27.084483\n",
      "Data de nascimento: 28/05/1990\n"
     ]
    }
   ],
   "source": [
    "import datetime\n",
    "\n",
    "# Obtendo a data e hora atuais\n",
    "agora = datetime.datetime.now()\n",
    "print(f\"Data e hora atuais: {agora}\")\n",
    "\n",
    "# Criando uma data específica\n",
    "data_nascimento = datetime.datetime(1990, 5, 28)\n",
    "print(f\"Data de nascimento: {data_nascimento.strftime(\"%d/%m/%Y\")}\")"
   ]
  },
  {
   "cell_type": "markdown",
   "id": "143a040b",
   "metadata": {},
   "source": [
    "## Exemplo com `random`\n",
    "\n",
    "O módulo `random` é usado para gerar números aleatórios e realizar escolhas aleatórias."
   ]
  },
  {
   "cell_type": "code",
   "execution_count": 9,
   "id": "967e87ea",
   "metadata": {},
   "outputs": [
    {
     "name": "stdout",
     "output_type": "stream",
     "text": [
      "Número aleatório entre 1 e 10: 6\n",
      "Cor escolhida: Azul\n"
     ]
    }
   ],
   "source": [
    "import random\n",
    "\n",
    "# Gerando um número aleatório entre 1 e 10\n",
    "\n",
    "numero_aleatorio = random.randint(1, 10)\n",
    "print(f\"Número aleatório entre 1 e 10: {numero_aleatorio}\")\n",
    "\n",
    "# Escolhendo aleatóriamente de uma lista\n",
    "cores = [\"Vermelho\", \"Azul\", \"Verde\", \"Amarelo\"]\n",
    "cor_escolhida = random.choice(cores)\n",
    "print(f\"Cor escolhida: {cor_escolhida}\")"
   ]
  },
  {
   "cell_type": "markdown",
   "id": "9a7f5081",
   "metadata": {},
   "source": [
    "## Exemplo com `os`\n",
    "\n",
    "O módulo `os` fornece uma maneira portátil de usar funcionalidades dependentes do sistema operacional, como percorrer diretórios ou manipular caminhos de arquivos."
   ]
  },
  {
   "cell_type": "code",
   "execution_count": null,
   "id": "cf8b8fc2",
   "metadata": {},
   "outputs": [],
   "source": [
    "import os\n",
    "\n",
    "# Obtendo o diretório de trabalho atual\n",
    "diretorio_atual = os.getcwd()\n",
    "print(f\"Diretório de trabalho atual: {diretorio_atual}\")\n",
    "\n",
    "# Listando arquivos em um diretório\n",
    "for arquivo in os.listdir(diretorio_atual):\n",
    "    print(arquivo)"
   ]
  }
 ],
 "metadata": {
  "kernelspec": {
   "display_name": ".venv",
   "language": "python",
   "name": "python3"
  },
  "language_info": {
   "codemirror_mode": {
    "name": "ipython",
    "version": 3
   },
   "file_extension": ".py",
   "mimetype": "text/x-python",
   "name": "python",
   "nbconvert_exporter": "python",
   "pygments_lexer": "ipython3",
   "version": "3.12.3"
  }
 },
 "nbformat": 4,
 "nbformat_minor": 5
}
