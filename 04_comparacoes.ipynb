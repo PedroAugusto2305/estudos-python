{
 "cells": [
  {
   "cell_type": "markdown",
   "id": "9dda24af",
   "metadata": {},
   "source": [
    "# Comparações"
   ]
  },
  {
   "cell_type": "markdown",
   "id": "137adc05",
   "metadata": {},
   "source": [
    "True or False => bool -> boolean -> booleano"
   ]
  },
  {
   "cell_type": "code",
   "execution_count": 16,
   "id": "63c3ef96",
   "metadata": {},
   "outputs": [],
   "source": [
    "salario_base = 1500\n",
    "salario_minimo = 1412"
   ]
  },
  {
   "cell_type": "code",
   "execution_count": 17,
   "id": "7fcb1e2a",
   "metadata": {},
   "outputs": [
    {
     "data": {
      "text/plain": [
       "True"
      ]
     },
     "execution_count": 17,
     "metadata": {},
     "output_type": "execute_result"
    }
   ],
   "source": [
    "salario_base > salario_minimo"
   ]
  },
  {
   "cell_type": "code",
   "execution_count": 18,
   "id": "a6c55609",
   "metadata": {},
   "outputs": [
    {
     "data": {
      "text/plain": [
       "False"
      ]
     },
     "execution_count": 18,
     "metadata": {},
     "output_type": "execute_result"
    }
   ],
   "source": [
    "salario_base < salario_minimo"
   ]
  },
  {
   "cell_type": "code",
   "execution_count": 12,
   "id": "9d7684ae",
   "metadata": {},
   "outputs": [
    {
     "data": {
      "text/plain": [
       "False"
      ]
     },
     "execution_count": 12,
     "metadata": {},
     "output_type": "execute_result"
    }
   ],
   "source": [
    "salario_base == salario_minimo"
   ]
  },
  {
   "cell_type": "code",
   "execution_count": 13,
   "id": "ab03a6e6",
   "metadata": {},
   "outputs": [
    {
     "data": {
      "text/plain": [
       "True"
      ]
     },
     "execution_count": 13,
     "metadata": {},
     "output_type": "execute_result"
    }
   ],
   "source": [
    "salario_base != salario_minimo"
   ]
  },
  {
   "cell_type": "code",
   "execution_count": 14,
   "id": "231fb692",
   "metadata": {},
   "outputs": [
    {
     "data": {
      "text/plain": [
       "True"
      ]
     },
     "execution_count": 14,
     "metadata": {},
     "output_type": "execute_result"
    }
   ],
   "source": [
    "salario_base >= salario_minimo"
   ]
  },
  {
   "cell_type": "code",
   "execution_count": 15,
   "id": "472d6f5b",
   "metadata": {},
   "outputs": [
    {
     "data": {
      "text/plain": [
       "False"
      ]
     },
     "execution_count": 15,
     "metadata": {},
     "output_type": "execute_result"
    }
   ],
   "source": [
    "salario_base <= salario_minimo"
   ]
  },
  {
   "cell_type": "code",
   "execution_count": 19,
   "id": "b722182f",
   "metadata": {},
   "outputs": [
    {
     "data": {
      "text/plain": [
       "True"
      ]
     },
     "execution_count": 19,
     "metadata": {},
     "output_type": "execute_result"
    }
   ],
   "source": [
    "salario_minimo < 1450"
   ]
  },
  {
   "cell_type": "code",
   "execution_count": 20,
   "id": "2c3f7442",
   "metadata": {},
   "outputs": [
    {
     "data": {
      "text/plain": [
       "True"
      ]
     },
     "execution_count": 20,
     "metadata": {},
     "output_type": "execute_result"
    }
   ],
   "source": [
    "1450 < salario_base"
   ]
  },
  {
   "cell_type": "code",
   "execution_count": 21,
   "id": "10482209",
   "metadata": {},
   "outputs": [
    {
     "data": {
      "text/plain": [
       "True"
      ]
     },
     "execution_count": 21,
     "metadata": {},
     "output_type": "execute_result"
    }
   ],
   "source": [
    "salario_minimo < 1450 < salario_base"
   ]
  },
  {
   "cell_type": "markdown",
   "id": "c092e706",
   "metadata": {},
   "source": [
    "## Operador and"
   ]
  },
  {
   "cell_type": "code",
   "execution_count": 22,
   "id": "d7c09223",
   "metadata": {},
   "outputs": [
    {
     "data": {
      "text/plain": [
       "True"
      ]
     },
     "execution_count": 22,
     "metadata": {},
     "output_type": "execute_result"
    }
   ],
   "source": [
    "(salario_minimo < 1450) and (1450 < salario_base)"
   ]
  },
  {
   "cell_type": "code",
   "execution_count": 23,
   "id": "8b981e53",
   "metadata": {},
   "outputs": [
    {
     "data": {
      "text/plain": [
       "False"
      ]
     },
     "execution_count": 23,
     "metadata": {},
     "output_type": "execute_result"
    }
   ],
   "source": [
    "(salario_minimo < 1450) and (1450 > salario_base)"
   ]
  },
  {
   "cell_type": "markdown",
   "id": "3102b9ea",
   "metadata": {},
   "source": [
    "## Operador or"
   ]
  },
  {
   "cell_type": "code",
   "execution_count": 24,
   "id": "cc0d6f52",
   "metadata": {},
   "outputs": [
    {
     "data": {
      "text/plain": [
       "True"
      ]
     },
     "execution_count": 24,
     "metadata": {},
     "output_type": "execute_result"
    }
   ],
   "source": [
    "(salario_minimo < 1450) or (1450 < salario_base)"
   ]
  },
  {
   "cell_type": "code",
   "execution_count": 25,
   "id": "96195310",
   "metadata": {},
   "outputs": [
    {
     "data": {
      "text/plain": [
       "True"
      ]
     },
     "execution_count": 25,
     "metadata": {},
     "output_type": "execute_result"
    }
   ],
   "source": [
    "(salario_minimo < 1450) or (1450 > salario_base)"
   ]
  }
 ],
 "metadata": {
  "kernelspec": {
   "display_name": ".venv",
   "language": "python",
   "name": "python3"
  },
  "language_info": {
   "codemirror_mode": {
    "name": "ipython",
    "version": 3
   },
   "file_extension": ".py",
   "mimetype": "text/x-python",
   "name": "python",
   "nbconvert_exporter": "python",
   "pygments_lexer": "ipython3",
   "version": "3.12.3"
  }
 },
 "nbformat": 4,
 "nbformat_minor": 5
}
