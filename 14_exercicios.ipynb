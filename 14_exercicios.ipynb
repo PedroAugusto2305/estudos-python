{
 "cells": [
  {
   "cell_type": "markdown",
   "id": "ba8c3e84",
   "metadata": {},
   "source": [
    "# Exercícios"
   ]
  },
  {
   "cell_type": "markdown",
   "id": "111ac2f8",
   "metadata": {},
   "source": [
    "## Exercício 01: Acessando Dados de Vendas\n",
    "Dada uma tupla que armazena as vendas mensais de um produto `vendas = (120, 130, 150, 140, 135)`, calcule a venda total do segundo e terceiro mês e imprima o resultado."
   ]
  },
  {
   "cell_type": "code",
   "execution_count": 1,
   "id": "ea11dcba",
   "metadata": {},
   "outputs": [
    {
     "name": "stdout",
     "output_type": "stream",
     "text": [
      "280\n"
     ]
    }
   ],
   "source": [
    "vendas = (120, 130, 150, 140, 135)\n",
    "\n",
    "valor_total = vendas[1] + vendas[2]\n",
    "print(valor_total)"
   ]
  },
  {
   "cell_type": "markdown",
   "id": "a91e330d",
   "metadata": {},
   "source": [
    "## Exercício 02: Fatiamento de Lista de Funcionários\n",
    "Dada uma lista de nomes de funcionários `funcionarios = [\"Ana\", \"Marcos\", \"José\", \"Mariana\"]`, obtenha uma sublista com os nomes do segundo ao quarto funcionario e imprima essa sublista."
   ]
  },
  {
   "cell_type": "code",
   "execution_count": 12,
   "id": "f3eceb82",
   "metadata": {},
   "outputs": [
    {
     "name": "stdout",
     "output_type": "stream",
     "text": [
      "['Marcos', 'Felipe', 'José']\n"
     ]
    }
   ],
   "source": [
    "funcionarios = [\"Ana\", \"Marcos\", \"Felipe\", \"José\", \"Mariana\"]\n",
    "sublista_funcionarios = funcionarios[1:4]\n",
    "print(sublista_funcionarios)"
   ]
  },
  {
   "cell_type": "markdown",
   "id": "d3462a20",
   "metadata": {},
   "source": [
    "## Exercício 03: Convertendo Lista em Dicionário\n",
    "Dada uma lista de pares representando funcionários e seus respectivos departamentos `pares = [(\"Ana\", \"Vendas\"), (\"Luís\", \"TI\"), (\"Clara\", \"RH\")]`, converta esta lista em um dicionário onde as chaves são os nomes dos funcionários e os valores são seus departamentos."
   ]
  },
  {
   "cell_type": "code",
   "execution_count": 11,
   "id": "a782b888",
   "metadata": {},
   "outputs": [
    {
     "data": {
      "text/plain": [
       "{'Ana': 'Vendas', 'Luís': 'TI', 'Clara': 'RH'}"
      ]
     },
     "execution_count": 11,
     "metadata": {},
     "output_type": "execute_result"
    }
   ],
   "source": [
    "pares = [(\"Ana\", \"Vendas\"), (\"Luís\", \"TI\"), (\"Clara\", \"RH\")]\n",
    "\n",
    "dict(pares)"
   ]
  },
  {
   "cell_type": "markdown",
   "id": "dfe90dd4",
   "metadata": {},
   "source": [
    "## Exercício 04: Atualizando Lista de Contatos\n",
    "Uma empresa mantém uma lista de emails de contatos em uma lista Python. Adicione um novo contato \"novo.contato@empresa.com\" à lista `emails = [\"contato1@empresa.com\", \"contato2@empresa.com\"]`, e remova \"contato1@empresa.com\"."
   ]
  },
  {
   "cell_type": "code",
   "execution_count": 7,
   "id": "b13dc028",
   "metadata": {},
   "outputs": [
    {
     "name": "stdout",
     "output_type": "stream",
     "text": [
      "['contato2@empresa.com', 'novo.contato@empresa.com']\n"
     ]
    }
   ],
   "source": [
    "emails = [\"contato1@empresa.com\", \"contato2@empresa.com\"]\n",
    "emails.append(\"novo.contato@empresa.com\")\n",
    "emails.remove(\"contato1@empresa.com\")\n",
    "\n",
    "print(emails)"
   ]
  },
  {
   "cell_type": "markdown",
   "id": "02153de6",
   "metadata": {},
   "source": [
    "## Exercício 05: Contagem de Itens Vendidos\n",
    "Após uma promoção, uma empresa registrou os itens vendidos em uma lista `itens_vendidos = [\"caneta\", \"lápis\", \"caneta\", \"borracha\", \"lápis\", \"caneta\"]`. Conte quantas vezes cada item foi vendido e armazene os resultados em um dicionário."
   ]
  },
  {
   "cell_type": "code",
   "execution_count": 10,
   "id": "c52afabf",
   "metadata": {},
   "outputs": [
    {
     "name": "stdout",
     "output_type": "stream",
     "text": [
      "{'caneta': 2, 'lápis': 2, 'borracha': 1}\n"
     ]
    }
   ],
   "source": [
    "itens_vendidos = [\"caneta\", \"lápis\", \"borracha\", \"lápis\", \"caneta\"]\n",
    "\n",
    "qtd_canetas = itens_vendidos.count(\"caneta\")\n",
    "qtd_lapis = itens_vendidos.count(\"lápis\")\n",
    "qtd_borracha = itens_vendidos.count(\"borracha\")\n",
    "\n",
    "contagem_itens = {\n",
    "    \"caneta\": qtd_canetas,\n",
    "    \"lápis\": qtd_lapis,\n",
    "    \"borracha\": qtd_borracha\n",
    "}\n",
    "\n",
    "print(contagem_itens)"
   ]
  }
 ],
 "metadata": {
  "kernelspec": {
   "display_name": ".venv",
   "language": "python",
   "name": "python3"
  },
  "language_info": {
   "codemirror_mode": {
    "name": "ipython",
    "version": 3
   },
   "file_extension": ".py",
   "mimetype": "text/x-python",
   "name": "python",
   "nbconvert_exporter": "python",
   "pygments_lexer": "ipython3",
   "version": "3.12.3"
  }
 },
 "nbformat": 4,
 "nbformat_minor": 5
}
