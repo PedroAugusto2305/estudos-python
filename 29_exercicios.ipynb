{
 "cells": [
  {
   "cell_type": "markdown",
   "id": "dacbd2e0",
   "metadata": {},
   "source": [
    "# Exercícios\n",
    "\n",
    "## Exercício 01\n",
    "Crie uma classe `Cliente` para um e-commerce que armazene o nome do cliente, seu email e compras realizadas (uma lista de valores, inicializada vazia - não é parâmetro do método de inicialização). A classe deve ter métodos para adicionar uma nova compra e calcular o total gasto."
   ]
  },
  {
   "cell_type": "code",
   "execution_count": 54,
   "id": "c343cf14",
   "metadata": {},
   "outputs": [],
   "source": [
    "class Cliente:\n",
    "    def __init__(self, nome, email):\n",
    "        self.nome = nome\n",
    "        self.email = email\n",
    "        self.compras = []\n",
    "\n",
    "    def adicionar_compra(self, compra):\n",
    "        self.compras.append(compra)\n",
    "        \n",
    "\n",
    "    def total_gasto(self):\n",
    "        return sum(self.compras)"
   ]
  },
  {
   "cell_type": "code",
   "execution_count": 55,
   "id": "c6c0b7a9",
   "metadata": {},
   "outputs": [
    {
     "name": "stdout",
     "output_type": "stream",
     "text": [
      "[10, 10, 10]\n"
     ]
    },
    {
     "data": {
      "text/plain": [
       "30"
      ]
     },
     "execution_count": 55,
     "metadata": {},
     "output_type": "execute_result"
    }
   ],
   "source": [
    "cliente1 = Cliente(\"Pedro\", \"pedro@email.com\")\n",
    "\n",
    "cliente1.adicionar_compra(10)\n",
    "cliente1.adicionar_compra(10)\n",
    "cliente1.adicionar_compra(10)\n",
    "\n",
    "print(cliente1.compras)\n",
    "cliente1.total_gasto()"
   ]
  },
  {
   "cell_type": "markdown",
   "id": "de36e876",
   "metadata": {},
   "source": [
    "## Exercício 02\n",
    "\n",
    "Crie uma classe `AnaliseVendas` que armazene os dados de vendas mensais (uma lista de números, inicializada vazia - não é parâmetro do método de inicialização). A classe deve ter métodos para adicionar vendas, calcular a média e encontrar o mẽs com a maior venda."
   ]
  },
  {
   "cell_type": "code",
   "execution_count": 56,
   "id": "2dda6d2e",
   "metadata": {},
   "outputs": [],
   "source": [
    "class AnaliseVendas:\n",
    "    def __init__(self):\n",
    "        self.vendas = []\n",
    "\n",
    "    def adicionar_vendas(self, venda):\n",
    "        self.vendas.append(venda)\n",
    "\n",
    "    def calcular_media(self):\n",
    "        media = 0\n",
    "        try:\n",
    "            media = sum(self.vendas) / len(self.vendas)\n",
    "        except ZeroDivisionError:\n",
    "            pass\n",
    "        return media\n",
    "\n",
    "    def mes_maior_venda(self):\n",
    "        if not self.vendas:\n",
    "            return \"Não há vendas\"\n",
    "        \n",
    "        return self.vendas.index(max(self.vendas)) + 1\n"
   ]
  },
  {
   "cell_type": "code",
   "execution_count": 57,
   "id": "5cab1f57",
   "metadata": {},
   "outputs": [],
   "source": [
    "analise = AnaliseVendas()"
   ]
  },
  {
   "cell_type": "code",
   "execution_count": 58,
   "id": "d1591afa",
   "metadata": {},
   "outputs": [],
   "source": [
    "analise.adicionar_vendas(1000)\n",
    "analise.adicionar_vendas(1500)\n",
    "analise.adicionar_vendas(2000)"
   ]
  },
  {
   "cell_type": "code",
   "execution_count": 59,
   "id": "103862dd",
   "metadata": {},
   "outputs": [
    {
     "data": {
      "text/plain": [
       "[1000, 1500, 2000]"
      ]
     },
     "execution_count": 59,
     "metadata": {},
     "output_type": "execute_result"
    }
   ],
   "source": [
    "analise.vendas"
   ]
  },
  {
   "cell_type": "code",
   "execution_count": 60,
   "id": "c0085d9b",
   "metadata": {},
   "outputs": [
    {
     "data": {
      "text/plain": [
       "1500.0"
      ]
     },
     "execution_count": 60,
     "metadata": {},
     "output_type": "execute_result"
    }
   ],
   "source": [
    "analise.calcular_media()"
   ]
  },
  {
   "cell_type": "code",
   "execution_count": 61,
   "id": "bcd90ac3",
   "metadata": {},
   "outputs": [
    {
     "data": {
      "text/plain": [
       "3"
      ]
     },
     "execution_count": 61,
     "metadata": {},
     "output_type": "execute_result"
    }
   ],
   "source": [
    "analise.mes_maior_venda()"
   ]
  }
 ],
 "metadata": {
  "kernelspec": {
   "display_name": ".venv",
   "language": "python",
   "name": "python3"
  },
  "language_info": {
   "codemirror_mode": {
    "name": "ipython",
    "version": 3
   },
   "file_extension": ".py",
   "mimetype": "text/x-python",
   "name": "python",
   "nbconvert_exporter": "python",
   "pygments_lexer": "ipython3",
   "version": "3.12.3"
  }
 },
 "nbformat": 4,
 "nbformat_minor": 5
}
