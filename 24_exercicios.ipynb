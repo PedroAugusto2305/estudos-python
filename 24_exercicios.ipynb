{
  "cells": [
    {
      "cell_type": "markdown",
      "metadata": {
        "id": "1BWeH1wtOVnb"
      },
      "source": [
        "# Exercício 1\n",
        "\n",
        "Dada uma lista de produtos vendidos `produtos_vendidos` e um dicionário `estoque` representando a quantidade de cada produto em estoque, verifique quais produtos estão esgotados após as vendas."
      ]
    },
    {
      "cell_type": "code",
      "execution_count": 9,
      "metadata": {
        "id": "CzRHAT0VOVnd"
      },
      "outputs": [],
      "source": [
        "# dados para questão\n",
        "produtos_vendidos = [\"caneta\", \"lápis\", \"caneta\", \"borracha\"]\n",
        "estoque = {\"caneta\": 2, \"lápis\": 2, \"borracha\": 1}"
      ]
    },
    {
      "cell_type": "code",
      "execution_count": 10,
      "metadata": {
        "id": "x-Mp6sAxOVne"
      },
      "outputs": [
        {
          "name": "stdout",
          "output_type": "stream",
          "text": [
            "['caneta', 'borracha']\n"
          ]
        }
      ],
      "source": [
        "for produto in produtos_vendidos:\n",
        "    estoque[produto] -= 1\n",
        "\n",
        "esgotados = [produto for produto, quantidade in estoque.items() if quantidade == 0]\n",
        "print(esgotados)"
      ]
    },
    {
      "cell_type": "markdown",
      "metadata": {
        "id": "1u4wHVNqOVne"
      },
      "source": [
        "# Exercício 2"
      ]
    },
    {
      "cell_type": "markdown",
      "metadata": {
        "id": "Oc3knV4eOVne"
      },
      "source": [
        "Dado um parágrafo `paragrafo`, conte quantas vezes cada palavra única aparece. Ignore a diferença entre maiúsculas e minúsculas."
      ]
    },
    {
      "cell_type": "code",
      "execution_count": 20,
      "metadata": {
        "id": "HCm_E5R5OVne"
      },
      "outputs": [
        {
          "data": {
            "text/plain": [
              "['um',\n",
              " 'cientista',\n",
              " 'de',\n",
              " 'dados',\n",
              " 'precisa',\n",
              " 'ter',\n",
              " 'uma',\n",
              " 'boa',\n",
              " 'base',\n",
              " 'técnica',\n",
              " 'dados',\n",
              " 'são',\n",
              " 'importantes']"
            ]
          },
          "execution_count": 20,
          "metadata": {},
          "output_type": "execute_result"
        }
      ],
      "source": [
        "# parágrafo para a questão\n",
        "paragrafo = \"Um cientista de dados precisa ter uma boa base técnica. Dados são importantes.\"\n",
        "\n",
        "paragrafo = paragrafo.lower().replace(\".\", \"\")\n",
        "palavras = paragrafo.split()\n",
        "palavras"
      ]
    },
    {
      "cell_type": "code",
      "execution_count": 22,
      "metadata": {
        "id": "bQXLtTgfOVne"
      },
      "outputs": [
        {
          "name": "stdout",
          "output_type": "stream",
          "text": [
            "{'um': 1, 'cientista': 1, 'de': 1, 'dados': 2, 'precisa': 1, 'ter': 1, 'uma': 1, 'boa': 1, 'base': 1, 'técnica': 1, 'são': 1, 'importantes': 1}\n"
          ]
        }
      ],
      "source": [
        "contagem_palavras = {}\n",
        "\n",
        "for palavra in palavras:\n",
        "    if palavra in contagem_palavras:\n",
        "        contagem_palavras[palavra] += 1\n",
        "    else:\n",
        "        contagem_palavras[palavra] = 1\n",
        "\n",
        "print(contagem_palavras)"
      ]
    },
    {
      "cell_type": "markdown",
      "metadata": {
        "id": "0syBIeoCOVne"
      },
      "source": [
        "# Exercício 3"
      ]
    },
    {
      "cell_type": "markdown",
      "metadata": {
        "id": "MCgbITfzOVnf"
      },
      "source": [
        " Dado um parágrafo de avaliações de clientes sobre um produto, conte quantas vezes as palavras \"bom\" e \"ruim\" aparecem. Suponha que o texto seja uma string longa e que \"bom\"/\"ruim\" possam aparecer em diferentes variações de maiúsculas e minúsculas.\n",
        "\n",
        "Restrição: utilize loop `while`.\n",
        "\n",
        "Dica: o método `pop` de listas pode ser útil para este exercício."
      ]
    },
    {
      "cell_type": "code",
      "execution_count": 28,
      "metadata": {
        "id": "iHPwvXMCOVnf"
      },
      "outputs": [
        {
          "name": "stdout",
          "output_type": "stream",
          "text": [
            "'Bom' aparece 2 vezes e 'Ruim' aparece 2 vezes\n"
          ]
        }
      ],
      "source": [
        "paragrafo = \"O produto é muito Bom. Alguns clientes acharam bom, mas outros acharam ruim. Não é tão ruim.\"\n",
        "paragrafo = paragrafo.lower().replace(\".\", \"\").replace(\",\", \"\")\n",
        "\n",
        "bom_contagem = 0\n",
        "ruim_contagem = 0\n",
        "\n",
        "palavras = paragrafo.split()\n",
        "\n",
        "while palavras:\n",
        "    palavra = palavras.pop()\n",
        "    if palavra == \"bom\":\n",
        "        bom_contagem += 1\n",
        "    elif palavra == \"ruim\":\n",
        "        ruim_contagem += 1\n",
        "\n",
        "print(f\"'Bom' aparece {bom_contagem} vezes e 'Ruim' aparece {ruim_contagem} vezes\")"
      ]
    },
    {
      "cell_type": "markdown",
      "metadata": {
        "id": "w5bfkV8nOVnf"
      },
      "source": [
        "## Exercício 4"
      ]
    },
    {
      "cell_type": "markdown",
      "metadata": {
        "id": "DoR3KngLOVnf"
      },
      "source": [
        "Dada uma lista de valores `valores = [10, 20, 0, -10, 30]`, normalize os valores para que eles estejam no intervalo de 0 a 1."
      ]
    },
    {
      "cell_type": "code",
      "execution_count": 31,
      "metadata": {
        "id": "0aLFUpoNOVnf"
      },
      "outputs": [
        {
          "name": "stdout",
          "output_type": "stream",
          "text": [
            "[0.5, 0.75, 0.25, 0.0, 1.0]\n"
          ]
        }
      ],
      "source": [
        "valores = [10, 20, 0, -10, 30]\n",
        "\n",
        "min_val = min(valores)\n",
        "max_val = max(valores)\n",
        "\n",
        "valores_normalizados = [(valor - min_val) / (max_val - min_val) for valor in valores]\n",
        "print(valores_normalizados)"
      ]
    },
    {
      "cell_type": "markdown",
      "metadata": {
        "id": "bzCb0qo3OVng"
      },
      "source": [
        "# Exercício 5\n",
        "\n",
        "Dada uma lista de vendas diárias de uma empresa, `vendas = [1200, 1500, None, 1800, '2000', 'erro']`, calcule a soma total das vendas, ignorando tipos não numéricos quando estes não possam ser transformados em numéricos.\n",
        "\n",
        "Dica: pesquise sobre `continue`."
      ]
    },
    {
      "cell_type": "code",
      "execution_count": 35,
      "metadata": {
        "id": "qCxnozAPOVng"
      },
      "outputs": [
        {
          "name": "stdout",
          "output_type": "stream",
          "text": [
            "Total de vendas: 6500\n"
          ]
        }
      ],
      "source": [
        "vendas = [1200, 1500, None, 1800, '2000', 'erro']\n",
        "\n",
        "total = 0\n",
        "\n",
        "for valor in vendas:\n",
        "    try:\n",
        "        total += int(valor)\n",
        "    except (TypeError, ValueError):\n",
        "        continue\n",
        "\n",
        "print(f\"Total de vendas: {total}\")"
      ]
    },
    {
      "cell_type": "markdown",
      "metadata": {
        "id": "ZBhJwxeOOVng"
      },
      "source": [
        "# Exercício 6\n",
        "\n",
        "Quando estávamos aprendendo dicionários e formatação de strings, desenvolvemos o código da célula a seguir. Simplifique o código com o uso de loop `for`."
      ]
    },
    {
      "cell_type": "code",
      "execution_count": 14,
      "metadata": {
        "id": "GUprYOdCOVng",
        "outputId": "c2549579-17cf-40c8-fcb2-a44df7a30579"
      },
      "outputs": [
        {
          "name": "stdout",
          "output_type": "stream",
          "text": [
            "      Nome       | Idade  |     Empresa    \n",
            "---------------- | ------ | ---------------\n",
            "Bill Gates       |   68   |       Microsoft\n",
            "Elon Musk        |   52   |               X\n",
            "Mark Zuckerberg  |   39   |        Facebook\n"
          ]
        }
      ],
      "source": [
        "pessoas = {\n",
        "    \"bill\": {\"nome\": \"Bill Gates\", \"idade\": 68, \"empresa\": \"Microsoft\"},\n",
        "    \"elon\": {\"nome\": \"Elon Musk\", \"idade\": 52, \"empresa\": \"X\"},\n",
        "    \"mark\": {\"nome\": \"Mark Zuckerberg\", \"idade\": 39, \"empresa\": \"Facebook\"},\n",
        "}\n",
        "\n",
        "print(f\"{'Nome':^16} | {'Idade':^6} | {'Empresa':^15}\")\n",
        "print(f\"{'-'*16} | {'-'*6} | {'-'*15}\")\n",
        "print(f\"{pessoas['bill']['nome']:<16} | {pessoas['bill']['idade']:^6} | {pessoas['bill']['empresa']:>15}\")\n",
        "print(f\"{pessoas['elon']['nome']:<16} | {pessoas['elon']['idade']:^6} | {pessoas['elon']['empresa']:>15}\")\n",
        "print(f\"{pessoas['mark']['nome']:<16} | {pessoas['mark']['idade']:^6} | {pessoas['mark']['empresa']:>15}\")"
      ]
    },
    {
      "cell_type": "code",
      "execution_count": 38,
      "metadata": {
        "id": "v1ROc1x-OVng"
      },
      "outputs": [
        {
          "name": "stdout",
          "output_type": "stream",
          "text": [
            "      Nome       | Idade  |     Empresa    \n",
            "---------------- | ------ | ---------------\n",
            "Bill Gates       |   68   |       Microsoft\n",
            "Elon Musk        |   52   |               X\n",
            "Mark Zuckerberg  |   39   |        Facebook\n"
          ]
        }
      ],
      "source": [
        "print(f\"{'Nome':^16} | {'Idade':^6} | {'Empresa':^15}\")\n",
        "print(f\"{'-'*16} | {'-'*6} | {'-'*15}\")\n",
        "\n",
        "for pessoa in pessoas:\n",
        "    dados = pessoas[pessoa]\n",
        "    print(f\"{dados['nome']:<16} | {dados['idade']:^6} | {dados['empresa']:>15}\")\n"
      ]
    }
  ],
  "metadata": {
    "colab": {
      "provenance": []
    },
    "kernelspec": {
      "display_name": ".venv",
      "language": "python",
      "name": "python3"
    },
    "language_info": {
      "codemirror_mode": {
        "name": "ipython",
        "version": 3
      },
      "file_extension": ".py",
      "mimetype": "text/x-python",
      "name": "python",
      "nbconvert_exporter": "python",
      "pygments_lexer": "ipython3",
      "version": "3.12.3"
    }
  },
  "nbformat": 4,
  "nbformat_minor": 0
}
