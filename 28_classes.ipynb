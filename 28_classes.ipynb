{
 "cells": [
  {
   "cell_type": "markdown",
   "id": "96de332c",
   "metadata": {},
   "source": [
    "# Classes\n",
    "\n",
    "## o que é uma Classe\n",
    "\n",
    "Uma classe pode ser pensada como um \"modelo\" ou \"plano\" para criar objetos. Um objeto é uma instância de uma classe, contendo dados reais. Imagine a classe como um formulário: cada objeto criado a partir dessa classe é como um formulário preenchido.\n",
    "\n",
    "## Componentes de uma Classe\n",
    "\n",
    "- **Atributos**: São variáveis que armazenam dados relacionados à classe. Eles representam as características do objeto. Por exemplo, em uma classe `Carro`, os atributos podem ser `marca`, `modelo` e `ano`.\n",
    "- **Métodos:** São funções definidas dentro de uma classe. Eles descrevem os comportamentos ou ações que os objetos da classe podem realizar. Por exemplo um método `acelerar` em uma classe `Carro` pode aumentar a velocidade do carro.\n",
    "\n",
    "\n",
    "## Por que usar Classes\n",
    "\n",
    "1. **Organização:** As classes ajudam a organizar o código em programas maiores. Elas permitem agrupar dados e funcionalidades relacionadas, tornando o código mais modular e fácil de entender.\n",
    "2. **Reutilização:** Uma vez definida, uma classe pode ser usada para criar muitos objetos. Isso evita a repetição de código e facilita a manutenção.\n",
    "3. **Abstração:** Classes permitem abstrair e simplificar problemas complexos, modelando entidades do mundo real ou conceitos.\n",
    "\n",
    "## Nomeando Classes\n",
    "\n",
    "Por convenção, os nomes de classes em Python começam com uma letra maiúscula. Se o nome da classe for composto por várias palavras, cada palavra deve começar com uma letra maiúscula (PascalCase). Por exemplo: `Carro`, `Pessoa`, `ContaBancaria`.\n",
    "\n",
    "### Exemplos simples\n",
    "\n",
    "Vamos considerar um exemplo simples de uma classe `Carro`:\n",
    "\n",
    "```py\n",
    "class Carro:\n",
    "    def __init__(self, marca, modelo, ano):\n",
    "        self.marca = marca\n",
    "        self.modelo = modelo\n",
    "        self.ano = ano\n",
    "    \n",
    "    def exibir_informacoes(self):\n",
    "        print(f\"Carro: {self.marca} {self.modelo}, Ano: {self.ano}\")\n",
    "```\n",
    "\n",
    "**Neste exemplo:** \n",
    "- **Carro** é a classe\n",
    "- **__init__** é um método especial chamado construtor, usado para inicializar (criar) um novo objeto a partir da classe `Carro`, com `marca`, `modelo` e `ano` como atributos.\n",
    "- **exibir_informacoes** é um método que imprime as informações do carro."
   ]
  },
  {
   "cell_type": "markdown",
   "id": "6ca9843d",
   "metadata": {},
   "source": [
    "## Criando e usando uma Classe"
   ]
  },
  {
   "cell_type": "code",
   "execution_count": 22,
   "id": "31da861f",
   "metadata": {},
   "outputs": [],
   "source": [
    "class Carro:\n",
    "    def __init__(self, marca, modelo, ano):\n",
    "        self.marca = marca\n",
    "        self.modelo = modelo\n",
    "        self.ano = ano\n",
    "\n",
    "    def exibir_informacoes(self):\n",
    "        print(f\"Carro: {self.marca} {self.modelo}, Ano: {self.ano}\")"
   ]
  },
  {
   "cell_type": "code",
   "execution_count": 23,
   "id": "7c079348",
   "metadata": {},
   "outputs": [
    {
     "name": "stdout",
     "output_type": "stream",
     "text": [
      "Carro: Toyota Corolla, Ano: 2020\n"
     ]
    }
   ],
   "source": [
    "corolla = Carro(\"Toyota\", \"Corolla\", 2020)\n",
    "corolla.exibir_informacoes()"
   ]
  },
  {
   "cell_type": "code",
   "execution_count": 24,
   "id": "5505f128",
   "metadata": {},
   "outputs": [
    {
     "data": {
      "text/plain": [
       "'Toyota'"
      ]
     },
     "execution_count": 24,
     "metadata": {},
     "output_type": "execute_result"
    }
   ],
   "source": [
    "corolla.marca"
   ]
  },
  {
   "cell_type": "code",
   "execution_count": 25,
   "id": "dd726896",
   "metadata": {},
   "outputs": [
    {
     "data": {
      "text/plain": [
       "'Corolla'"
      ]
     },
     "execution_count": 25,
     "metadata": {},
     "output_type": "execute_result"
    }
   ],
   "source": [
    "corolla.modelo"
   ]
  },
  {
   "cell_type": "code",
   "execution_count": 26,
   "id": "c35afc09",
   "metadata": {},
   "outputs": [
    {
     "data": {
      "text/plain": [
       "2020"
      ]
     },
     "execution_count": 26,
     "metadata": {},
     "output_type": "execute_result"
    }
   ],
   "source": [
    "corolla.ano"
   ]
  },
  {
   "cell_type": "markdown",
   "id": "d9bb0216",
   "metadata": {},
   "source": [
    "## Exemplos"
   ]
  },
  {
   "cell_type": "markdown",
   "id": "5e523cb1",
   "metadata": {},
   "source": [
    "Vamos considerar um exemplo de classe dentro de um contexto de vendas. Imagine que você esteja gerenciando um sistema de vendas para uma loja e precise de uma maneira eficiente de lidar com as informações de cada venda. Uma classe chamada `Venda` pode ser criada para representar cada transação individual.\n",
    "\n",
    "Neste exemplo:\n",
    "- A classe `Venda` tem quatro atributos: `id_venda`, `produto`, `quantidade` e `preco_unitario`\n",
    "- O método `__init__` é o construtor que inicializa um novo objeto `Venda` com os atributos fornecidos.\n",
    "- `calcular_total` é um método que calcula o valor total da venda.\n",
    "- `exibir_resumo` é um método que imprime um resumo da venda."
   ]
  },
  {
   "cell_type": "code",
   "execution_count": 30,
   "id": "a3268396",
   "metadata": {},
   "outputs": [],
   "source": [
    "class Venda:\n",
    "    \"\"\"Representa vendas de uma loja\"\"\"\n",
    "    def __init__(self, id_venda, produto, quantidade, preco_unitario):\n",
    "        \"\"\"Inicializa uma nova venda\n",
    "\n",
    "        Parameters\n",
    "        ----------\n",
    "        id_venda : int\n",
    "            Identificador da venda.\n",
    "        produto : str\n",
    "            Nome do produto.\n",
    "        quantidade : int\n",
    "            Quantidade do produto vendido.\n",
    "        preco_unitario : float\n",
    "            Preço unitário do produto vendido.\n",
    "        \"\"\"\n",
    "        self.id_venda = id_venda\n",
    "        self.produto = produto\n",
    "        self.quantidade = quantidade\n",
    "        self.preco_unitario = preco_unitario\n",
    "\n",
    "    def calcular_total(self):\n",
    "        return self.quantidade * self.preco_unitario\n",
    "\n",
    "    def exibir_resumo(self):\n",
    "        total = self.calcular_total()\n",
    "        print(f\"Venda {self.id_venda}: {self.quantidade}x {self.produto} a R$ {self.preco_unitario:.2f} cada. Total: R$ {total:.2f}\")"
   ]
  },
  {
   "cell_type": "code",
   "execution_count": 28,
   "id": "7bcb9625",
   "metadata": {},
   "outputs": [
    {
     "name": "stdout",
     "output_type": "stream",
     "text": [
      "Venda 1: 3x Camiseta a R$ 50.00 cada. Total: R$ 150.00\n"
     ]
    }
   ],
   "source": [
    "venda1 = Venda(1, \"Camiseta\", 3, 50.00)\n",
    "venda1.exibir_resumo()"
   ]
  },
  {
   "cell_type": "code",
   "execution_count": 29,
   "id": "79e80a8d",
   "metadata": {},
   "outputs": [
    {
     "name": "stdout",
     "output_type": "stream",
     "text": [
      "Venda 2: 2x Calça Jeans a R$ 120.00 cada. Total: R$ 240.00\n"
     ]
    }
   ],
   "source": [
    "venda2 = Venda(2, \"Calça Jeans\", 2, 120.00)\n",
    "venda2.exibir_resumo()"
   ]
  },
  {
   "cell_type": "markdown",
   "id": "e903ba00",
   "metadata": {},
   "source": [
    "## Classes vs Funções\n",
    "\n",
    "A decisão de usar classes ao invés de funções em Python, ou qualquer outra linguagem de programação, depende da natureza do problema que você está tentanto resolver e da estrutura do seu programa. Aqui estão alguns pontos para considerar ao fazer essa escolha:\n",
    "\n",
    "### Quando usar funções\n",
    "\n",
    "1. **Tarefas simples e diretas:** Use funções para tarefas que são relativamente simples e podem ser realizadas com algumas linhas de código.\n",
    "2. **Operações independentes:** Se a sua tarefa não está fortemente ligada a um objeto ou estado específico e pode ser realizada independentemente, uma função é a melhor escolha.\n",
    "3. **Procedimentos Stateless:** Funções são ideais para procedimentos que não precisam manter um estado entre chamadas.\n",
    "\n",
    "### Quando usar classes\n",
    "\n",
    "1. **Modelando Entidades Complexas:** Classes são úteis quando você está modelando entidades complexas que têm atributos e comportamentos, como objetos do mundo real (carros, animais, usuários, etc.).\n",
    "2. **Manutenção de Estado:** Use classes quando você precisa manter um estado entre operações. Objetos de classe podem manter um estado interno através de atributos.\n",
    "3. **Agrupando Funcionalidades Relacionadas:** Classes permitem agrupar funcionalidades que estão logicamente relacionadas. Por exemplo, métodos em uma classe `ContaBancaria` podem incluir `depositar`, `sacar` e `consultar_saldo`.\n",
    "4. **Reutilização e Extensão:** Classes facilitam a reutilização de código. Você pode criar classes base e estendê-las com subclasses, herdando e modificando comportamentos.\n",
    "5. **Encapsulamento:** Classes proporcionam encapsulamento, o que significa que você pode ocultar detalhes internos e expor apenas o que é necessário para o uso externo."
   ]
  },
  {
   "cell_type": "markdown",
   "id": "87ed66e3",
   "metadata": {},
   "source": [
    "### Exemplo Prático\n",
    "\n",
    "Considere um sistema de gerenciamento de vendas:\n",
    "\n",
    "- **Uso de Funções:** Se você apenas precisa calcular o total de uma venda ou aplicar um desconto, uma função simples seria suficiente.\n",
    "\n"
   ]
  },
  {
   "cell_type": "code",
   "execution_count": 31,
   "id": "03f62c9e",
   "metadata": {},
   "outputs": [],
   "source": [
    "def calcular_soma(vendas):\n",
    "    return sum(vendas)"
   ]
  },
  {
   "cell_type": "markdown",
   "id": "bc6166aa",
   "metadata": {},
   "source": [
    "- **Uso de Classes:** Se você está representando uma venda como uma entidade que possui várias propriedades e comportamentos (como itens de venda, cálculos de totais, aplicação de descontos, rastreamento de status), uma classe seria mais apropriada."
   ]
  },
  {
   "cell_type": "code",
   "execution_count": null,
   "id": "38f1499c",
   "metadata": {},
   "outputs": [],
   "source": [
    "class Venda:\n",
    "    def __init__(self, itens):\n",
    "        self.itens = itens\n",
    "\n",
    "    def calcular_total(self):\n",
    "        # código para calcular o total\n",
    "        pass"
   ]
  },
  {
   "cell_type": "markdown",
   "id": "63f39923",
   "metadata": {},
   "source": [
    "## Conclusão\n",
    "\n",
    "Escolher entre funções e classes depende de quão complexa é a tarefa e de como você quer estruturar o seu programa. Para operações simples e isoladas, funções são geralmente suficientes. Para modelar entidades complexas com atributos e comportamentos múltiplos e relacionados, classes são mais adequadas."
   ]
  }
 ],
 "metadata": {
  "kernelspec": {
   "display_name": ".venv",
   "language": "python",
   "name": "python3"
  },
  "language_info": {
   "codemirror_mode": {
    "name": "ipython",
    "version": 3
   },
   "file_extension": ".py",
   "mimetype": "text/x-python",
   "name": "python",
   "nbconvert_exporter": "python",
   "pygments_lexer": "ipython3",
   "version": "3.12.3"
  }
 },
 "nbformat": 4,
 "nbformat_minor": 5
}
