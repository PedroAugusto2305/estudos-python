{
 "cells": [
  {
   "cell_type": "markdown",
   "id": "72f01de9",
   "metadata": {},
   "source": [
    "# Módulos\n",
    "\n",
    "Um módulo em Python é simplesmente um arquivo contendo código Python. Pode incluir funções, classes e variáveis, bem como código executável. O conceito de módulo é importante porque permite a você organizar seu código de forma lógica e reutilizável.\n",
    "\n",
    "## Por que usar Módulos\n",
    "\n",
    "1. **Organização:** Módulos ajudam a organizar seu código em diferentes arquivos, tornando-o mais gerenciável e mais fácil de entender.\n",
    "2. **Reutilização:** Código escrito em um módulo pode ser facilmente reutilizado em diferentes partes do seu programa, ou até mesmo em outros programa. sem a necessidade de duplicação.\n",
    "3. **Espaço de Nomes:** Os módulos proporcionam uma forma de evitar conflitos de nomes em seu código. Funções ou variáveis com o mesmo nome podem existir em módulos diferentes sem causar confusão.\n",
    "\n",
    "## Criando um módulo\n",
    "\n",
    "Criar um módulo é tão simples quanto escrever um arquivo Python. por exemplo, você pode criar um arquivo chamado `meu_modulo.py` com algumas funções:\n",
    "\n",
    "```py\n",
    "# meu_modulo.py\n",
    "\n",
    "def cumprimentar(nome):\n",
    "    return f\"Olá, {nome}!\"\n",
    "\n",
    "def somar(a, b):\n",
    "    return a + b\n",
    "```"
   ]
  },
  {
   "cell_type": "markdown",
   "id": "ce97641d",
   "metadata": {},
   "source": [
    "## Usando um Módulo\n",
    "\n",
    "Para usar o módulo, você o importa em outro arquivo Python ou em um Jupyter Notebook usando a instrução `import`. Uma vez importado, você pode acessar as funções e variáveis definidas no módulo."
   ]
  },
  {
   "cell_type": "code",
   "execution_count": 1,
   "id": "2a9a485b",
   "metadata": {},
   "outputs": [
    {
     "name": "stdout",
     "output_type": "stream",
     "text": [
      "Olá, Ana!\n",
      "7\n"
     ]
    }
   ],
   "source": [
    "import meu_modulo\n",
    "\n",
    "print(meu_modulo.cumprimentar(\"Ana\"))\n",
    "print(meu_modulo.somar(3, 4))"
   ]
  },
  {
   "cell_type": "markdown",
   "id": "bc981aaf",
   "metadata": {},
   "source": [
    "## Importando de forma seletiva\n",
    "\n",
    "Você também pode escolher importar apenas partes específicas de um módulo, o que pode ser útil para economizar memória ou tornar o código mais claro:"
   ]
  },
  {
   "cell_type": "code",
   "execution_count": 2,
   "id": "96a8962d",
   "metadata": {},
   "outputs": [
    {
     "name": "stdout",
     "output_type": "stream",
     "text": [
      "Olá, Carlos!\n"
     ]
    }
   ],
   "source": [
    "from meu_modulo import cumprimentar\n",
    "\n",
    "print(cumprimentar(\"Carlos\"))"
   ]
  },
  {
   "cell_type": "markdown",
   "id": "dbb4e9c9",
   "metadata": {},
   "source": [
    "## Módulos da Biblioteca Padrão\n",
    "\n",
    "Python vem com uma vasta biblioteca padrão de módulos que realizam uma variedade de tarefas, desde manipulação de arquivos e expressões regulares até acesso à rede e desenvolvimento web.\n",
    "\n",
    "## Módulos de Terceiros\n",
    "\n",
    "Além dos módulos da biblioteca padrão, você também pode instalar módulos de terceiros usando o gerenciador de pacotes `pip`. Por exemplo, para instalar o módulo `pandas`, você pode usar o seguinte comando:"
   ]
  },
  {
   "cell_type": "code",
   "execution_count": null,
   "id": "6945d685",
   "metadata": {
    "vscode": {
     "languageId": "shellscript"
    }
   },
   "outputs": [],
   "source": [
    "pip install pandas"
   ]
  },
  {
   "cell_type": "code",
   "execution_count": null,
   "id": "adab85fa",
   "metadata": {},
   "outputs": [],
   "source": []
  }
 ],
 "metadata": {
  "kernelspec": {
   "display_name": ".venv",
   "language": "python",
   "name": "python3"
  },
  "language_info": {
   "codemirror_mode": {
    "name": "ipython",
    "version": 3
   },
   "file_extension": ".py",
   "mimetype": "text/x-python",
   "name": "python",
   "nbconvert_exporter": "python",
   "pygments_lexer": "ipython3",
   "version": "3.12.3"
  }
 },
 "nbformat": 4,
 "nbformat_minor": 5
}
