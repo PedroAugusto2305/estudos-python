{
 "cells": [
  {
   "cell_type": "markdown",
   "id": "8691077e",
   "metadata": {},
   "source": [
    "# Exercícios"
   ]
  },
  {
   "cell_type": "markdown",
   "id": "a23da76b",
   "metadata": {},
   "source": [
    "## Exercício 01\n",
    "Defina uma variável com o valor de 1500,00 referente a uma venda. Em seguida, guarde o valor da comissão de 5% sobre o valor em outra variável."
   ]
  },
  {
   "cell_type": "code",
   "execution_count": 1,
   "id": "48078633",
   "metadata": {},
   "outputs": [],
   "source": [
    "salario_venda = 1500.0\n",
    "comissao = 0.05"
   ]
  },
  {
   "cell_type": "markdown",
   "id": "19b71ce1",
   "metadata": {},
   "source": [
    "## Exercício 02\n",
    "Com o valor da venda e da comissão definidos no exercício anterior, calcule o valor final bruto que o vendedor irá receber, sabendo que seu salário base é 1450,00. Guarde o resultado em uma variável. Com `print`, o texto \"O valor final bruto que o vendedor irá receber é R$ x\" onde `x` é o valor final."
   ]
  },
  {
   "cell_type": "code",
   "execution_count": 2,
   "id": "11c6e102",
   "metadata": {},
   "outputs": [
    {
     "name": "stdout",
     "output_type": "stream",
     "text": [
      "O valor final bruto que o vendedor irá receber é R$ 1525.0\n"
     ]
    }
   ],
   "source": [
    "salario_base = 1450.0\n",
    "valor_final_bruto = (salario_venda * comissao) + salario_base\n",
    "print(\"O valor final bruto que o vendedor irá receber é R$\", valor_final_bruto)"
   ]
  },
  {
   "cell_type": "markdown",
   "id": "1f5782f7",
   "metadata": {},
   "source": [
    "## Exercício 03\n",
    "Considerando que o valor bruto indicará 15% de impostos e contribuições, crie uma variável que calcule o valor a ser pago de imposto. Com `print`, o texto \"O valor a ser pago de imposto é R$ x\" onde `x` é o valor calculado.\n",
    "Em outra variável, calcule o valor líquido que o vendedor irá receber. Com `print`, o texto \"O valor líquido que o vendedor irá receber é R$ x\" onde `x` é o valor calculado."
   ]
  },
  {
   "cell_type": "code",
   "execution_count": 3,
   "id": "4e98f1ed",
   "metadata": {},
   "outputs": [
    {
     "name": "stdout",
     "output_type": "stream",
     "text": [
      "O valor líquido que o vendedor irá receber é R$ 1296.25\n"
     ]
    }
   ],
   "source": [
    "impostos = 0.15\n",
    "valor_pago_em_impostos = valor_final_bruto * impostos\n",
    "\n",
    "salario_liquido = valor_final_bruto - valor_pago_em_impostos\n",
    "\n",
    "print(\"O valor líquido que o vendedor irá receber é R$\", salario_liquido)"
   ]
  },
  {
   "cell_type": "markdown",
   "id": "5b84c758",
   "metadata": {},
   "source": [
    "## Exercício 04\n",
    "Compare o valor líquido (com o operador `>` ou com o `<`) com o valor do salário mínimo vigente (no momento, R$ 1518,00)."
   ]
  },
  {
   "cell_type": "code",
   "execution_count": 4,
   "id": "82f7d86d",
   "metadata": {},
   "outputs": [
    {
     "data": {
      "text/plain": [
       "True"
      ]
     },
     "execution_count": 4,
     "metadata": {},
     "output_type": "execute_result"
    }
   ],
   "source": [
    "salario_minimo = 1412\n",
    "\n",
    "salario_liquido < salario_minimo"
   ]
  },
  {
   "cell_type": "markdown",
   "id": "b2054115",
   "metadata": {},
   "source": [
    "## Exercício 05\n",
    "Considere que o funcionário em questão tem 3 anos de empresa. A empresa tem uma política de auxílio mercado para o funcionario com mais de 2 anos de empresa e que recebem menos de um salário mínimo como valor líquido após impostos. Escreva, com o uso de operadores lógicos, uma expressão que indique se o funcionário tem direito ao auxílio mercado."
   ]
  },
  {
   "cell_type": "code",
   "execution_count": 5,
   "id": "72682e25",
   "metadata": {},
   "outputs": [
    {
     "data": {
      "text/plain": [
       "True"
      ]
     },
     "execution_count": 5,
     "metadata": {},
     "output_type": "execute_result"
    }
   ],
   "source": [
    "anos_de_empresa = 3\n",
    "anos_para_receber_auxilio = 2\n",
    "\n",
    "(anos_de_empresa > anos_para_receber_auxilio) and (salario_liquido < salario_minimo)"
   ]
  }
 ],
 "metadata": {
  "kernelspec": {
   "display_name": ".venv",
   "language": "python",
   "name": "python3"
  },
  "language_info": {
   "codemirror_mode": {
    "name": "ipython",
    "version": 3
   },
   "file_extension": ".py",
   "mimetype": "text/x-python",
   "name": "python",
   "nbconvert_exporter": "python",
   "pygments_lexer": "ipython3",
   "version": "3.12.3"
  }
 },
 "nbformat": 4,
 "nbformat_minor": 5
}
