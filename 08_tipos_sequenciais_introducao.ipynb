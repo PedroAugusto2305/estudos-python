{
 "cells": [
  {
   "cell_type": "markdown",
   "id": "ae6d6784",
   "metadata": {},
   "source": [
    "# Tipos Sequenciais\n",
    "\n",
    "Em Python, os tipos de dados sequenciais são usados para armazenar coleções de itens. Os principais tipos sequenciais são:\n",
    "\n",
    "1. **Listas (Lists):** São coleções ordenadas e mutáveis que podem conter elementos de diferentes tipos. As listas são definidas com colchetes `[]`. Exemplo: `minha_lista = [0, 1, \"dois\", 3.0]`\n",
    "2. **Tuplas (Tuples):** São coleções ordenadas e imutáveis. Tuplas são definidas com parênteses `()`. Exemplo: `minha_tupla = (0, 1, 'dois, 3.0)`.\n",
    "3. **Strings (Strings):** São sequências de caracteres. Apesar de poderem ser tratadas como sequências de caracteres (sendo imutáveis), elas são comumente usadas para armazenar texto. Exemplo: `minha_string = \"Olá, mundo!\"`.\n",
    "\n",
    "Cada um desses tipos tem suas próprias características e usos específicos. Listas e tuplas podem conter qualquer tipo de objeto. Já strings são usadas para texto.\n",
    "\n",
    "Além disso, sequências em Python suportam operações comuns como indexação, slicing (fatiamento) e iteração. Eles também suportam funções integradas como `len()` para tamanho, `min()` e `max()` para valores mínimo e máximo e `in` para verificar a existência de um elemento dentro da sequência."
   ]
  }
 ],
 "metadata": {
  "kernelspec": {
   "display_name": ".venv",
   "language": "python",
   "name": "python3"
  },
  "language_info": {
   "name": "python",
   "version": "3.12.3"
  }
 },
 "nbformat": 4,
 "nbformat_minor": 5
}
