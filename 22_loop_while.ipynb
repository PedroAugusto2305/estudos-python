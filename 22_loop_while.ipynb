{
 "cells": [
  {
   "cell_type": "markdown",
   "id": "f6ada942",
   "metadata": {},
   "source": [
    "# Loop while\n",
    "O loop `while` em Python é uma estrutura de controle que permite executar repetidamente um bloco de código enquanto uma determinada condição é verdadeira.\n",
    "\n",
    "1. **Conceito Básico:** O loop `while` continua a executar um bloco de código enquanto a condição especificada no início do loop permanecer verdadeira. Assim que essa condição se torna falsa, o loop é encerrado e o programa continua com a próxima linha de código após o bloco do loop.\n",
    "2. **Sintaxe do Loop while:**\n",
    "    ```py\n",
    "    while condicao:\n",
    "        # bloco de código\n",
    "    ```\n",
    "    Aqui, `condicao` é uma expressão que resulta em `True` ou `False`. Enquanto for `True`, o bloco de código dentro do loop continuará a ser executado.\n",
    "3. **Exemplo Prático:** Suponha que você esteja gerenciando um inventário e queira reduzir a quantidade de um produto específico até que ele atinja um certo nível mínimo."
   ]
  },
  {
   "cell_type": "code",
   "execution_count": 1,
   "id": "5f317bb5",
   "metadata": {},
   "outputs": [
    {
     "name": "stdout",
     "output_type": "stream",
     "text": [
      "Produto no estoque: 10\n",
      "Produto no estoque: 9\n",
      "Produto no estoque: 8\n",
      "Produto no estoque: 7\n",
      "Produto no estoque: 6\n",
      "Precisamos reabastecer o estoque!\n"
     ]
    }
   ],
   "source": [
    "quantidade = 10\n",
    "quantidade_minima = 5\n",
    "\n",
    "while quantidade > quantidade_minima:\n",
    "    print(\"Produto no estoque:\", quantidade)\n",
    "    # Imagine aqui que ocorre uma venda\n",
    "    quantidade -= 1 # Isso reduz a quantidade em 1\n",
    "\n",
    "print(\"Precisamos reabastecer o estoque!\")"
   ]
  },
  {
   "cell_type": "markdown",
   "id": "8b9994b3",
   "metadata": {},
   "source": [
    "4. **Cuidados Importantes:**\n",
    "    - **Condição de Saída:** É crucial que o loop `while` tenha uma condição que eventualmente se torne falsa. Caso contrário, você pode acabar com um loop infinito, onde o código nunca sai do loop.\n",
    "    - **Alteração da Condição Dentro do Loop:** Dentro do loop, você deve alterar uma ou mais variáveis que afetam a condição do loop. Se a condição nunca mudar, o loop nunca terminará.\n",
    "5. **Quando usar:** O loop `while` é especialmente útil quando você não sabe de antemão quantas vezes precisa executar o loop, mas sabe sob quais condições o loop deve continuar ou parar."
   ]
  },
  {
   "cell_type": "markdown",
   "id": "a8794b67",
   "metadata": {},
   "source": [
    "## Exemplo 01\n",
    "Uma empresa deseja monitorar se a meta de vendas mensal de `R$50.000` foi alcançada. À medida que as vendas são registradas, a partir de input do usuário, o sistema deve atualizar e verificar se a meta foi atingida."
   ]
  },
  {
   "cell_type": "code",
   "execution_count": null,
   "id": "90b6ef1e",
   "metadata": {},
   "outputs": [
    {
     "name": "stdout",
     "output_type": "stream",
     "text": [
      "Total de vendas atual: R$ 10000.00\n",
      "Total de vendas atual: R$ 30000.00\n",
      "Total de vendas atual: R$ 40000.00\n",
      "Total de vendas atual: R$ 50000.00\n",
      "Meta de vendas alcançada!!\n"
     ]
    }
   ],
   "source": [
    "meta_vendas = 50_000\n",
    "vendas_atual = 0\n",
    "\n",
    "while vendas_atual < meta_vendas:\n",
    "    nova_venda = float(input(\"Digite o valor da nova venda: R$\"))\n",
    "    vendas_atual += nova_venda\n",
    "    print(f\"Total de vendas atual: R$ {vendas_atual:.2f}\")\n",
    "\n",
    "print(\"Meta de vendas alcançada!!\")"
   ]
  },
  {
   "cell_type": "markdown",
   "id": "86b0ea3d",
   "metadata": {},
   "source": [
    "## Exemplo 02\n",
    "Em um sistema empresarial, o acesso a uma área restrita exige a inserção de uma senha correta. O usuário tem 3 tentativas para inserir a senha corretamente."
   ]
  },
  {
   "cell_type": "code",
   "execution_count": 8,
   "id": "8a127220",
   "metadata": {},
   "outputs": [
    {
     "name": "stdout",
     "output_type": "stream",
     "text": [
      "Acesso permitido.\n",
      "Estou dentro do sistema.\n"
     ]
    }
   ],
   "source": [
    "senha_correta = \"acesso2025\"\n",
    "tentativas = 3\n",
    "\n",
    "while tentativas > 0:\n",
    "    senha = input(\"Digite a senha para acesso: \")\n",
    "    if senha == senha_correta:\n",
    "        print(\"Acesso permitido.\")\n",
    "        break\n",
    "    else:\n",
    "        tentativas -= 1\n",
    "        print(f\"Senha incorreta. Você tem {tentativas} tentativa(s) restante(s).\")\n",
    "\n",
    "if tentativas == 0:\n",
    "    print(\"Acesso bloqueado.\")\n",
    "else:\n",
    "    print(\"Estou dentro do sistema.\")\n"
   ]
  }
 ],
 "metadata": {
  "kernelspec": {
   "display_name": ".venv",
   "language": "python",
   "name": "python3"
  },
  "language_info": {
   "codemirror_mode": {
    "name": "ipython",
    "version": 3
   },
   "file_extension": ".py",
   "mimetype": "text/x-python",
   "name": "python",
   "nbconvert_exporter": "python",
   "pygments_lexer": "ipython3",
   "version": "3.12.3"
  }
 },
 "nbformat": 4,
 "nbformat_minor": 5
}
