{
 "cells": [
  {
   "cell_type": "markdown",
   "id": "86de0183",
   "metadata": {},
   "source": [
    "# Loop for\n",
    "\n",
    "O loop `for` em Python é uma ferramenta que permite executar um bloco de código rapidamente, cada vez com um valor diferente de uma sequência de valores. É uma forma de iterar sobre uma coleção de itens, como uma lista, uma tupla, um dicionário ou mesmo uma string.\n",
    "\n",
    "1. **Conceito Básico:** Em um loop `for`, você especifica uma variável que tomará o valor de cada elemento da sequência, um de cada vez, e executará um bloco de código para cada um desses elementos.\n",
    "2. **Sintaxe do Loop for:**\n",
    "\n",
    "   ```py\n",
    "   for variavel in sequencia:\n",
    "       # Bloco de código a ser executado\n",
    "   ```\n",
    "\n",
    "   Aqui, `variavel` é a variável que receberá cada elemento de `sequencia` (que pode ser uma lista, tupla, etc.) e o bloco de código sob o `for` será executado uma vez para cada elemento\n",
    "\n",
    "3. **Exemplos:**\n",
    "   - **Iterando Sobre uma Lista:** Suponha que você tenha uma lista de números e queira imprimir cada número.\n",
    "     `py\n",
    "    numeros = [1, 2, 3, 4, 5]\n",
    "    for numero in numeros:\n",
    "        print(numero)\n",
    "    `\n",
    "     Isso imprimirá cada número da lista `numeros`.\n",
    "   - **Iterando Sobre uma String:** Você também pode usar um loop `for` para percorrer cada caractere em uma string.\n",
    "     ```py\n",
    "     palavra = \"Olá\"\n",
    "     for letra in palavras:\n",
    "         print(letra)\n",
    "     ```\n",
    "4. **Utilização com a Função range():** Uma função frequentemente usada com loops `for` é a `range()`, que gera uma sequência de números. Isso é útil quando você quer repetir uma ação um número específico de vezes.\n",
    "   ```py\n",
    "   for i in range(5):\n",
    "       print(i)\n",
    "   ```\n",
    "   Isso imprimirá os números de 0 a 4.\n",
    "5. **Loop for com Dicionários:** Ao iterar sobre dicionários, você pode extrair chaves, valores ou ambos.\n",
    "   ```py\n",
    "   meu_dicionario - {'a': 1, 'b': 2}\n",
    "   for chave in meu_dicionario:\n",
    "       print(chave, meu_dicionario[chave])\n",
    "   ```\n",
    "   Isso imprimirá cada chave e seu valor correspondente no dicionário.\n",
    "6. **Por que usar loop for:** O loop `for` é útil porque permite que você execute um conjunto de instruções para cada item de uma coleção de forma clara e concisa. Isso economiza tempo e esforço, evitando a necessidade de escrever o mesmo código várias vezes para diferentes itens.\n"
   ]
  },
  {
   "cell_type": "markdown",
   "id": "2a11aae1",
   "metadata": {},
   "source": [
    "## Exemplos\n"
   ]
  },
  {
   "cell_type": "code",
   "execution_count": null,
   "id": "dd0c4ee5",
   "metadata": {},
   "outputs": [
    {
     "name": "stdout",
     "output_type": "stream",
     "text": [
      "1000\n",
      "450\n",
      "300\n",
      "920\n",
      "600\n",
      "800\n"
     ]
    }
   ],
   "source": [
    "# Listas\n",
    "vendas = [1000, 450, 300, 920, 600, 800]\n",
    "\n",
    "for venda in vendas:\n",
    "    print(venda)"
   ]
  },
  {
   "cell_type": "code",
   "execution_count": 2,
   "id": "449a4e0c",
   "metadata": {},
   "outputs": [
    {
     "name": "stdout",
     "output_type": "stream",
     "text": [
      "1000\n",
      "450\n",
      "300\n",
      "920\n",
      "600\n",
      "800\n"
     ]
    }
   ],
   "source": [
    "# Tuplas\n",
    "vendas = (1000, 450, 300, 920, 600, 800)\n",
    "\n",
    "for venda in vendas:\n",
    "    print(venda)"
   ]
  },
  {
   "cell_type": "code",
   "execution_count": 3,
   "id": "951992e1",
   "metadata": {},
   "outputs": [
    {
     "name": "stdout",
     "output_type": "stream",
     "text": [
      "P\n",
      "y\n",
      "t\n",
      "h\n",
      "o\n",
      "n\n"
     ]
    }
   ],
   "source": [
    "# Strings\n",
    "for letra in 'Python':\n",
    "    print(letra)"
   ]
  },
  {
   "cell_type": "code",
   "execution_count": 5,
   "id": "28a8870e",
   "metadata": {},
   "outputs": [
    {
     "name": "stdout",
     "output_type": "stream",
     "text": [
      "bill\n",
      "elon\n",
      "mark\n"
     ]
    }
   ],
   "source": [
    "# Dicionários\n",
    "pessoas = {\n",
    "    \"bill\": {\"nome\": \"Bill Gates\", \"idade\": 68, \"empresa\": \"Microsoft\"},\n",
    "    \"elon\": {\"nome\": \"Elon Musk\", \"idade\": 52, \"empresa\": \"X\"},\n",
    "    \"mark\": {\"nome\": \"Mark Zuckerberg\", \"idade\": 39, \"empresa\": \"Facebook\"},\n",
    "}\n",
    "\n",
    "for pessoa in pessoas:\n",
    "    print(pessoa)"
   ]
  },
  {
   "cell_type": "markdown",
   "id": "bca681c7",
   "metadata": {},
   "source": [
    "## Loops em Dicionários\n"
   ]
  },
  {
   "cell_type": "code",
   "execution_count": 1,
   "id": "0183e19f",
   "metadata": {},
   "outputs": [
    {
     "name": "stdout",
     "output_type": "stream",
     "text": [
      "bill\n",
      "elon\n",
      "mark\n"
     ]
    }
   ],
   "source": [
    "pessoas = {\n",
    "    \"bill\": {\"nome\": \"Bill Gates\", \"idade\": 68, \"empresa\": \"Microsoft\"},\n",
    "    \"elon\": {\"nome\": \"Elon Musk\", \"idade\": 52, \"empresa\": \"X\"},\n",
    "    \"mark\": {\"nome\": \"Mark Zuckerberg\", \"idade\": 39, \"empresa\": \"Facebook\"},\n",
    "}\n",
    "\n",
    "for pessoa in pessoas:\n",
    "    print(pessoa)"
   ]
  },
  {
   "cell_type": "markdown",
   "id": "97d761e1",
   "metadata": {},
   "source": [
    "Todo dicionário tem um método chamado `items()` que retorna uma lista de tuplas, onde cada tupla é um par chave-valor.\n"
   ]
  },
  {
   "cell_type": "code",
   "execution_count": 2,
   "id": "a9809da3",
   "metadata": {},
   "outputs": [
    {
     "data": {
      "text/plain": [
       "dict_items([('bill', {'nome': 'Bill Gates', 'idade': 68, 'empresa': 'Microsoft'}), ('elon', {'nome': 'Elon Musk', 'idade': 52, 'empresa': 'X'}), ('mark', {'nome': 'Mark Zuckerberg', 'idade': 39, 'empresa': 'Facebook'})])"
      ]
     },
     "execution_count": 2,
     "metadata": {},
     "output_type": "execute_result"
    }
   ],
   "source": [
    "pessoas.items()"
   ]
  },
  {
   "cell_type": "code",
   "execution_count": 3,
   "id": "2db6fb64",
   "metadata": {},
   "outputs": [
    {
     "name": "stdout",
     "output_type": "stream",
     "text": [
      "('bill', {'nome': 'Bill Gates', 'idade': 68, 'empresa': 'Microsoft'})\n",
      "('elon', {'nome': 'Elon Musk', 'idade': 52, 'empresa': 'X'})\n",
      "('mark', {'nome': 'Mark Zuckerberg', 'idade': 39, 'empresa': 'Facebook'})\n"
     ]
    }
   ],
   "source": [
    "for item in pessoas.items():\n",
    "    print(item)"
   ]
  },
  {
   "cell_type": "markdown",
   "id": "05ac4abf",
   "metadata": {},
   "source": [
    "Sendo tuplas, podemos fazer um unpacking de cada tupla em variáveis separadas como no exemplo abaixo:\n"
   ]
  },
  {
   "cell_type": "code",
   "execution_count": 4,
   "id": "c62de417",
   "metadata": {},
   "outputs": [
    {
     "name": "stdout",
     "output_type": "stream",
     "text": [
      "bill {'nome': 'Bill Gates', 'idade': 68, 'empresa': 'Microsoft'}\n",
      "elon {'nome': 'Elon Musk', 'idade': 52, 'empresa': 'X'}\n",
      "mark {'nome': 'Mark Zuckerberg', 'idade': 39, 'empresa': 'Facebook'}\n"
     ]
    }
   ],
   "source": [
    "for chave, valor in pessoas.items():\n",
    "    print(chave, valor)"
   ]
  },
  {
   "cell_type": "code",
   "execution_count": 5,
   "id": "bd6a4f15",
   "metadata": {},
   "outputs": [
    {
     "name": "stdout",
     "output_type": "stream",
     "text": [
      "bill Microsoft\n",
      "elon X\n",
      "mark Facebook\n"
     ]
    }
   ],
   "source": [
    "for chave, valor in pessoas.items():\n",
    "    print(chave, valor[\"empresa\"])"
   ]
  },
  {
   "cell_type": "code",
   "execution_count": null,
   "id": "e7fb1913",
   "metadata": {},
   "outputs": [
    {
     "name": "stdout",
     "output_type": "stream",
     "text": [
      "Bill Gates Microsoft\n",
      "Elon Musk X\n",
      "Mark Zuckerberg Facebook\n"
     ]
    }
   ],
   "source": [
    "for chave, dados in pessoas.items():\n",
    "    print(dados[\"nome\"], dados[\"empresa\"])"
   ]
  },
  {
   "cell_type": "code",
   "execution_count": null,
   "id": "3d95a457",
   "metadata": {},
   "outputs": [
    {
     "name": "stdout",
     "output_type": "stream",
     "text": [
      "O Bill Gates trabalha na empresa Microsoft.\n",
      "O Elon Musk trabalha na empresa X.\n",
      "O Mark Zuckerberg trabalha na empresa Facebook.\n"
     ]
    }
   ],
   "source": [
    "for chave, dados in pessoas.items():\n",
    "    print(f\"O {dados['nome']} trabalha na empresa {dados['empresa']}\")"
   ]
  },
  {
   "cell_type": "code",
   "execution_count": 11,
   "id": "b576c3af",
   "metadata": {},
   "outputs": [
    {
     "name": "stdout",
     "output_type": "stream",
     "text": [
      "O Bill Gates trabalha na empresa Microsoft\n",
      "O Elon Musk trabalha na empresa X\n",
      "O Mark Zuckerberg trabalha na empresa Facebook\n"
     ]
    }
   ],
   "source": [
    "# o underscore (_) é usado quando queremos fazer o unpacking mas não precisamos de dois itens\n",
    "for _, dados in pessoas.items():\n",
    "    print(f\"O {dados['nome']} trabalha na empresa {dados['empresa']}\")"
   ]
  },
  {
   "cell_type": "markdown",
   "id": "42eabbc3",
   "metadata": {},
   "source": [
    "## Loop for - função range\n",
    "\n",
    "A função `range` em Python é uma ferramenta útil usada para gerar sequências de números. É frequentemente usada em loops, como o loop `for`, para repetir uma ação um determinado número de vezes.\n",
    "\n",
    "1. **O que faz:** A função `range` cria uma sequência de números inteiros. Essa sequência pode ser usada para executar um bloco de código várias vezes em um loop `for`, ou para simplesmente gerar uma lista de números.\n",
    "2. **Sintaxe básica:**\n",
    "   - `range(n)`: Gera uma sequência de números de 0 até `n-1`. Por exemplo, `range(3)` produzirá os números 0, 1, 2.\n",
    "   - `range(inicio, fim)`: Gera uma sequência de números começando em `inicio` e terminando em `fim-1`. Por exemplo, `range(1, 4)` produzirá os números 1, 2, 3.\n",
    "   - `range(inicio, fim, passo)`: Além de definir o início e o fim da sequência, você pode especificar um `passo`, que é o intervalo entre cada número na sequência. Por exmeplo, `range(0, 10, 2)` produzirá os números 0, 2, 4, 6, 8.\n",
    "3. **Exemplos:**\n",
    "   - **Loop Simples:** Usando `range` em um loop `for` para repetir uma ação 5 vezes:\n",
    "     ```py\n",
    "     for i in range(5):\n",
    "         print(\"Estamos no número\", i)\n",
    "     ```\n",
    "     Isso imprimirá cada número de 0 a 4, com uma mensagem.\n",
    "   - **Especificando um Intervalo:** Executar um loop que começa em 1 e termina em 3:\n",
    "     ```py\n",
    "     for i in range(1, 4):\n",
    "         print(i)\n",
    "     ```\n",
    "   - **Usando um Passo:** Criar uma sequência de números pares entre 0 e 10:\n",
    "     ```py\n",
    "     for i in range(0, 11, 2)\n",
    "         print(i)\n",
    "     ```\n",
    "     Isso imprimirá 0, 2, 4, 6, 8, 10.\n"
   ]
  },
  {
   "cell_type": "code",
   "execution_count": 2,
   "id": "0c5273aa",
   "metadata": {},
   "outputs": [
    {
     "name": "stdout",
     "output_type": "stream",
     "text": [
      "0\n",
      "1\n",
      "2\n",
      "3\n",
      "4\n"
     ]
    }
   ],
   "source": [
    "for i in range(5):\n",
    "    print(i)"
   ]
  },
  {
   "cell_type": "code",
   "execution_count": 3,
   "id": "2234b895",
   "metadata": {},
   "outputs": [
    {
     "name": "stdout",
     "output_type": "stream",
     "text": [
      "0\n",
      "2\n",
      "4\n",
      "6\n",
      "8\n",
      "10\n"
     ]
    }
   ],
   "source": [
    "for i in range(0, 11, 2):\n",
    "    print(i)"
   ]
  },
  {
   "cell_type": "markdown",
   "id": "a333db88",
   "metadata": {},
   "source": [
    "4. **Por que Usar `range`:** A função `range` é útil porque fornece uma maneira fácil de criar uma sequência de números sem a necessidade de digitá-los manualmente. Ela é essencial para executar um código repetidamente usando loops e para acessar elementos sequenciais em estruturas de dados que são baseadas em índices.\n",
    "5. **Importante Saber:** A função `range` em Python 3 gera os números sob demanda (conhecido como _lazy evaluation_). Ela não cria uma lista física de todos os números imediatamente, o que economiza memória, especialmente para grandes intervalos.\n"
   ]
  },
  {
   "cell_type": "code",
   "execution_count": 4,
   "id": "32075231",
   "metadata": {},
   "outputs": [
    {
     "data": {
      "text/plain": [
       "range(0, 5)"
      ]
     },
     "execution_count": 4,
     "metadata": {},
     "output_type": "execute_result"
    }
   ],
   "source": [
    "range(5)"
   ]
  },
  {
   "cell_type": "code",
   "execution_count": 6,
   "id": "d87ac23b",
   "metadata": {},
   "outputs": [
    {
     "data": {
      "text/plain": [
       "[0, 1, 2, 3, 4]"
      ]
     },
     "execution_count": 6,
     "metadata": {},
     "output_type": "execute_result"
    }
   ],
   "source": [
    "list(range(5))"
   ]
  },
  {
   "cell_type": "code",
   "execution_count": 7,
   "id": "9d1e4ea7",
   "metadata": {},
   "outputs": [
    {
     "data": {
      "text/plain": [
       "(0, 1, 2, 3, 4)"
      ]
     },
     "execution_count": 7,
     "metadata": {},
     "output_type": "execute_result"
    }
   ],
   "source": [
    "tuple(range(5))"
   ]
  },
  {
   "cell_type": "code",
   "execution_count": 8,
   "id": "15e88667",
   "metadata": {},
   "outputs": [
    {
     "name": "stdout",
     "output_type": "stream",
     "text": [
      "0\n",
      "1\n",
      "2\n",
      "3\n",
      "4\n"
     ]
    }
   ],
   "source": [
    "for i in range(5):\n",
    "    print(i)"
   ]
  },
  {
   "cell_type": "code",
   "execution_count": 9,
   "id": "caad025a",
   "metadata": {},
   "outputs": [
    {
     "name": "stdout",
     "output_type": "stream",
     "text": [
      "0\n",
      "1\n",
      "2\n",
      "3\n",
      "4\n",
      "5\n"
     ]
    }
   ],
   "source": [
    "for i in range(6):\n",
    "    print(i)"
   ]
  },
  {
   "cell_type": "code",
   "execution_count": 10,
   "id": "24b699e5",
   "metadata": {},
   "outputs": [
    {
     "name": "stdout",
     "output_type": "stream",
     "text": [
      "0\n",
      "2\n",
      "4\n",
      "6\n",
      "8\n",
      "10\n"
     ]
    }
   ],
   "source": [
    "for i in range(0, 11, 2):\n",
    "    print(i)"
   ]
  },
  {
   "cell_type": "markdown",
   "id": "cc06d984",
   "metadata": {},
   "source": [
    "## Uso recomendado\n",
    "\n",
    "Geralmente, quando queremos repetir um bloco de código um número determinado de vezes, utilizamos o comando `for` com a função `range`\n"
   ]
  },
  {
   "cell_type": "code",
   "execution_count": 14,
   "id": "dc78f956",
   "metadata": {},
   "outputs": [
    {
     "name": "stdout",
     "output_type": "stream",
     "text": [
      "Tabuada do 2:\n",
      " 2 x  0 =  0\n",
      " 2 x  1 =  2\n",
      " 2 x  2 =  4\n",
      " 2 x  3 =  6\n",
      " 2 x  4 =  8\n",
      " 2 x  5 = 10\n",
      " 2 x  6 = 12\n",
      " 2 x  7 = 14\n",
      " 2 x  8 = 16\n",
      " 2 x  9 = 18\n",
      " 2 x 10 = 20\n"
     ]
    }
   ],
   "source": [
    "print(\"Tabuada do 2:\")\n",
    "\n",
    "for numero in range(11):\n",
    "    print(f\" 2 x {numero:2} = {2 * numero:2}\")"
   ]
  },
  {
   "cell_type": "markdown",
   "id": "27239bc8",
   "metadata": {},
   "source": [
    "## Uso comum, mas não recomendado\n",
    "\n",
    "É muito comum vermos o uso de `range` quando queremos lidar com índices de iteráveis. Especialmente em códigos legados ou de iniciantes. No entando, esse uso não é recomendado, pois o Python tem formas mais eficientes de lidar com isso, que veremos adiante.\n"
   ]
  },
  {
   "cell_type": "code",
   "execution_count": null,
   "id": "8c029268",
   "metadata": {},
   "outputs": [
    {
     "name": "stdout",
     "output_type": "stream",
     "text": [
      "0 P\n",
      "1 y\n",
      "2 t\n",
      "3 h\n",
      "4 o\n",
      "5 n\n"
     ]
    }
   ],
   "source": [
    "palavra = \"Python\"\n",
    "\n",
    "for i in range(len(palavra)):\n",
    "    print(i, palavra[i])"
   ]
  },
  {
   "cell_type": "code",
   "execution_count": null,
   "id": "c24146c4",
   "metadata": {},
   "outputs": [
    {
     "name": "stdout",
     "output_type": "stream",
     "text": [
      "Segunda-feira: R$ 1500\n",
      "Terça-feira: R$ 1200\n",
      "Quarta-feira: R$ 1600\n",
      "Quinta-feira: R$ 1800\n",
      "Sexta-feira: R$ 2000\n",
      "Sábado: R$ 1900\n",
      "Domingo: R$ 1400\n"
     ]
    }
   ],
   "source": [
    "vendas_diarias = [1500, 1200, 1600, 1800, 2000,\n",
    "                  1900, 1400]  # Vendas de segunda a domingo\n",
    "\n",
    "dias_da_semana = [\"Segunda-feira\", \"Terça-feira\", \"Quarta-feira\",\n",
    "                  \"Quinta-feira\", \"Sexta-feira\", \"Sábado\", \"Domingo\"]\n",
    "\n",
    "for i in range(len(vendas_diarias)):\n",
    "    print(f\"{dias_da_semana[i]}: R$ {vendas_diarias[i]}\")"
   ]
  },
  {
   "cell_type": "markdown",
   "id": "f22ac177",
   "metadata": {},
   "source": [
    "## Loop for - função enumerate\n",
    "\n",
    "A função `enumerate` em Python é uma ferramenta útil, especialmente quando você está trabalhando com loops. Vamos entender o que ela faz e como pode ser utilizada:\n",
    "\n",
    "1. **O que faz:** A função `enumerate` adiciona um contador aos itens de um iterável (como uma lista) e os retorna como um objeto enumerado. Esse objeto pode ser diretamente em loops `for` para obter tasnto o índice (contador) quanto o valor do item.\n",
    "2. **Por que é útil:** Normalmente, quando você itera sobre uma lista usando um loop `for` , você obtém apenas os valores da lista. Se você também precisar do índice (posição) de cada item na lista, `enumerate` é a ferramenta perfeita para isso.\n",
    "3. **Sintaxe Básica:**\n",
    "   ```py\n",
    "   enumerate(iteravel, start=0)\n",
    "   ```\n",
    "   Aqui, `iteravel` é a coleção de itens que você quer iterar (como uma lista), e `start` é o número onde a contagem começa (por padrão é 0).\n",
    "4. **Exemplo Prático:** Suponha que você tenha uma lista de tarefas e queira imprimir cada tarefa com seu respectivo número na lista.\n",
    "\n",
    "   Sem o `enumerate`, você faria algo assim:\n",
    "\n",
    "   ```py\n",
    "   tarefas = ['limpar', 'escrever', 'ler']\n",
    "   for i in range(len(tarefas)):\n",
    "       print(i, tarefas[i])\n",
    "   ```\n",
    "\n",
    "   Com `enumerate`, o código fica mais claro:\n",
    "\n",
    "   ```py\n",
    "       tarefas = ['limpar', 'escrever', 'ler']\n",
    "   for indice, tarefa in enumerate(tarefas):\n",
    "       print(indice, tarefa)\n",
    "   ```\n",
    "\n",
    "   Isso imprimirá:\n",
    "\n",
    "   - 0 limpar\n",
    "   - 1 escrever\n",
    "   - 2 ler\n"
   ]
  },
  {
   "cell_type": "code",
   "execution_count": 22,
   "id": "01f529fa",
   "metadata": {},
   "outputs": [
    {
     "name": "stdout",
     "output_type": "stream",
     "text": [
      "0 limpar\n",
      "1 escrever\n",
      "2 ler\n"
     ]
    }
   ],
   "source": [
    "tarefas = ['limpar', 'escrever', 'ler']\n",
    "for i in range(len(tarefas)):\n",
    "    print(i, tarefas[i])"
   ]
  },
  {
   "cell_type": "code",
   "execution_count": 25,
   "id": "2f99e150",
   "metadata": {},
   "outputs": [
    {
     "name": "stdout",
     "output_type": "stream",
     "text": [
      "1 limpar\n",
      "2 escrever\n",
      "3 ler\n"
     ]
    }
   ],
   "source": [
    "tarefas = ['limpar', 'escrever', 'ler']\n",
    "for indice, tarefa in enumerate(tarefas, start=1):\n",
    "    print(indice, tarefa)"
   ]
  },
  {
   "cell_type": "markdown",
   "id": "371310cf",
   "metadata": {},
   "source": [
    "5. **Aplicações Comuns:**\n",
    "   - **Looping com índices:** Útil quando você precisa do índice dos itens enquanto itera sobre uma lista.\n",
    "   - **Criação de Tuplas de Índice-Item:** `enumerate` pode ser usado para transformar uma lista em uma lista de tuplas contendo índices e itens.\n",
    "6. **Vantagens:**\n",
    "   - **Legibilidade:** Torna o código mais legível e claro.\n",
    "   - **Eficiência:** Elimina a necessidade de usar `range` e `len` para acessar i índice e o valor.\n"
   ]
  },
  {
   "cell_type": "code",
   "execution_count": 31,
   "id": "c6b047c0",
   "metadata": {},
   "outputs": [
    {
     "data": {
      "text/plain": [
       "[(0, 'P'), (1, 'y'), (2, 't'), (3, 'h'), (4, 'o'), (5, 'n')]"
      ]
     },
     "execution_count": 31,
     "metadata": {},
     "output_type": "execute_result"
    }
   ],
   "source": [
    "palavra = \"Python\"\n",
    "\n",
    "list(enumerate(palavra))"
   ]
  },
  {
   "cell_type": "code",
   "execution_count": 33,
   "id": "225d3036",
   "metadata": {},
   "outputs": [
    {
     "name": "stdout",
     "output_type": "stream",
     "text": [
      "0 P\n",
      "1 y\n",
      "2 t\n",
      "3 h\n",
      "4 o\n",
      "5 n\n"
     ]
    }
   ],
   "source": [
    "for indice, letra in enumerate(palavra):\n",
    "    print(indice, letra)"
   ]
  },
  {
   "cell_type": "code",
   "execution_count": null,
   "id": "685f3482",
   "metadata": {},
   "outputs": [
    {
     "name": "stdout",
     "output_type": "stream",
     "text": [
      "1 Verstappen\n",
      "2 Hamilton\n",
      "3 Leclerc\n",
      "4 Sainz\n",
      "5 Norris\n",
      "6 Alonso\n"
     ]
    }
   ],
   "source": [
    "grid_largada = ['Verstappen', 'Hamilton',\n",
    "                'Leclerc', 'Sainz', 'Norris', 'Alonso']\n",
    "\n",
    "for posicao, piloto in enumerate(grid_largada, start=1):\n",
    "    print(posicao, piloto)"
   ]
  },
  {
   "cell_type": "markdown",
   "id": "d16ca735",
   "metadata": {},
   "source": [
    "## Loop for - função zip\n",
    "\n",
    "A função `zip` em Python é outra ferramenta útil, especialmente quando você está trabalhando com múltiplas sequências de dados, como listas ou tuplas. Vamos entender como ela funciona e como pode ser aplicada:\n",
    "\n",
    "1. **O que faz:** A função `zip` combina ou \"zipeia\" dois ou mais iteráveis (como listas ou tuplas) e os retorna como um objeto `zip`. Este objeto é um iterador de tuplas, onde a primeira tupla contém o primeiro item de cada iterável, a segunda contém o segundo item, e assim por diante.\n",
    "2. **Por que é útil:** `zip` é particularmente útil quando você tem dados relacionados em diferentes sequências e precisa acessá-los de forma pareada ou agrupada.\n",
    "3. **Sintaxe Básica:**\n",
    "\n",
    "   ```py\n",
    "   zip(iteravel1, iteravel2, ...)\n",
    "   ```\n",
    "\n",
    "   Aqui, `iteravel1`, `iteravel2`, etc. São coleções de itens (como listas ou tuplas) que você deseja combinar.\n",
    "\n",
    "4. **Exemplo Prático:** Suponha que você tenha duas listas - uma com nomes de alunos e outra com suas respectivas notas.\n",
    "\n",
    "   Sem `zip`, você teria que acessar os elementos correspondentes de cada lista separadamente.\n",
    "\n",
    "   ```py\n",
    "   nomes = ['Ana', 'Bruno', 'Carlos']\n",
    "   notas = [8.5, 7.0, 9.0]\n",
    "   for nome, nota in range(len(nomes)):\n",
    "       print(nomes[i], notas[i])\n",
    "   ```\n",
    "\n",
    "   Com `zip`, você pode fazer isso de uma maneira mais eficiente:\n",
    "\n",
    "   ```py\n",
    "   nomes = ['Ana', 'Bruno', 'Carlos']\n",
    "   notas = [8.5, 7.0, 9.0]\n",
    "   for i in zip(nomes, notas):\n",
    "       print(nome, nota)\n",
    "   ```\n",
    "\n",
    "   Isso imprimirá:\n",
    "\n",
    "   - Ana 8.5\n",
    "   - Bruno 7.0\n",
    "   - Carlos 9.0\n"
   ]
  },
  {
   "cell_type": "code",
   "execution_count": 36,
   "id": "ac7394e7",
   "metadata": {},
   "outputs": [
    {
     "name": "stdout",
     "output_type": "stream",
     "text": [
      "Ana 8.5\n",
      "Bruno 7.0\n",
      "Carlos 9.0\n"
     ]
    }
   ],
   "source": [
    "nomes = ['Ana', 'Bruno', 'Carlos']\n",
    "notas = [8.5, 7.0, 9.0]\n",
    "for i in range(len(nomes)):\n",
    "    print(nomes[i], notas[i])"
   ]
  },
  {
   "cell_type": "code",
   "execution_count": 37,
   "id": "136cca28",
   "metadata": {},
   "outputs": [
    {
     "name": "stdout",
     "output_type": "stream",
     "text": [
      "Ana 8.5\n",
      "Bruno 7.0\n",
      "Carlos 9.0\n"
     ]
    }
   ],
   "source": [
    "nomes = ['Ana', 'Bruno', 'Carlos']\n",
    "notas = [8.5, 7.0, 9.0]\n",
    "\n",
    "for nome, nota in zip(nomes, notas):\n",
    "    print(nome, nota)"
   ]
  },
  {
   "cell_type": "markdown",
   "id": "f71fc394",
   "metadata": {},
   "source": [
    "5. **Aplicações Comuns:**\n",
    "   - **Combinando Dados Relacionados:** Útil para parear itens de diferentes listas que estão relacionados.\n",
    "   - **Looping Paralelo:** `zip` permite que você itere sobre mais de uma lista ao mesmo tempo.\n",
    "6. **Limitações:**\n",
    "   - O iterador produzido por `zip` vai até o comprimento do menor iterável. Se um iterável for mais longo, seus itens extras não serão incluídos.\n",
    "7. **Vantagens:**\n",
    "   - **Simplicidade e Elegância:** Torna o código mais limpo e fácil de entender.\n",
    "   - **Flexibilidade:** Pode ser usado com qualquer número de iteráveis.\n"
   ]
  },
  {
   "cell_type": "code",
   "execution_count": 38,
   "id": "abf3ebb0",
   "metadata": {},
   "outputs": [
    {
     "data": {
      "text/plain": [
       "<zip at 0x7b1f4dd5a080>"
      ]
     },
     "execution_count": 38,
     "metadata": {},
     "output_type": "execute_result"
    }
   ],
   "source": [
    "nomes = ['Ana', 'Bruno', 'Carlos']\n",
    "notas = [8.5, 7.0, 9.0]\n",
    "\n",
    "zip(nomes, notas)"
   ]
  },
  {
   "cell_type": "code",
   "execution_count": 39,
   "id": "d7e6d30d",
   "metadata": {},
   "outputs": [
    {
     "data": {
      "text/plain": [
       "[('Ana', 8.5), ('Bruno', 7.0), ('Carlos', 9.0)]"
      ]
     },
     "execution_count": 39,
     "metadata": {},
     "output_type": "execute_result"
    }
   ],
   "source": [
    "list(zip(nomes, notas))"
   ]
  },
  {
   "cell_type": "code",
   "execution_count": null,
   "id": "06876a5b",
   "metadata": {},
   "outputs": [
    {
     "data": {
      "text/plain": [
       "(('Ana', 8.5), ('Bruno', 7.0), ('Carlos', 9.0))"
      ]
     },
     "execution_count": 40,
     "metadata": {},
     "output_type": "execute_result"
    }
   ],
   "source": [
    "tuple(zip(nomes, notas))"
   ]
  },
  {
   "cell_type": "code",
   "execution_count": 41,
   "id": "b0bf146d",
   "metadata": {},
   "outputs": [
    {
     "name": "stdout",
     "output_type": "stream",
     "text": [
      "('Ana', 8.5)\n",
      "('Bruno', 7.0)\n",
      "('Carlos', 9.0)\n"
     ]
    }
   ],
   "source": [
    "for tupla in zip(nomes, notas):\n",
    "    print(tupla)"
   ]
  },
  {
   "cell_type": "code",
   "execution_count": 42,
   "id": "e0efd511",
   "metadata": {},
   "outputs": [
    {
     "name": "stdout",
     "output_type": "stream",
     "text": [
      "Ana 8.5\n",
      "Bruno 7.0\n",
      "Carlos 9.0\n"
     ]
    }
   ],
   "source": [
    "for nome, nota in zip(nomes, notas):\n",
    "    print(nome, nota)"
   ]
  },
  {
   "cell_type": "code",
   "execution_count": null,
   "id": "d91b6a3e",
   "metadata": {},
   "outputs": [
    {
     "name": "stdout",
     "output_type": "stream",
     "text": [
      "Segunda-feira 1500\n",
      "Terça-feira 1200\n",
      "Quarta-feira 1600\n",
      "Quinta-feira 1800\n",
      "Sexta-feira 2000\n",
      "Sábado 1900\n",
      "Domingo 1400\n"
     ]
    }
   ],
   "source": [
    "vendas_diarias = [1500, 1200, 1600, 1800, 2000,\n",
    "                  1900, 1400]  # Vendas de segunda a domingo\n",
    "\n",
    "dias_da_semana = [\"Segunda-feira\", \"Terça-feira\", \"Quarta-feira\",\n",
    "                  \"Quinta-feira\", \"Sexta-feira\", \"Sábado\", \"Domingo\"]\n",
    "\n",
    "for dia, venda in zip(dias_da_semana, vendas_diarias):\n",
    "    print(dia, venda)"
   ]
  },
  {
   "cell_type": "code",
   "execution_count": 45,
   "id": "370c3de5",
   "metadata": {},
   "outputs": [
    {
     "name": "stdout",
     "output_type": "stream",
     "text": [
      "Segunda-feira: R$ 1500.00\n",
      "Terça-feira: R$ 1200.00\n",
      "Quarta-feira: R$ 1600.00\n",
      "Quinta-feira: R$ 1800.00\n",
      "Sexta-feira: R$ 2000.00\n",
      "Sábado: R$ 1900.00\n",
      "Domingo: R$ 1400.00\n"
     ]
    }
   ],
   "source": [
    "for dia, venda in zip(dias_da_semana, vendas_diarias):\n",
    "    print(f\"{dia}: R$ {venda:.2f}\")"
   ]
  },
  {
   "cell_type": "code",
   "execution_count": 49,
   "id": "661e785d",
   "metadata": {},
   "outputs": [
    {
     "name": "stdout",
     "output_type": "stream",
     "text": [
      "Quarta-feira: R$ 1600.00\n",
      "Quinta-feira: R$ 1800.00\n",
      "Sexta-feira : R$ 2000.00\n",
      "Sábado      : R$ 1900.00\n"
     ]
    }
   ],
   "source": [
    "for dia, venda in zip(dias_da_semana, vendas_diarias):\n",
    "    if venda > 1500:\n",
    "        print(f\"{dia:12}: R$ {venda:.2f}\")"
   ]
  },
  {
   "cell_type": "markdown",
   "id": "4d9644f0",
   "metadata": {},
   "source": [
    "## Loop for - comprehensions\n",
    "\n",
    "Comprehensions em Python são uma forma concisa e eficiente de criar novas listas ou dicionários a partir de sequências existentes. Vamos entender o que são e como utilizá-las:\n",
    "\n",
    "1. **O que são Comprehensions:** Comprehensions são uma maneira de construir uma nova coleção (lista, dicionário ou conjunto) de forma mais curta e legível. Elas permitem que você crie estas coleções usando uma expressão concisa dentro de colchetes (para listas) ou chaves (para dicionários).\n",
    "2. **Por que são úteis:** Usar comprehensions pode tornar seu código mais limpo e expressivo. Elas permitem que você escreva loops e condicionais de maneira mais direta e com menos linhas de código.\n",
    "3. **Tipos de Comprehensions:**\n",
    "   - **List Comprehension:** Usada para criar novas listas.\n",
    "   - **Dictionary Comprehension:** Usada para criar novos dicionários.\n",
    "4. **Como funcionam:**\n",
    "   - Uma comprehension consiste de uma expressão seguida por um loop `for` e, opcionalmente, condicionais `if`.\n",
    "   - A expressão define como os elementos da nova coleção serão formados.\n",
    "   - O loop `for` itera sobre a coleção original.\n",
    "   - As condicionais `if` são usadas para filtrar elementos da coleção original.\n",
    "5. **Vantagens:**\n",
    "   - **Eficiência:** Comprehensions são geralmente mais eficientes do que loops regulares.\n",
    "   - **Legibilidade:** Reduzem a quantidade de código necessária, tornando-o mais legível.\n"
   ]
  },
  {
   "cell_type": "markdown",
   "id": "38b6cc96",
   "metadata": {},
   "source": [
    "### List Comprehension\n",
    "\n",
    "Sintaxe:\n",
    "\n",
    "```py\n",
    "[expressão for item in iteravel if condição]\n",
    "```\n"
   ]
  },
  {
   "cell_type": "code",
   "execution_count": 50,
   "id": "cd6495ff",
   "metadata": {},
   "outputs": [
    {
     "data": {
      "text/plain": [
       "[15.0, 30.0, 5.0, 80.0, 50.0, 40.0]"
      ]
     },
     "execution_count": 50,
     "metadata": {},
     "output_type": "execute_result"
    }
   ],
   "source": [
    "vendas_diarias = [150, 300, 50, 800, 500, 400]\n",
    "bonificacao = 0.1\n",
    "\n",
    "bonus_diario = []\n",
    "\n",
    "for venda in vendas_diarias:\n",
    "    bonus_diario.append(venda * bonificacao)\n",
    "bonus_diario"
   ]
  },
  {
   "cell_type": "code",
   "execution_count": 51,
   "id": "b2e8d2ac",
   "metadata": {},
   "outputs": [
    {
     "data": {
      "text/plain": [
       "[15.0, 30.0, 5.0, 80.0, 50.0, 40.0]"
      ]
     },
     "execution_count": 51,
     "metadata": {},
     "output_type": "execute_result"
    }
   ],
   "source": [
    "bonus_diario_comprehension = [venda * bonificacao for venda in vendas_diarias]\n",
    "bonus_diario_comprehension"
   ]
  },
  {
   "cell_type": "code",
   "execution_count": null,
   "id": "39cbb49b",
   "metadata": {},
   "outputs": [
    {
     "data": {
      "text/plain": [
       "[800, 500, 400]"
      ]
     },
     "execution_count": 53,
     "metadata": {},
     "output_type": "execute_result"
    }
   ],
   "source": [
    "vendas_diarias = [150, 300, 50, 800, 500, 400]\n",
    "limite = 300\n",
    "\n",
    "vendas_acima_loop_for_append = []\n",
    "\n",
    "for venda in vendas_diarias:\n",
    "    if venda > limite:\n",
    "        vendas_acima_loop_for_append.append(venda)\n",
    "vendas_acima_loop_for_append"
   ]
  },
  {
   "cell_type": "code",
   "execution_count": null,
   "id": "133faf7a",
   "metadata": {},
   "outputs": [
    {
     "data": {
      "text/plain": [
       "[800, 500, 400]"
      ]
     },
     "execution_count": 56,
     "metadata": {},
     "output_type": "execute_result"
    }
   ],
   "source": [
    "vendas_acima_comprehension = [\n",
    "    venda for venda in vendas_diarias if venda > limite]\n",
    "vendas_acima_comprehension"
   ]
  },
  {
   "cell_type": "markdown",
   "id": "b5cb4d38",
   "metadata": {},
   "source": [
    "### Dictionary Comprehension\n",
    "\n",
    "Sintaxe:\n",
    "\n",
    "```py\n",
    "{chave: valor for item in iteravel if condição}\n",
    "```\n"
   ]
  },
  {
   "cell_type": "code",
   "execution_count": 59,
   "id": "9982dc7d",
   "metadata": {},
   "outputs": [
    {
     "data": {
      "text/plain": [
       "{'camiseta': 500, 'calça': 750, 'sapato': 2000}"
      ]
     },
     "execution_count": 59,
     "metadata": {},
     "output_type": "execute_result"
    }
   ],
   "source": [
    "vendas_por_produto = {'camiseta': 25, 'calça': 15, \"sapato\": 20}\n",
    "precos = {'camiseta': 20, 'calça': 50, 'sapato': 100}\n",
    "\n",
    "total_vendas_por_produto_loop_for = {}\n",
    "\n",
    "for produto in vendas_por_produto:\n",
    "    total_vendas_por_produto_loop_for[produto] = vendas_por_produto[produto] * precos[produto]\n",
    "\n",
    "total_vendas_por_produto_loop_for"
   ]
  },
  {
   "cell_type": "code",
   "execution_count": null,
   "id": "c6e04a60",
   "metadata": {},
   "outputs": [
    {
     "data": {
      "text/plain": [
       "{'camiseta': 500, 'calça': 750, 'sapato': 2000}"
      ]
     },
     "execution_count": 61,
     "metadata": {},
     "output_type": "execute_result"
    }
   ],
   "source": [
    "total_vendas_por_produto_comprehension = {\n",
    "    produto: vendas_por_produto[produto] * precos[produto] for produto in vendas_por_produto}\n",
    "total_vendas_por_produto_comprehension"
   ]
  },
  {
   "cell_type": "code",
   "execution_count": null,
   "id": "84b9ade9",
   "metadata": {},
   "outputs": [
    {
     "data": {
      "text/plain": [
       "{'sapato': 2000}"
      ]
     },
     "execution_count": 63,
     "metadata": {},
     "output_type": "execute_result"
    }
   ],
   "source": [
    "meta_faturamento = 1000\n",
    "\n",
    "total_vendas_acima_meta_comprehension = {\n",
    "    produto: vendas_por_produto[produto] * precos[produto] for produto in vendas_por_produto if vendas_por_produto[produto] * precos[produto] > meta_faturamento\n",
    "}\n",
    "total_vendas_acima_meta_comprehension"
   ]
  }
 ],
 "metadata": {
  "kernelspec": {
   "display_name": ".venv",
   "language": "python",
   "name": "python3"
  },
  "language_info": {
   "codemirror_mode": {
    "name": "ipython",
    "version": 3
   },
   "file_extension": ".py",
   "mimetype": "text/x-python",
   "name": "python",
   "nbconvert_exporter": "python",
   "pygments_lexer": "ipython3",
   "version": "3.12.3"
  }
 },
 "nbformat": 4,
 "nbformat_minor": 5
}
