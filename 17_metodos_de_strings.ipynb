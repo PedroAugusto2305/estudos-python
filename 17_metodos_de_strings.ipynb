{
 "cells": [
  {
   "cell_type": "markdown",
   "id": "68c1f9ad",
   "metadata": {},
   "source": [
    "# Métodos de string"
   ]
  },
  {
   "cell_type": "code",
   "execution_count": 1,
   "id": "83cb4ca8",
   "metadata": {},
   "outputs": [
    {
     "data": {
      "text/plain": [
       "'curso de ciência de dados da hashtag'"
      ]
     },
     "execution_count": 1,
     "metadata": {},
     "output_type": "execute_result"
    }
   ],
   "source": [
    "exemplo = \"curso de ciência de dados da hashtag\"\n",
    "exemplo"
   ]
  },
  {
   "cell_type": "code",
   "execution_count": 2,
   "id": "78d1be18",
   "metadata": {},
   "outputs": [
    {
     "data": {
      "text/plain": [
       "'Curso de ciência de dados da hashtag'"
      ]
     },
     "execution_count": 2,
     "metadata": {},
     "output_type": "execute_result"
    }
   ],
   "source": [
    "exemplo.capitalize()"
   ]
  },
  {
   "cell_type": "code",
   "execution_count": 6,
   "id": "fd69581d",
   "metadata": {},
   "outputs": [
    {
     "data": {
      "text/plain": [
       "'curso de ciência de dados da hashtag'"
      ]
     },
     "execution_count": 6,
     "metadata": {},
     "output_type": "execute_result"
    }
   ],
   "source": [
    "exemplo # a string original permanece inalterada"
   ]
  },
  {
   "cell_type": "code",
   "execution_count": 8,
   "id": "0604f0f8",
   "metadata": {},
   "outputs": [
    {
     "data": {
      "text/plain": [
       "'Curso De Ciência De Dados Da Hashtag'"
      ]
     },
     "execution_count": 8,
     "metadata": {},
     "output_type": "execute_result"
    }
   ],
   "source": [
    "exemplo.title()"
   ]
  },
  {
   "cell_type": "code",
   "execution_count": 10,
   "id": "95b678cf",
   "metadata": {},
   "outputs": [
    {
     "data": {
      "text/plain": [
       "'CURSO DE CIÊNCIA DE DADOS DA HASHTAG'"
      ]
     },
     "execution_count": 10,
     "metadata": {},
     "output_type": "execute_result"
    }
   ],
   "source": [
    "exemplo.upper()"
   ]
  },
  {
   "cell_type": "code",
   "execution_count": 13,
   "id": "3623e1c4",
   "metadata": {},
   "outputs": [
    {
     "data": {
      "text/plain": [
       "'curso de ciência de dados da hashtag'"
      ]
     },
     "execution_count": 13,
     "metadata": {},
     "output_type": "execute_result"
    }
   ],
   "source": [
    "exemplo.upper().lower()"
   ]
  },
  {
   "cell_type": "code",
   "execution_count": 15,
   "id": "8ecd3001",
   "metadata": {},
   "outputs": [
    {
     "data": {
      "text/plain": [
       "'CURSO DE CIÊNCIA DE DADOS DA HASHTAG'"
      ]
     },
     "execution_count": 15,
     "metadata": {},
     "output_type": "execute_result"
    }
   ],
   "source": [
    "exemplo.swapcase()"
   ]
  },
  {
   "cell_type": "code",
   "execution_count": 17,
   "id": "33bae3da",
   "metadata": {},
   "outputs": [
    {
     "data": {
      "text/plain": [
       "'cURSO dE cIÊNCIA dE dADOS dA hASHTAG'"
      ]
     },
     "execution_count": 17,
     "metadata": {},
     "output_type": "execute_result"
    }
   ],
   "source": [
    "exemplo.title().swapcase()"
   ]
  },
  {
   "cell_type": "code",
   "execution_count": 19,
   "id": "220e96b2",
   "metadata": {},
   "outputs": [
    {
     "data": {
      "text/plain": [
       "5"
      ]
     },
     "execution_count": 19,
     "metadata": {},
     "output_type": "execute_result"
    }
   ],
   "source": [
    "exemplo.count(\"a\")"
   ]
  },
  {
   "cell_type": "code",
   "execution_count": 21,
   "id": "c175b03c",
   "metadata": {},
   "outputs": [
    {
     "data": {
      "text/plain": [
       "2"
      ]
     },
     "execution_count": 21,
     "metadata": {},
     "output_type": "execute_result"
    }
   ],
   "source": [
    "exemplo.count(\"de\")"
   ]
  },
  {
   "cell_type": "code",
   "execution_count": 24,
   "id": "b13f961f",
   "metadata": {},
   "outputs": [
    {
     "data": {
      "text/plain": [
       "['curso', 'de', 'ciência', 'de', 'dados', 'da', 'hashtag']"
      ]
     },
     "execution_count": 24,
     "metadata": {},
     "output_type": "execute_result"
    }
   ],
   "source": [
    "exemplo.split()"
   ]
  },
  {
   "cell_type": "code",
   "execution_count": 26,
   "id": "2080cd31",
   "metadata": {},
   "outputs": [
    {
     "data": {
      "text/plain": [
       "['curso ', ' ciência ', ' dados da hashtag']"
      ]
     },
     "execution_count": 26,
     "metadata": {},
     "output_type": "execute_result"
    }
   ],
   "source": [
    "exemplo.split(\"de\")"
   ]
  },
  {
   "cell_type": "code",
   "execution_count": null,
   "id": "a7690ef3",
   "metadata": {},
   "outputs": [
    {
     "data": {
      "text/plain": [
       "20"
      ]
     },
     "execution_count": 27,
     "metadata": {},
     "output_type": "execute_result"
    }
   ],
   "source": [
    "exemplo.find(\"dados\") # retorna o indice inicial do que foi pesquisado"
   ]
  },
  {
   "cell_type": "code",
   "execution_count": 28,
   "id": "af73ce61",
   "metadata": {},
   "outputs": [
    {
     "data": {
      "text/plain": [
       "'dados da hashtag'"
      ]
     },
     "execution_count": 28,
     "metadata": {},
     "output_type": "execute_result"
    }
   ],
   "source": [
    "exemplo[20:]"
   ]
  }
 ],
 "metadata": {
  "kernelspec": {
   "display_name": ".venv",
   "language": "python",
   "name": "python3"
  },
  "language_info": {
   "codemirror_mode": {
    "name": "ipython",
    "version": 3
   },
   "file_extension": ".py",
   "mimetype": "text/x-python",
   "name": "python",
   "nbconvert_exporter": "python",
   "pygments_lexer": "ipython3",
   "version": "3.12.3"
  }
 },
 "nbformat": 4,
 "nbformat_minor": 5
}
