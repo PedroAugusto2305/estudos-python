{
 "cells": [
  {
   "cell_type": "markdown",
   "id": "7530be5b",
   "metadata": {},
   "source": [
    "# Tipos de variáveis"
   ]
  },
  {
   "cell_type": "code",
   "execution_count": 5,
   "id": "dab738a3",
   "metadata": {},
   "outputs": [],
   "source": [
    "salario_base = 1500\n",
    "comissao = 0.05\n",
    "salario_minimo = 1412\n",
    "vendas = 500"
   ]
  },
  {
   "cell_type": "code",
   "execution_count": 6,
   "id": "16239416",
   "metadata": {},
   "outputs": [
    {
     "data": {
      "text/plain": [
       "int"
      ]
     },
     "execution_count": 6,
     "metadata": {},
     "output_type": "execute_result"
    }
   ],
   "source": [
    "type(salario_base)"
   ]
  },
  {
   "cell_type": "code",
   "execution_count": 7,
   "id": "b07e8bcf",
   "metadata": {},
   "outputs": [
    {
     "data": {
      "text/plain": [
       "float"
      ]
     },
     "execution_count": 7,
     "metadata": {},
     "output_type": "execute_result"
    }
   ],
   "source": [
    "type(comissao)"
   ]
  },
  {
   "cell_type": "code",
   "execution_count": 8,
   "id": "3b2c853e",
   "metadata": {},
   "outputs": [
    {
     "data": {
      "text/plain": [
       "int"
      ]
     },
     "execution_count": 8,
     "metadata": {},
     "output_type": "execute_result"
    }
   ],
   "source": [
    "type(salario_minimo)"
   ]
  },
  {
   "cell_type": "code",
   "execution_count": 9,
   "id": "e587789b",
   "metadata": {},
   "outputs": [
    {
     "data": {
      "text/plain": [
       "int"
      ]
     },
     "execution_count": 9,
     "metadata": {},
     "output_type": "execute_result"
    }
   ],
   "source": [
    "type(vendas)"
   ]
  },
  {
   "cell_type": "code",
   "execution_count": 10,
   "id": "a6b14dc3",
   "metadata": {},
   "outputs": [
    {
     "data": {
      "text/plain": [
       "1525.0"
      ]
     },
     "execution_count": 10,
     "metadata": {},
     "output_type": "execute_result"
    }
   ],
   "source": [
    "salario_final = salario_base + (vendas * comissao)\n",
    "salario_final"
   ]
  },
  {
   "cell_type": "code",
   "execution_count": 11,
   "id": "8ad95c53",
   "metadata": {},
   "outputs": [
    {
     "data": {
      "text/plain": [
       "float"
      ]
     },
     "execution_count": 11,
     "metadata": {},
     "output_type": "execute_result"
    }
   ],
   "source": [
    "type(salario_final)"
   ]
  },
  {
   "cell_type": "code",
   "execution_count": 16,
   "id": "f4dd16d2",
   "metadata": {},
   "outputs": [
    {
     "data": {
      "text/plain": [
       "True"
      ]
     },
     "execution_count": 16,
     "metadata": {},
     "output_type": "execute_result"
    }
   ],
   "source": [
    "comparacao = salario_final > salario_minimo\n",
    "comparacao"
   ]
  },
  {
   "cell_type": "code",
   "execution_count": 17,
   "id": "3ab998c6",
   "metadata": {},
   "outputs": [
    {
     "data": {
      "text/plain": [
       "bool"
      ]
     },
     "execution_count": 17,
     "metadata": {},
     "output_type": "execute_result"
    }
   ],
   "source": [
    "type(comparacao)"
   ]
  }
 ],
 "metadata": {
  "kernelspec": {
   "display_name": ".venv",
   "language": "python",
   "name": "python3"
  },
  "language_info": {
   "codemirror_mode": {
    "name": "ipython",
    "version": 3
   },
   "file_extension": ".py",
   "mimetype": "text/x-python",
   "name": "python",
   "nbconvert_exporter": "python",
   "pygments_lexer": "ipython3",
   "version": "3.12.3"
  }
 },
 "nbformat": 4,
 "nbformat_minor": 5
}
