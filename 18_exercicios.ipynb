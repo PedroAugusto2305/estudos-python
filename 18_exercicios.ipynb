{
 "cells": [
  {
   "cell_type": "markdown",
   "id": "0f276d0b",
   "metadata": {},
   "source": [
    "# Exercícios\n",
    "\n",
    "## Exercício 01: Formatação de Mensagem Corporativa\n",
    "Dado o nome de um funcionário e o mês de referência, crie uma mensagem de e-mail corporativa informando sobre a disponibilidade do contracheque. Utilize f-strings para incluir o nome do funcionário e o mês na mensagem. \n",
    "Modelo da mensagem: \"Prezada ..., informamos que seu contracheque referente a ... está disponível no portal.\""
   ]
  },
  {
   "cell_type": "code",
   "execution_count": 2,
   "id": "e7822fe6",
   "metadata": {},
   "outputs": [
    {
     "name": "stdout",
     "output_type": "stream",
     "text": [
      "Prezada Ana Silva, informamos que seu contracheque referente a Setembro está disponível no portal.\n"
     ]
    }
   ],
   "source": [
    "nome = \"Ana Silva\"\n",
    "mes = \"Setembro\"\n",
    "\n",
    "print(f\"Prezada {nome}, informamos que seu contracheque referente a {mes} está disponível no portal.\")"
   ]
  },
  {
   "cell_type": "markdown",
   "id": "459e537a",
   "metadata": {},
   "source": [
    "## Exercício 02: Extração de Domínio de Email\n",
    "Dado um email corporativo, extraia o domínio do email (parte após o '@') utilizando os métodos de string."
   ]
  },
  {
   "cell_type": "code",
   "execution_count": null,
   "id": "06475879",
   "metadata": {},
   "outputs": [
    {
     "data": {
      "text/plain": [
       "'@empresa.com'"
      ]
     },
     "execution_count": 5,
     "metadata": {},
     "output_type": "execute_result"
    }
   ],
   "source": [
    "email = \"funcionario@empresa.com\"\n",
    "email[11:]"
   ]
  },
  {
   "cell_type": "markdown",
   "id": "268d766d",
   "metadata": {},
   "source": [
    "## Exercício 03: Capitalização de Títulos de Projetos\n",
    "Dada uma string representando o nome de um projeto em minúsculas, `nome_projeto = \"implementação de novo sistema de vendas\"`, transforme a primeira letra de cada palavra em maiúscula. "
   ]
  },
  {
   "cell_type": "code",
   "execution_count": 6,
   "id": "093d2b20",
   "metadata": {},
   "outputs": [
    {
     "data": {
      "text/plain": [
       "'Implementação De Novo Sistema De Vendas'"
      ]
     },
     "execution_count": 6,
     "metadata": {},
     "output_type": "execute_result"
    }
   ],
   "source": [
    "nome_projeto = \"implementação de novo sistema de vendas\"\n",
    "nome_projeto.title()"
   ]
  },
  {
   "cell_type": "markdown",
   "id": "284cb097",
   "metadata": {},
   "source": [
    "## Exercício 04: Verificação de Sufixo de Arquivo\n",
    "Verifique se um nome de arquivo `nome_arquivo = \"relatorio_vendas_final.xlsx\"` termina com a extensão \".xlsx\". Utilize métodos de string adequados."
   ]
  },
  {
   "cell_type": "code",
   "execution_count": 25,
   "id": "431dbc8b",
   "metadata": {},
   "outputs": [
    {
     "name": "stdout",
     "output_type": "stream",
     "text": [
      "O arquivo é do tipo xslx: True\n"
     ]
    }
   ],
   "source": [
    "nome_arquivo = \"relatorio_vendas_final.xlsx\" \n",
    "e_xlsx = nome_arquivo.endswith(\".xlsx\")\n",
    "print(f\"O arquivo é do tipo xslx: {e_xlsx}\")"
   ]
  },
  {
   "cell_type": "markdown",
   "id": "a14085d6",
   "metadata": {},
   "source": []
  },
  {
   "cell_type": "markdown",
   "id": "78a530c9",
   "metadata": {},
   "source": [
    "## Exercício 05: Limpeza de Dados de Endereço de Email\n",
    "Dados endereços de email com espaços e letra maiúsculas, como `email_sujo = \" Funcionario@Empresa.COM \"`, limpe o email removendo os espaços extras e convertendo tudo para letras minúsculas"
   ]
  },
  {
   "cell_type": "code",
   "execution_count": 21,
   "id": "503b9343",
   "metadata": {},
   "outputs": [
    {
     "name": "stdout",
     "output_type": "stream",
     "text": [
      "funcionario@empresa.com\n"
     ]
    }
   ],
   "source": [
    "email_sujo = \" Funcionario@Empresa.COM \"\n",
    "\n",
    "email_limpo = email_sujo.capitalize().replace(\" \", \"\")\n",
    "print(email_limpo)"
   ]
  },
  {
   "cell_type": "markdown",
   "id": "35b24623",
   "metadata": {},
   "source": [
    "# Exercício 06: Geração de Username\n",
    "Dado o nome completo de um funcionário, gere um username único combinando a primeira letra do primeiro nome com o sobrenome, tudo em minúsculas. Exemplo: \"João Silva\" se torna \"jsilva\"."
   ]
  },
  {
   "cell_type": "code",
   "execution_count": 29,
   "id": "63964b7b",
   "metadata": {},
   "outputs": [
    {
     "data": {
      "text/plain": [
       "'jsilva'"
      ]
     },
     "execution_count": 29,
     "metadata": {},
     "output_type": "execute_result"
    }
   ],
   "source": [
    "nome_completo = \"João Silva\"\n",
    "\n",
    "username = nome_completo[0].lower() + nome_completo[5:].lower()\n",
    "username"
   ]
  },
  {
   "cell_type": "markdown",
   "id": "da98140e",
   "metadata": {},
   "source": [
    "## Exercício 07: Mascaramento de Emails\n",
    "Dado um endereço de email, substitua os caracteres antes do \"@\" por asterísticos, exceto os dois primeiros e últimos caracteres. Use métodos de string para construir a nova string.\n",
    "\n",
    "Exemplo: \"funcionario@empresa.com\" se torna \"fu******io@empresa.com\"."
   ]
  },
  {
   "cell_type": "code",
   "execution_count": 23,
   "id": "6b705d5c",
   "metadata": {},
   "outputs": [
    {
     "name": "stdout",
     "output_type": "stream",
     "text": [
      "fu*******io@empresa.com\n"
     ]
    }
   ],
   "source": [
    "email = \"funcionario@empresa.com\"\n",
    "prefixo, dominio = email.split(\"@\")\n",
    "prefixo_mascarado = prefixo[:2] + \"*\" * (len(prefixo) - 4)  + prefixo[-2:]\n",
    "email_mascarado = prefixo_mascarado + \"@\" + dominio\n",
    "print(email_mascarado)"
   ]
  },
  {
   "cell_type": "markdown",
   "id": "44a8679e",
   "metadata": {},
   "source": [
    "## Exercício 08: Extração de Código de Projeto\n",
    "Dada uma descrição de projeto no formato \"Projeto XYZ: Implementação do Sistema - Código 12345\", extraia o código do projeto que está ao final da string."
   ]
  },
  {
   "cell_type": "code",
   "execution_count": 5,
   "id": "d776acd3",
   "metadata": {},
   "outputs": [
    {
     "name": "stdout",
     "output_type": "stream",
     "text": [
      "O código do projeto é: 12345\n"
     ]
    }
   ],
   "source": [
    "projeto = \"Projeto XYZ: Implementação do Sistema - Código 12345\"\n",
    "\n",
    "codigo_projeto = projeto.split(\" \")\n",
    "print(f\"O código do projeto é: {codigo_projeto[-1]}\")\n"
   ]
  },
  {
   "cell_type": "markdown",
   "id": "7646f2e0",
   "metadata": {},
   "source": [
    "## Exercício 09: Formatação de Log de Transação\n",
    "Formate logs de transações financeiras para exibir informações de forma legível. Cada log é uma string no formato \"20230915;1000;Transferência Recebida\". Converta para \"Data: 15/09/2023, Valor: R$ 1000, Descrição: Transferência Recebida\"."
   ]
  },
  {
   "cell_type": "code",
   "execution_count": 18,
   "id": "812236c9",
   "metadata": {},
   "outputs": [
    {
     "name": "stdout",
     "output_type": "stream",
     "text": [
      "Data: 15/09/2023, Valor: R$ 1000, Descrição: Transferência Recebida.\n"
     ]
    }
   ],
   "source": [
    "log_original = \"20230915;1000;Transferência Recebida\"\n",
    "data, valor, descricao = log_original.split(\";\")\n",
    "data_formatada = f\"{data[6:]}/{data[4:6]}/{data[:4]}\"\n",
    "\n",
    "print(f\"Data: {data_formatada}, Valor: R$ {valor}, Descrição: {descricao}.\")"
   ]
  },
  {
   "cell_type": "markdown",
   "id": "10660ec9",
   "metadata": {},
   "source": [
    "## Exercício 10: Concatenação e Capitalização de Strings em Lista\n",
    "Dada uma lista de palavras `palavras = [\"núcleo\", \"de\", \"dados\"]`, crie uma string que seja a concatenação de todas as palavras com a primeira letra de cada palavra em maiúscula, separadas por espaços.\n",
    "\n",
    "Dica: utilize o método join() de strings para concatenar as palavras"
   ]
  },
  {
   "cell_type": "code",
   "execution_count": null,
   "id": "42df0028",
   "metadata": {},
   "outputs": [
    {
     "name": "stdout",
     "output_type": "stream",
     "text": [
      "Núcleo De Dados\n"
     ]
    }
   ],
   "source": [
    "palavras = [\"núcleo\", \"de\", \"dados\"]\n",
    "frase = \" \".join(palavras)\n",
    "print(frase.title())"
   ]
  }
 ],
 "metadata": {
  "kernelspec": {
   "display_name": ".venv",
   "language": "python",
   "name": "python3"
  },
  "language_info": {
   "codemirror_mode": {
    "name": "ipython",
    "version": 3
   },
   "file_extension": ".py",
   "mimetype": "text/x-python",
   "name": "python",
   "nbconvert_exporter": "python",
   "pygments_lexer": "ipython3",
   "version": "3.12.3"
  }
 },
 "nbformat": 4,
 "nbformat_minor": 5
}
