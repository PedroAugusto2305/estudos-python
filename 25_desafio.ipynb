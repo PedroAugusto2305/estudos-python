{
 "cells": [
  {
   "cell_type": "markdown",
   "id": "25d467ec",
   "metadata": {},
   "source": [
    "# Desafio\n",
    "Escreva um programa em Python que verifique se uma senha fornecida como uma string cumpre os seguintes critérios de segurança:\n",
    "\n",
    "- Tem pelo menos 8 caracteres.\n",
    "- Contém pelo menos uma letra maiúscula.\n",
    "- Contém pelo menos uma letra minúscula.\n",
    "- Contém pelo menos um número.\n",
    "- Contém pelo menos um caractere especial (considere caracteres especiais como `!@#$%^&*()-_=+)`.\n",
    "- Se a senha atender a todos os critérios, o programa deve imprimir `\"Senha válida\"`. Caso contrário, deve imprimir `\"Senha inválida\"`.\n",
    "\n",
    "Dica: pesquise pelos métodos `isupper`, `islower`, `isdigit` de strings."
   ]
  },
  {
   "cell_type": "code",
   "execution_count": 19,
   "id": "19bbe98d",
   "metadata": {},
   "outputs": [
    {
     "name": "stdout",
     "output_type": "stream",
     "text": [
      "Senha válida.\n"
     ]
    }
   ],
   "source": [
    "senha = \"Senha@123\"\n",
    "\n",
    "tem_oito_ou_mais_caracteres = len(senha) >= 8\n",
    "tem_letra_maiuscula = False\n",
    "tem_letra_minuscula = False\n",
    "tem_numero = False\n",
    "tem_caractere_especial = False\n",
    "\n",
    "caracteres_especiais = \"!@#$%^&*()-_=+)\"\n",
    "\n",
    "for caracter in senha:\n",
    "    if caracter.isupper():\n",
    "        tem_letra_maiuscula = True\n",
    "    elif caracter.islower():\n",
    "        tem_letra_minuscula = True\n",
    "    elif caracter.isdigit():\n",
    "        tem_numero = True\n",
    "    elif caracter in caracteres_especiais:\n",
    "        tem_caractere_especial = True\n",
    "\n",
    "if (tem_oito_ou_mais_caracteres) and (tem_letra_maiuscula) and (tem_letra_minuscula) and (tem_numero) and (tem_caractere_especial):\n",
    "    print(\"Senha válida.\")\n",
    "else:\n",
    "    print(\"Senha inválida.\")   "
   ]
  },
  {
   "cell_type": "markdown",
   "id": "0eeabb5f",
   "metadata": {},
   "source": [
    "**Outra Solução**"
   ]
  },
  {
   "cell_type": "code",
   "execution_count": 32,
   "id": "84796a3b",
   "metadata": {},
   "outputs": [
    {
     "name": "stdout",
     "output_type": "stream",
     "text": [
      "Senha válida.\n"
     ]
    }
   ],
   "source": [
    "senha = \"Senha@123\"\n",
    "caracteres_especiais = \"!@#$%^&*()-_=+)\"\n",
    "\n",
    "tem_oito_ou_mais_caracteres = len(senha) >= 8\n",
    "tem_letra_maiuscula = any([caracter.isupper() for caracter in senha])\n",
    "tem_letra_minuscula = any([caracter.islower() for caracter in senha])\n",
    "tem_numero = any([caracter.isdigit() for caracter in senha])\n",
    "tem_caractere_especial = any([caracter in caracteres_especiais for caracter in senha])\n",
    "\n",
    "if all([tem_oito_ou_mais_caracteres, tem_letra_maiuscula, tem_letra_minuscula, tem_numero, tem_caractere_especial]):\n",
    "    print(\"Senha válida.\")\n",
    "else:\n",
    "    print(\"Senha inválida.\")"
   ]
  }
 ],
 "metadata": {
  "kernelspec": {
   "display_name": ".venv",
   "language": "python",
   "name": "python3"
  },
  "language_info": {
   "codemirror_mode": {
    "name": "ipython",
    "version": 3
   },
   "file_extension": ".py",
   "mimetype": "text/x-python",
   "name": "python",
   "nbconvert_exporter": "python",
   "pygments_lexer": "ipython3",
   "version": "3.12.3"
  }
 },
 "nbformat": 4,
 "nbformat_minor": 5
}
