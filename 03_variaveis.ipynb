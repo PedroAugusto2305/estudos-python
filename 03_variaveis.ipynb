{
 "cells": [
  {
   "cell_type": "markdown",
   "id": "90cf016b",
   "metadata": {},
   "source": [
    "# Variáveis"
   ]
  },
  {
   "cell_type": "code",
   "execution_count": 1,
   "id": "4700d565",
   "metadata": {},
   "outputs": [],
   "source": [
    "salario_base = 1500"
   ]
  },
  {
   "cell_type": "code",
   "execution_count": 2,
   "id": "76175c8b",
   "metadata": {},
   "outputs": [
    {
     "data": {
      "text/plain": [
       "1500"
      ]
     },
     "execution_count": 2,
     "metadata": {},
     "output_type": "execute_result"
    }
   ],
   "source": [
    "salario_base"
   ]
  },
  {
   "cell_type": "code",
   "execution_count": 3,
   "id": "f545afbc",
   "metadata": {},
   "outputs": [
    {
     "name": "stdout",
     "output_type": "stream",
     "text": [
      "1500\n"
     ]
    }
   ],
   "source": [
    "print(salario_base)"
   ]
  },
  {
   "cell_type": "code",
   "execution_count": 4,
   "id": "7866ecfd",
   "metadata": {},
   "outputs": [],
   "source": [
    "porcentagem_comissao = 0.05\n",
    "valor_vendas = 500"
   ]
  },
  {
   "cell_type": "code",
   "execution_count": 5,
   "id": "8d7ea93c",
   "metadata": {},
   "outputs": [],
   "source": [
    "salario_vendas = valor_vendas * porcentagem_comissao"
   ]
  },
  {
   "cell_type": "code",
   "execution_count": 6,
   "id": "ac552392",
   "metadata": {},
   "outputs": [],
   "source": [
    "salario_final = salario_base + salario_vendas"
   ]
  },
  {
   "cell_type": "code",
   "execution_count": 7,
   "id": "5274001b",
   "metadata": {},
   "outputs": [
    {
     "data": {
      "text/plain": [
       "1525.0"
      ]
     },
     "execution_count": 7,
     "metadata": {},
     "output_type": "execute_result"
    }
   ],
   "source": [
    "salario_final"
   ]
  },
  {
   "cell_type": "code",
   "execution_count": 8,
   "id": "e4096df8",
   "metadata": {},
   "outputs": [],
   "source": [
    "salario_base = salario_base + 200"
   ]
  },
  {
   "cell_type": "code",
   "execution_count": 9,
   "id": "1e28d0d0",
   "metadata": {},
   "outputs": [
    {
     "data": {
      "text/plain": [
       "1700"
      ]
     },
     "execution_count": 9,
     "metadata": {},
     "output_type": "execute_result"
    }
   ],
   "source": [
    "salario_base"
   ]
  },
  {
   "cell_type": "code",
   "execution_count": 10,
   "id": "bda93748",
   "metadata": {},
   "outputs": [
    {
     "data": {
      "text/plain": [
       "1725.0"
      ]
     },
     "execution_count": 10,
     "metadata": {},
     "output_type": "execute_result"
    }
   ],
   "source": [
    "salario_final = salario_base + salario_vendas\n",
    "salario_final"
   ]
  },
  {
   "cell_type": "code",
   "execution_count": 11,
   "id": "ee237b71",
   "metadata": {},
   "outputs": [
    {
     "data": {
      "text/plain": [
       "1900"
      ]
     },
     "execution_count": 11,
     "metadata": {},
     "output_type": "execute_result"
    }
   ],
   "source": [
    "salario_base += 200\n",
    "salario_base"
   ]
  },
  {
   "cell_type": "code",
   "execution_count": 12,
   "id": "b2cde387",
   "metadata": {},
   "outputs": [
    {
     "data": {
      "text/plain": [
       "0.04"
      ]
     },
     "execution_count": 12,
     "metadata": {},
     "output_type": "execute_result"
    }
   ],
   "source": [
    "porcentagem_comissao -= 0.01\n",
    "porcentagem_comissao"
   ]
  },
  {
   "cell_type": "code",
   "execution_count": 13,
   "id": "73d15856",
   "metadata": {},
   "outputs": [
    {
     "data": {
      "text/plain": [
       "20.0"
      ]
     },
     "execution_count": 13,
     "metadata": {},
     "output_type": "execute_result"
    }
   ],
   "source": [
    "salario_vendas = porcentagem_comissao * valor_vendas\n",
    "salario_vendas"
   ]
  },
  {
   "cell_type": "code",
   "execution_count": 14,
   "id": "a8dec03d",
   "metadata": {},
   "outputs": [
    {
     "data": {
      "text/plain": [
       "1920.0"
      ]
     },
     "execution_count": 14,
     "metadata": {},
     "output_type": "execute_result"
    }
   ],
   "source": [
    "salario_final = salario_base + salario_vendas\n",
    "salario_final"
   ]
  }
 ],
 "metadata": {
  "kernelspec": {
   "display_name": ".venv",
   "language": "python",
   "name": "python3"
  },
  "language_info": {
   "codemirror_mode": {
    "name": "ipython",
    "version": 3
   },
   "file_extension": ".py",
   "mimetype": "text/x-python",
   "name": "python",
   "nbconvert_exporter": "python",
   "pygments_lexer": "ipython3",
   "version": "3.12.3"
  }
 },
 "nbformat": 4,
 "nbformat_minor": 5
}
