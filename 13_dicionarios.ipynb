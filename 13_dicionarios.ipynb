{
 "cells": [
  {
   "cell_type": "markdown",
   "id": "ce562687",
   "metadata": {},
   "source": [
    "# Outras estruturas de dados\n",
    "\n",
    "Imagine que você tem uma coleção de objetos - como um monte de livros. A maneira como você organiza esses livros pode variar dependendo do que você quer fazer com eles. Se você os empilha sobre o outro, é fácil colocar um novo livro no topo ou tirar o livro do topo, mas é difícil encontrar um livro específico no meio da pilha. Se você os organiza em uma prateleira, por ordem alfabética, fica mais fácil encontrar um livro específico, mas pode ser mais demorado adicionar um novo livro se isso significar ter que mover os outros liviros para manter a ordem.\n",
    "\n",
    "\"Estrutura de Dados\" é um termo usado em programação para descrever diferentes maneiras de organizar e armazenar dados (como números, textos, ou até mesmo outros conjuntos de dados) de forma que possamos eficientemente realizar operações sobre esses dados. Cada estrutura de dados tem seus próprios métodos para adicionar, remover e acessar os dados, e cada uma é útil para diferentes tipos de tarefas.\n",
    "\n",
    "Por exemplo:\n",
    "- **Listas:** São como prateleiras de livros onde você armazena os itens em uma ordem específica.\n",
    "- **Dicionários:** São como um dicionário de palavras, onde cada palavra (chave) está associada a uma definição (valor).\n",
    "\n",
    "Cada uma dessas estruturas é útil para diferentes tipos de problemas em programação. Por exemplo, listas são boas quando você precisa manter os itens em uma ordem específica, enquanto dicionários são úteis quando você quer associar pares de valores de uma maneira fácil de procurar. A escolha da estrutura de dados correta pode tornar seu código mais eficiente e mais fácil de entender."
   ]
  },
  {
   "cell_type": "markdown",
   "id": "e1ca5afd",
   "metadata": {},
   "source": [
    "## Dicionários\n",
    "Os dicionários em Python são estruturas de dados que armazenam pares de chave-valor, sendo extremamente úteis para organizar e acessar dados de forma eficiente.\n",
    "\n",
    "**Características Básicas de um Dicionário:**\n",
    "- **Pares Chave-Valor:** Cada elemento em um dicionário é um par de uma chave e um valor associado. As chaves são únicas dentro de um dicionário, enquanto os valores podem ser duplicados.\n",
    "- **Acesso rápido:** Os dicionários permitem o acesso rápido a um valor quando você conhece a chave. Isso os torna ideais para situações onde você precisa buscar dados frequentemente.\n",
    "- **Flexibilidade:** As chaves geralmente são strings ou números, mas podem ser de qualquer tipo imutável. Os valores podem ser de qualquer tipo de dado."
   ]
  },
  {
   "cell_type": "code",
   "execution_count": 5,
   "id": "4f8368b4",
   "metadata": {},
   "outputs": [],
   "source": [
    "empresa = {\n",
    "    \"nome\": \"Twitter\",\n",
    "    \"setor\": \"Tecnologia\",\n",
    "}"
   ]
  },
  {
   "cell_type": "code",
   "execution_count": 7,
   "id": "0dcf1ac5",
   "metadata": {},
   "outputs": [
    {
     "data": {
      "text/plain": [
       "{'nome': 'Twitter', 'setor': 'Tecnologia'}"
      ]
     },
     "execution_count": 7,
     "metadata": {},
     "output_type": "execute_result"
    }
   ],
   "source": [
    "empresa"
   ]
  },
  {
   "cell_type": "code",
   "execution_count": 9,
   "id": "5f69ba75",
   "metadata": {},
   "outputs": [
    {
     "data": {
      "text/plain": [
       "'Twitter'"
      ]
     },
     "execution_count": 9,
     "metadata": {},
     "output_type": "execute_result"
    }
   ],
   "source": [
    "empresa[\"nome\"]"
   ]
  },
  {
   "cell_type": "code",
   "execution_count": 11,
   "id": "34f13055",
   "metadata": {},
   "outputs": [
    {
     "data": {
      "text/plain": [
       "'Tecnologia'"
      ]
     },
     "execution_count": 11,
     "metadata": {},
     "output_type": "execute_result"
    }
   ],
   "source": [
    "empresa[\"setor\"]"
   ]
  },
  {
   "cell_type": "code",
   "execution_count": 13,
   "id": "c6725896",
   "metadata": {},
   "outputs": [],
   "source": [
    "empresa[\"nome\"] = \"X\""
   ]
  },
  {
   "cell_type": "code",
   "execution_count": 16,
   "id": "c16c4186",
   "metadata": {},
   "outputs": [
    {
     "data": {
      "text/plain": [
       "'X'"
      ]
     },
     "execution_count": 16,
     "metadata": {},
     "output_type": "execute_result"
    }
   ],
   "source": [
    "empresa[\"nome\"]"
   ]
  },
  {
   "cell_type": "code",
   "execution_count": 18,
   "id": "593204ad",
   "metadata": {},
   "outputs": [],
   "source": [
    "empresa[\"dono\"] = \"Elon Musk\""
   ]
  },
  {
   "cell_type": "code",
   "execution_count": 20,
   "id": "2756232a",
   "metadata": {},
   "outputs": [
    {
     "data": {
      "text/plain": [
       "{'nome': 'X', 'setor': 'Tecnologia', 'dono': 'Elon Musk'}"
      ]
     },
     "execution_count": 20,
     "metadata": {},
     "output_type": "execute_result"
    }
   ],
   "source": [
    "empresa"
   ]
  },
  {
   "cell_type": "code",
   "execution_count": 22,
   "id": "2ca10165",
   "metadata": {},
   "outputs": [
    {
     "ename": "KeyError",
     "evalue": "'ano'",
     "output_type": "error",
     "traceback": [
      "\u001b[31m---------------------------------------------------------------------------\u001b[39m",
      "\u001b[31mKeyError\u001b[39m                                  Traceback (most recent call last)",
      "\u001b[36mCell\u001b[39m\u001b[36m \u001b[39m\u001b[32mIn[22]\u001b[39m\u001b[32m, line 1\u001b[39m\n\u001b[32m----> \u001b[39m\u001b[32m1\u001b[39m \u001b[43mempresa\u001b[49m\u001b[43m[\u001b[49m\u001b[33;43m\"\u001b[39;49m\u001b[33;43mano\u001b[39;49m\u001b[33;43m\"\u001b[39;49m\u001b[43m]\u001b[49m\n",
      "\u001b[31mKeyError\u001b[39m: 'ano'"
     ]
    }
   ],
   "source": [
    "empresa[\"ano\"]"
   ]
  },
  {
   "cell_type": "code",
   "execution_count": 24,
   "id": "ce3911cc",
   "metadata": {},
   "outputs": [
    {
     "data": {
      "text/plain": [
       "False"
      ]
     },
     "execution_count": 24,
     "metadata": {},
     "output_type": "execute_result"
    }
   ],
   "source": [
    "\"ano\" in empresa"
   ]
  },
  {
   "cell_type": "code",
   "execution_count": 25,
   "id": "7fdba496",
   "metadata": {},
   "outputs": [
    {
     "data": {
      "text/plain": [
       "True"
      ]
     },
     "execution_count": 25,
     "metadata": {},
     "output_type": "execute_result"
    }
   ],
   "source": [
    "\"nome\" in empresa"
   ]
  },
  {
   "cell_type": "code",
   "execution_count": 27,
   "id": "c6ad190a",
   "metadata": {},
   "outputs": [
    {
     "data": {
      "text/plain": [
       "False"
      ]
     },
     "execution_count": 27,
     "metadata": {},
     "output_type": "execute_result"
    }
   ],
   "source": [
    "\"Elon Musk\" in empresa"
   ]
  },
  {
   "cell_type": "code",
   "execution_count": null,
   "id": "1c51fae8",
   "metadata": {},
   "outputs": [],
   "source": [
    "# verifica se há uma chave e retorna seu valor, caso não tenha não retorna nada\n",
    "empresa.get(\"ano\")"
   ]
  },
  {
   "cell_type": "code",
   "execution_count": 30,
   "id": "5da9df65",
   "metadata": {},
   "outputs": [
    {
     "data": {
      "text/plain": [
       "'X'"
      ]
     },
     "execution_count": 30,
     "metadata": {},
     "output_type": "execute_result"
    }
   ],
   "source": [
    "empresa.get(\"nome\")"
   ]
  },
  {
   "cell_type": "code",
   "execution_count": 32,
   "id": "c24b532f",
   "metadata": {},
   "outputs": [
    {
     "data": {
      "text/plain": [
       "0"
      ]
     },
     "execution_count": 32,
     "metadata": {},
     "output_type": "execute_result"
    }
   ],
   "source": [
    "empresa.get(\"ano\", 0) # também podemos passar um parametro pra caso não retorne nada"
   ]
  },
  {
   "cell_type": "code",
   "execution_count": 35,
   "id": "eab70770",
   "metadata": {},
   "outputs": [
    {
     "data": {
      "text/plain": [
       "dict_keys(['nome', 'setor', 'dono'])"
      ]
     },
     "execution_count": 35,
     "metadata": {},
     "output_type": "execute_result"
    }
   ],
   "source": [
    "empresa.keys()"
   ]
  },
  {
   "cell_type": "code",
   "execution_count": 37,
   "id": "4208e86e",
   "metadata": {},
   "outputs": [
    {
     "data": {
      "text/plain": [
       "dict_values(['X', 'Tecnologia', 'Elon Musk'])"
      ]
     },
     "execution_count": 37,
     "metadata": {},
     "output_type": "execute_result"
    }
   ],
   "source": [
    "empresa.values()"
   ]
  },
  {
   "cell_type": "code",
   "execution_count": 40,
   "id": "e161cbd3",
   "metadata": {},
   "outputs": [
    {
     "data": {
      "text/plain": [
       "True"
      ]
     },
     "execution_count": 40,
     "metadata": {},
     "output_type": "execute_result"
    }
   ],
   "source": [
    "\"Elon Musk\" in empresa.values()"
   ]
  },
  {
   "cell_type": "code",
   "execution_count": 42,
   "id": "eb1ad399",
   "metadata": {},
   "outputs": [
    {
     "data": {
      "text/plain": [
       "dict_items([('nome', 'X'), ('setor', 'Tecnologia'), ('dono', 'Elon Musk')])"
      ]
     },
     "execution_count": 42,
     "metadata": {},
     "output_type": "execute_result"
    }
   ],
   "source": [
    "empresa.items()"
   ]
  },
  {
   "cell_type": "code",
   "execution_count": 44,
   "id": "c8600b39",
   "metadata": {},
   "outputs": [
    {
     "data": {
      "text/plain": [
       "{'nome': 'X', 'setor': 'Tecnologia'}"
      ]
     },
     "execution_count": 44,
     "metadata": {},
     "output_type": "execute_result"
    }
   ],
   "source": [
    "# Transformando uma lista de tuplas em dicionário através da função dict()\n",
    "exemplo = [(\"nome\", \"X\"), (\"setor\", \"Tecnologia\")]\n",
    "\n",
    "dict(exemplo)"
   ]
  },
  {
   "cell_type": "markdown",
   "id": "004ac51d",
   "metadata": {},
   "source": [
    "### Exemplo de uso de dicionários"
   ]
  },
  {
   "cell_type": "code",
   "execution_count": 46,
   "id": "e282255d",
   "metadata": {},
   "outputs": [],
   "source": [
    "inventario = {\n",
    "    \"camiseta\": {\n",
    "        \"quantidade\": 100,\n",
    "        \"preco\": 50\n",
    "    },\n",
    "    \"calca\": {\n",
    "        \"quantidade\": 50,\n",
    "        \"preco\": 100\n",
    "    }\n",
    "}"
   ]
  },
  {
   "cell_type": "code",
   "execution_count": 47,
   "id": "a9c8f124",
   "metadata": {},
   "outputs": [
    {
     "data": {
      "text/plain": [
       "{'camiseta': {'quantidade': 100, 'preco': 50},\n",
       " 'calca': {'quantidade': 50, 'preco': 100}}"
      ]
     },
     "execution_count": 47,
     "metadata": {},
     "output_type": "execute_result"
    }
   ],
   "source": [
    "inventario"
   ]
  },
  {
   "cell_type": "code",
   "execution_count": 48,
   "id": "5922aad0",
   "metadata": {},
   "outputs": [
    {
     "data": {
      "text/plain": [
       "{'quantidade': 100, 'preco': 50}"
      ]
     },
     "execution_count": 48,
     "metadata": {},
     "output_type": "execute_result"
    }
   ],
   "source": [
    "inventario[\"camiseta\"]"
   ]
  },
  {
   "cell_type": "code",
   "execution_count": 50,
   "id": "dfdd55cf",
   "metadata": {},
   "outputs": [
    {
     "data": {
      "text/plain": [
       "100"
      ]
     },
     "execution_count": 50,
     "metadata": {},
     "output_type": "execute_result"
    }
   ],
   "source": [
    "inventario[\"camiseta\"][\"quantidade\"]"
   ]
  },
  {
   "cell_type": "code",
   "execution_count": 53,
   "id": "eccac84e",
   "metadata": {},
   "outputs": [
    {
     "data": {
      "text/plain": [
       "100"
      ]
     },
     "execution_count": 53,
     "metadata": {},
     "output_type": "execute_result"
    }
   ],
   "source": [
    "inventario.get(\"camiseta\").get(\"quantidade\")"
   ]
  },
  {
   "cell_type": "code",
   "execution_count": 58,
   "id": "a1533a21",
   "metadata": {},
   "outputs": [
    {
     "name": "stdout",
     "output_type": "stream",
     "text": [
      "0\n"
     ]
    }
   ],
   "source": [
    "print(inventario.get(\"camiseta\").get(\"desconto\", 0))"
   ]
  },
  {
   "cell_type": "code",
   "execution_count": 60,
   "id": "8f201f6e",
   "metadata": {},
   "outputs": [],
   "source": [
    "inventario[\"camiseta\"][\"desconto\"] = 5"
   ]
  },
  {
   "cell_type": "code",
   "execution_count": 62,
   "id": "159967f7",
   "metadata": {},
   "outputs": [
    {
     "data": {
      "text/plain": [
       "{'camiseta': {'quantidade': 100, 'preco': 50, 'desconto': 5},\n",
       " 'calca': {'quantidade': 50, 'preco': 100}}"
      ]
     },
     "execution_count": 62,
     "metadata": {},
     "output_type": "execute_result"
    }
   ],
   "source": [
    "inventario"
   ]
  },
  {
   "cell_type": "code",
   "execution_count": 64,
   "id": "c66bbd33",
   "metadata": {},
   "outputs": [
    {
     "data": {
      "text/plain": [
       "5"
      ]
     },
     "execution_count": 64,
     "metadata": {},
     "output_type": "execute_result"
    }
   ],
   "source": [
    "inventario.get(\"camiseta\").get(\"desconto\")"
   ]
  },
  {
   "cell_type": "code",
   "execution_count": 67,
   "id": "6b542237",
   "metadata": {},
   "outputs": [
    {
     "data": {
      "text/plain": [
       "{'Ana': ['admin', 'editor'], 'Bruno': ['usuario']}"
      ]
     },
     "execution_count": 67,
     "metadata": {},
     "output_type": "execute_result"
    }
   ],
   "source": [
    "permissoes = {\n",
    "    \"Ana\": [\n",
    "        \"admin\",\n",
    "        \"editor\"\n",
    "    ],\n",
    "    \"Bruno\": [\n",
    "        \"usuario\"\n",
    "    ]\n",
    "}\n",
    "\n",
    "permissoes"
   ]
  },
  {
   "cell_type": "code",
   "execution_count": 69,
   "id": "512bcc0b",
   "metadata": {},
   "outputs": [
    {
     "data": {
      "text/plain": [
       "True"
      ]
     },
     "execution_count": 69,
     "metadata": {},
     "output_type": "execute_result"
    }
   ],
   "source": [
    "\"admin\" in permissoes[\"Ana\"]"
   ]
  },
  {
   "cell_type": "code",
   "execution_count": 71,
   "id": "4f3300c7",
   "metadata": {},
   "outputs": [
    {
     "data": {
      "text/plain": [
       "False"
      ]
     },
     "execution_count": 71,
     "metadata": {},
     "output_type": "execute_result"
    }
   ],
   "source": [
    "\"admin\" in permissoes[\"Bruno\"]"
   ]
  },
  {
   "cell_type": "code",
   "execution_count": 73,
   "id": "61f48432",
   "metadata": {},
   "outputs": [
    {
     "data": {
      "text/plain": [
       "['admin', 'editor']"
      ]
     },
     "execution_count": 73,
     "metadata": {},
     "output_type": "execute_result"
    }
   ],
   "source": [
    "permissoes[\"Ana\"]"
   ]
  },
  {
   "cell_type": "code",
   "execution_count": 75,
   "id": "ab213b15",
   "metadata": {},
   "outputs": [
    {
     "data": {
      "text/plain": [
       "True"
      ]
     },
     "execution_count": 75,
     "metadata": {},
     "output_type": "execute_result"
    }
   ],
   "source": [
    "\"admin\" in permissoes[\"Ana\"]"
   ]
  },
  {
   "cell_type": "code",
   "execution_count": 77,
   "id": "14d37389",
   "metadata": {},
   "outputs": [
    {
     "data": {
      "text/plain": [
       "False"
      ]
     },
     "execution_count": 77,
     "metadata": {},
     "output_type": "execute_result"
    }
   ],
   "source": [
    "\"admin\" in permissoes[\"Bruno\"]"
   ]
  },
  {
   "cell_type": "code",
   "execution_count": 79,
   "id": "f6e2caff",
   "metadata": {},
   "outputs": [],
   "source": [
    "permissoes[\"Bruno\"].append(\"editor\")"
   ]
  },
  {
   "cell_type": "code",
   "execution_count": 81,
   "id": "70cc3e60",
   "metadata": {},
   "outputs": [
    {
     "data": {
      "text/plain": [
       "['usuario', 'editor', 'editor']"
      ]
     },
     "execution_count": 81,
     "metadata": {},
     "output_type": "execute_result"
    }
   ],
   "source": [
    "permissoes[\"Bruno\"]"
   ]
  },
  {
   "cell_type": "code",
   "execution_count": 82,
   "id": "35456148",
   "metadata": {},
   "outputs": [
    {
     "data": {
      "text/plain": [
       "True"
      ]
     },
     "execution_count": 82,
     "metadata": {},
     "output_type": "execute_result"
    }
   ],
   "source": [
    "\"editor\" in permissoes[\"Bruno\"]"
   ]
  }
 ],
 "metadata": {
  "kernelspec": {
   "display_name": ".venv",
   "language": "python",
   "name": "python3"
  },
  "language_info": {
   "codemirror_mode": {
    "name": "ipython",
    "version": 3
   },
   "file_extension": ".py",
   "mimetype": "text/x-python",
   "name": "python",
   "nbconvert_exporter": "python",
   "pygments_lexer": "ipython3",
   "version": "3.12.3"
  }
 },
 "nbformat": 4,
 "nbformat_minor": 5
}
