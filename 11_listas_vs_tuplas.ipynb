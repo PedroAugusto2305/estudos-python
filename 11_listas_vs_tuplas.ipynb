{
 "cells": [
  {
   "cell_type": "markdown",
   "id": "009c3813",
   "metadata": {},
   "source": [
    "# Listas vs Tuplas\n",
    "A escolha entre usar listas ou tuplas em Python geralmente depende da natureza dos dados que você está manipulando e do que você pretende fazer com esses dados. Aqui estão alguns fatores para considerar:\n",
    "\n",
    "**Listas:**\n",
    "- **Mutabilidade:** Use listas quando precisar de uma sequência de elementos que possa mudar ao longo do tempo, isto é, quando você precisa adicionar, remover ou alterar itens;\n",
    "- **Uso Intensivo:** Se você estiver realizando muitas operações que alteram a sequência, como ordenações ou reversões, listas são a melhor escolha.\n",
    "\n",
    "**Tuplas:**\n",
    "- **Imutabilidade:** Use tuplas quando os dados não devem ser alterados após a criação da sequência. A imutabilidade de uma tupla garante que os dados permaneçam consistentes.\n",
    "- **Desempenho:** Tuplas podem ser mais rápidas que listas para algumas operações, pois não precisam suportar operações que modificam dados. Assim, se você está criando uma sequência constante que não vai mudar, uma tupla pode ser ligeiramente mais eficiente.\n",
    "- **Integridade dos Dados:** Se você precisa garantir que os elementos permaneçam constantes e que ninguém os altere (por acidente ou intencionalmente), uma tupla é a escolha certa.\n",
    "\n",
    "**Considerações Adicionais:**\n",
    "- **Significado:** Tuplas são frequentemente usadas quando a sequência de elementos tem uma estrutura fixa e um significado implícito. Por exemplo, um ponto em um espaço tridimensional pode ser expresso como uma tupla de três elementos `(x, y, z)`.\n",
    "- **Hábito e Convenção:** Em alguns casos, a escolha entre lista e tupla pode ser uma questão de convenção. Por exemplo, muitos programadores usam tuplas para coleções heterogêneas de dados (onde cada posição na sequência tem um significado específico) e listas para coleções homogêneas de itens (onde todos os elementos são do mesmo tipo e podem ser tratados de forma intercambiável).\n",
    "\n",
    "A decisão entre usar listas ou tuplas muitas vezes vem da intenção do design do programa e das necessidades específicas do problema que você está tentando resolver."
   ]
  },
  {
   "cell_type": "code",
   "execution_count": 4,
   "id": "8071562a",
   "metadata": {},
   "outputs": [
    {
     "data": {
      "text/plain": [
       "(1, 2, 3)"
      ]
     },
     "execution_count": 4,
     "metadata": {},
     "output_type": "execute_result"
    }
   ],
   "source": [
    "coordenadas = (1, 2, 3)\n",
    "coordenadas"
   ]
  },
  {
   "cell_type": "code",
   "execution_count": 5,
   "id": "4a7e80ec",
   "metadata": {},
   "outputs": [
    {
     "name": "stdout",
     "output_type": "stream",
     "text": [
      "1 2 3\n"
     ]
    }
   ],
   "source": [
    "# unpacking\n",
    "x, y, z = coordenadas\n",
    "print(x, y, z)"
   ]
  },
  {
   "cell_type": "code",
   "execution_count": 7,
   "id": "b408cf89",
   "metadata": {},
   "outputs": [
    {
     "data": {
      "text/plain": [
       "1"
      ]
     },
     "execution_count": 7,
     "metadata": {},
     "output_type": "execute_result"
    }
   ],
   "source": [
    "x"
   ]
  },
  {
   "cell_type": "code",
   "execution_count": 9,
   "id": "12120d90",
   "metadata": {},
   "outputs": [
    {
     "data": {
      "text/plain": [
       "2"
      ]
     },
     "execution_count": 9,
     "metadata": {},
     "output_type": "execute_result"
    }
   ],
   "source": [
    "y"
   ]
  },
  {
   "cell_type": "code",
   "execution_count": 10,
   "id": "d4403fd5",
   "metadata": {},
   "outputs": [
    {
     "data": {
      "text/plain": [
       "3"
      ]
     },
     "execution_count": 10,
     "metadata": {},
     "output_type": "execute_result"
    }
   ],
   "source": [
    "z"
   ]
  }
 ],
 "metadata": {
  "kernelspec": {
   "display_name": ".venv",
   "language": "python",
   "name": "python3"
  },
  "language_info": {
   "codemirror_mode": {
    "name": "ipython",
    "version": 3
   },
   "file_extension": ".py",
   "mimetype": "text/x-python",
   "name": "python",
   "nbconvert_exporter": "python",
   "pygments_lexer": "ipython3",
   "version": "3.12.3"
  }
 },
 "nbformat": 4,
 "nbformat_minor": 5
}
