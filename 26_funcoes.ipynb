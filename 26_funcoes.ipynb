{
 "cells": [
  {
   "cell_type": "markdown",
   "id": "c0cd375e",
   "metadata": {},
   "source": [
    "# Funções\n",
    "\n",
    "## O que são Funções\n",
    "\n",
    "Uma função é basicamente um bloco de código que é projetado para realizar uma tarefa específica. Você pode pensar em uma função como uma pequena \"fábrica\" que aceita alguns materiais (dados de entrada), realiza um processo (o código dentro da função) e entrega algo no final (um resultado o saída).\n",
    "\n",
    "## Por que usar funções\n",
    "\n",
    "1. **Reutilização de Código:** Se você tem um bloco de código que é usado várias vezes, pode colocá-lo em uma função e chamar essa funçãoo sempre que precisar desse código.\n",
    "2. **Organização:** Funções ajudam a organizar o código em partes menores.\n",
    "3. **Manutenção:** Se você precisar modificar ou corrigir o código, é mais fácil fazer isso em uma função do que procurar várias cópias do mesmo código espalhados pelo programa.\n",
    "\n",
    "## Como definir uma função em Python\n",
    "\n",
    "Em Python, você define uma função usando a palavra-chave `def`, em seguida o nome da função e parênteses `()`. Dentro dos parênteses você pode colocar parâmetros, que são variáveis que a função espera receber quando é chamada. Após os parênteses, coloca-se dois pontos `:` e em seguida o bloco de código identado que define a operação da função.\n",
    "\n",
    "## Exemplo simples de uma função\n",
    "\n",
    "```py\n",
    "def saudar(nome):\n",
    "    print(f\"Olá, {nome}!\")\n",
    "```\n",
    "\n",
    "Neste exemplo, `saudar` é uma função que aceita um parâmetro `nome`. Quando a função é chamada, ela executa o bloco de código, que neste caso é apenas uma linha que imprime uma saudação.\n",
    "\n",
    "## Chamando uma função\n",
    "\n",
    "Depois de definir uma função, você pode chamá-la usando seu nome seguido de parênteses. Se a função esperar parâmetros, você deve passar os valores correspondentes.\n",
    "\n",
    "```py\n",
    "saudar(\"Maria\")\n",
    "```\n",
    "\n",
    "Esta linha de código chama a função `saudar` que definimos passando \"Maria\" como argumento. O resultado será a execução, que neste caso, imprimirá \"Olá, Maria!\".\n"
   ]
  },
  {
   "cell_type": "code",
   "execution_count": 9,
   "id": "128bb6c7",
   "metadata": {},
   "outputs": [
    {
     "name": "stdout",
     "output_type": "stream",
     "text": [
      "Olá, Maria!\n"
     ]
    }
   ],
   "source": [
    "# É possível colocar os \"\"\" \"\"\" como vemos abaixo para documentar a função.\n",
    "def saudar(nome):\n",
    "    \"\"\" Função que saúda uma pessoa\n",
    "\n",
    "    Parameters\n",
    "    ----------\n",
    "    nome : str\n",
    "        Nome da pessoa a ser saudada\n",
    "    \"\"\"\n",
    "    print(f\"Olá, {nome}!\")\n",
    "\n",
    "\n",
    "saudar(\"Maria\")"
   ]
  },
  {
   "cell_type": "code",
   "execution_count": 10,
   "id": "364db96a",
   "metadata": {},
   "outputs": [
    {
     "name": "stdout",
     "output_type": "stream",
     "text": [
      "Help on function saudar in module __main__:\n",
      "\n",
      "saudar(nome)\n",
      "    Função que saúda uma pessoa\n",
      "\n",
      "    Parameters\n",
      "    ----------\n",
      "    nome : str\n",
      "        Nome da pessoa a ser saudada\n",
      "\n"
     ]
    }
   ],
   "source": [
    "help(saudar)  # ao chamar a função help() é impresso a doc. da função"
   ]
  },
  {
   "cell_type": "markdown",
   "id": "ba282c53",
   "metadata": {},
   "source": [
    "**Usando em iteráveis**\n"
   ]
  },
  {
   "cell_type": "code",
   "execution_count": 11,
   "id": "08edc949",
   "metadata": {},
   "outputs": [
    {
     "name": "stdout",
     "output_type": "stream",
     "text": [
      "Olá, Maria!\n",
      "Olá, Pedro!\n",
      "Olá, Carla!\n",
      "Olá, João!\n"
     ]
    }
   ],
   "source": [
    "alunos = [\"Maria\", \"Pedro\", \"Carla\", \"João\"]\n",
    "\n",
    "for aluno in alunos:\n",
    "    saudar(aluno)"
   ]
  },
  {
   "cell_type": "markdown",
   "id": "73d83323",
   "metadata": {},
   "source": [
    "### Exemplos\n"
   ]
  },
  {
   "cell_type": "code",
   "execution_count": 14,
   "id": "7199cb9e",
   "metadata": {},
   "outputs": [],
   "source": [
    "def calcular_valor_com_desconto(valor_original, porcentagem_desconto=5):\n",
    "    \"\"\" Calcula o valor com desconto de acordo com a porcentagem\n",
    "\n",
    "    Parameters\n",
    "    ----------\n",
    "    valor_original : float ou int\n",
    "        Valor original do produto\n",
    "    porcentagem_desconto : float ou int (opcional)\n",
    "        Valor do desconto em porcentagem. O valor padrão é 5%\n",
    "\n",
    "    Returns\n",
    "    -------\n",
    "    tupla : (float, float)\n",
    "        Valor final do produto com desconto; valor do desconto\n",
    "    \"\"\"\n",
    "    valor_desconto = valor_original * porcentagem_desconto / 100\n",
    "    valor_final = valor_original - valor_desconto\n",
    "    return valor_final, valor_desconto"
   ]
  },
  {
   "cell_type": "code",
   "execution_count": 21,
   "id": "360ff00c",
   "metadata": {},
   "outputs": [
    {
     "name": "stdout",
     "output_type": "stream",
     "text": [
      "O preço final é: R$180.00\n",
      "Desconto de R$ 20.00\n"
     ]
    }
   ],
   "source": [
    "preco_produto = 200.0\n",
    "desconto = 10  # desconto de 10%\n",
    "\n",
    "preco_final, desconto_reais = calcular_valor_com_desconto(preco_produto, desconto) # fazendo o unpacking\n",
    "\n",
    "print(f\"O preço final é: R${preco_final:.2f}\\nDesconto de R$ {desconto_reais:.2f}\")"
   ]
  },
  {
   "cell_type": "code",
   "execution_count": 22,
   "id": "e57c5493",
   "metadata": {},
   "outputs": [
    {
     "name": "stdout",
     "output_type": "stream",
     "text": [
      "O preço final de Camisa masculina M é R$ 45.00\n",
      "Desconto de R$ 5.00\n",
      "O preço final de Calça feminina P é R$ 95.00\n",
      "Desconto de R$ 5.00\n",
      "O preço final de Mochila é R$ 127.50\n",
      "Desconto de R$ 22.50\n",
      "O preço final de Relógio é R$ 160.00\n",
      "Desconto de R$ 40.00\n"
     ]
    }
   ],
   "source": [
    "# Dicionário de produtos, com seus respectivos preços e descontos\n",
    "produtos = {\n",
    "    'Camisa masculina M': {\n",
    "        'preco': 50.0,\n",
    "        'desconto': 10\n",
    "    },\n",
    "    'Calça feminina P': {\n",
    "        'preco': 100.0,\n",
    "        'desconto': 5\n",
    "    },\n",
    "    'Mochila': {\n",
    "        'preco': 150.0,\n",
    "        'desconto': 15\n",
    "    },\n",
    "    'Relógio': {\n",
    "        'preco': 200.0,\n",
    "        'desconto': 20\n",
    "    },\n",
    "}\n",
    "\n",
    "for nome_produto, dados_produto in produtos.items():\n",
    "    preco_final, desconto = calcular_valor_com_desconto(\n",
    "        dados_produto[\"preco\"], dados_produto[\"desconto\"])\n",
    "    print(f\"O preço final de {nome_produto} é R$ {preco_final:.2f}\\nDesconto de R$ {desconto:.2f}\")"
   ]
  }
 ],
 "metadata": {
  "kernelspec": {
   "display_name": ".venv",
   "language": "python",
   "name": "python3"
  },
  "language_info": {
   "codemirror_mode": {
    "name": "ipython",
    "version": 3
   },
   "file_extension": ".py",
   "mimetype": "text/x-python",
   "name": "python",
   "nbconvert_exporter": "python",
   "pygments_lexer": "ipython3",
   "version": "3.12.3"
  }
 },
 "nbformat": 4,
 "nbformat_minor": 5
}
