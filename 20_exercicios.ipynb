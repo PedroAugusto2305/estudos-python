{
 "cells": [
  {
   "cell_type": "markdown",
   "id": "86b3039e",
   "metadata": {},
   "source": [
    "# Exercícios\n"
   ]
  },
  {
   "cell_type": "markdown",
   "id": "faf0d85f",
   "metadata": {},
   "source": [
    "## Exercício 01: Categorização de Leads\n",
    "\n",
    "Dada a pontuação de um lead (potencial cliente) para uma empresa, categorize-o como 'Alto', 'Médio' ou 'Baixo', considerando a pontuação.\n",
    "Pontuações acima de 80 são 'Alto', entre 50 e 80 são 'Médio' e abaixo de 50 são 'Baixo'.\n"
   ]
  },
  {
   "cell_type": "code",
   "execution_count": 1,
   "id": "fac87392",
   "metadata": {},
   "outputs": [
    {
     "name": "stdout",
     "output_type": "stream",
     "text": [
      "O lead é categorizado como: Médio\n"
     ]
    }
   ],
   "source": [
    "pontuacao = 75\n",
    "\n",
    "if pontuacao >= 80:\n",
    "    categoria = \"Alto\"\n",
    "elif pontuacao >= 50:\n",
    "    categoria = \"Médio\"\n",
    "else:\n",
    "    categoria = \"Baixo\"\n",
    "\n",
    "print(f\"O lead é categorizado como: {categoria}\")"
   ]
  },
  {
   "cell_type": "markdown",
   "id": "a4fac723",
   "metadata": {},
   "source": [
    "## Exercício 02: Aprovação de Crédito\n",
    "\n",
    "Dado o score de crédito de uma empresa (0 a 100) e seu faturamento anual (em milhões), determine se um empréstimo será aprovado.\n",
    "Empréstimos são aprovados para scores acima de 60 com faturamento superior a 1 milhão.\n"
   ]
  },
  {
   "cell_type": "code",
   "execution_count": 3,
   "id": "edd30718",
   "metadata": {},
   "outputs": [
    {
     "name": "stdout",
     "output_type": "stream",
     "text": [
      "O empréstimo foi aprovado\n"
     ]
    }
   ],
   "source": [
    "score_credito = 65\n",
    "faturamento_anual = 1_200_000.00\n",
    "\n",
    "if (score_credito > 60) and (faturamento_anual > 1_000_000.00):\n",
    "    print(\"O empréstimo foi aprovado\")\n",
    "else:\n",
    "    print(\"O empréstimo não foi aprovado.\")"
   ]
  },
  {
   "cell_type": "markdown",
   "id": "3f9d58ad",
   "metadata": {},
   "source": [
    "## Exercício 03: Determinação de Bônus de Funcionários\n",
    "\n",
    "Em uma empresa, o bônus de fim de ano dos funcionários é determinado tanto pelo seu nível quanto pelo seu desempenho ao longo do ano.\n",
    "Funcionários de nível 1 recebem 10% do salário se seu desempenho for \"bom\", e 15% se for \"excelente\". Funcionários de nível 2 recebem 20% para \"bom\" e 25% para \"excelente\". Calcule o bônus de um funcionário dado seu nível (1 ou 2), desempenho (\"bom\" ou \"excelente\") e salário.\n"
   ]
  },
  {
   "cell_type": "code",
   "execution_count": null,
   "id": "4ba5c814",
   "metadata": {},
   "outputs": [
    {
     "name": "stdout",
     "output_type": "stream",
     "text": [
      "O bônus é: R$1250.0\n"
     ]
    }
   ],
   "source": [
    "nivel = 2\n",
    "desempenho = \"excelente\"\n",
    "salario = 5_000\n",
    "\n",
    "if (nivel == 1) and (desempenho == \"bom\"):\n",
    "    bonus = 5_000 * 0.10\n",
    "elif (nivel == 1) and (desempenho == \"excelente\"):\n",
    "    bonus = 5_000 * 0.15\n",
    "elif (nivel == 2) and (desempenho == \"bom\"):\n",
    "    bonus = 5_000 * 0.20\n",
    "elif (nivel == 2) and (desempenho == \"excelente\"):\n",
    "    bonus = 5_000 * 0.25\n",
    "\n",
    "\n",
    "print(f\"O bônus é: R${bonus}\")"
   ]
  },
  {
   "cell_type": "markdown",
   "id": "aec18558",
   "metadata": {},
   "source": [
    "## Exercício 04: Classificação de Feedback de Clientes\n",
    "\n",
    "Uma empresa classifica o feedback de seus clientes como \"Positivo\", \"Neutro\" ou \"Negativo\", baseado no texto fornecido. Se o feedback contém \"não gostei\" ou \"ruim\", é classificado como \"Negativo\". Se contém \"excelente\" ou \"muito bom\" é \"Positivo\". Caso contrário é \"Neutro\".\n",
    "Dado um feedback, classifique-o.\n"
   ]
  },
  {
   "cell_type": "code",
   "execution_count": null,
   "id": "d3cb641f",
   "metadata": {},
   "outputs": [
    {
     "name": "stdout",
     "output_type": "stream",
     "text": [
      "Classificação do feedback: Positivo\n"
     ]
    }
   ],
   "source": [
    "feedback = \"Produto e serviço de entrega muito bom.\"\n",
    "\n",
    "if (\"excelente\" in feedback.lower()) or (\"muito bom\" in feedback.lower()):\n",
    "    classificacao = \"Positivo\"\n",
    "elif (\"não gostei\" in feedback.lower()) or (\"ruim\" in feedback.lower()):\n",
    "    classificacao = \"Negativo\"\n",
    "else:\n",
    "    classificacao = \"Neutro\"\n",
    "\n",
    "print(f\"Classificação do feedback: {classificacao}\")"
   ]
  },
  {
   "cell_type": "markdown",
   "id": "459ba591",
   "metadata": {},
   "source": [
    "## Exercício 05: Aprovação de Orçamento de Projetos\n",
    "Um projeto é automaticamente aprovado se o seu orçamento estiver abaixo de `R$10.000`. Projetos acima de `R$50.000` requerem aprovação da diretoria. Entre esses valores, a aprovação é do gerente. Dado o valor do orçamento de um projeto, determina quem deve aprovar. "
   ]
  },
  {
   "cell_type": "code",
   "execution_count": 19,
   "id": "072589f6",
   "metadata": {},
   "outputs": [
    {
     "name": "stdout",
     "output_type": "stream",
     "text": [
      "O orçamento do projeto deve ser aprovado pelo gerente.\n"
     ]
    }
   ],
   "source": [
    "orcamento = 25_000\n",
    "\n",
    "if orcamento >= 50_000:\n",
    "    print(\"O orçamento do projeto deve ser aprovado pela diretoria.\")\n",
    "elif orcamento >= 10_000:\n",
    "    print(\"O orçamento do projeto deve ser aprovado pelo gerente.\")\n",
    "else:\n",
    "    print(\"O orçamento do projeto foi aprovado automáticamente.\")"
   ]
  },
  {
   "cell_type": "markdown",
   "id": "196fd22d",
   "metadata": {},
   "source": [
    "## Exercício 06: Ajuste de Preços de Produtos\n",
    "Uma empresa ajusta os preços de seus produtos baseado na estação do ano: aumenta em 10% no verão, reduz em 5% no inverno e mantém os preços na primavera e no outono. Dado o preço atual de um produto e a estação do ano, calcule e mostre o novo preço."
   ]
  },
  {
   "cell_type": "code",
   "execution_count": 26,
   "id": "f0b1427b",
   "metadata": {},
   "outputs": [
    {
     "name": "stdout",
     "output_type": "stream",
     "text": [
      "O novo preço do produto é: R$110.00\n"
     ]
    }
   ],
   "source": [
    "preco_atual = 100\n",
    "estacao = \"verão\"\n",
    "\n",
    "if estacao == \"verão\":\n",
    "    novo_preco = preco_atual + (preco_atual * 0.10)\n",
    "elif estacao == \"inverno\":\n",
    "    novo_preco = preco_atual - (preco_atual * 0.05)\n",
    "else:\n",
    "    novo_preco = preco_atual\n",
    "\n",
    "print(f\"O novo preço do produto é: R${novo_preco:.2f}\")"
   ]
  }
 ],
 "metadata": {
  "kernelspec": {
   "display_name": ".venv",
   "language": "python",
   "name": "python3"
  },
  "language_info": {
   "codemirror_mode": {
    "name": "ipython",
    "version": 3
   },
   "file_extension": ".py",
   "mimetype": "text/x-python",
   "name": "python",
   "nbconvert_exporter": "python",
   "pygments_lexer": "ipython3",
   "version": "3.12.3"
  }
 },
 "nbformat": 4,
 "nbformat_minor": 5
}
