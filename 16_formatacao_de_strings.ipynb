{
 "cells": [
  {
   "cell_type": "markdown",
   "id": "6277c655",
   "metadata": {},
   "source": [
    "# Formatação de Strings\n",
    "\n",
    "## Marcador de Posição\n",
    "Forma de formatação de strings mais antiga na linguagem. Atualmente, se recomenda utilizar as outras formas apresentadas mais adiante no curso. No entanto, como ainda há muito código legado por aí, é importante saber como utilizar.\n",
    "\n",
    "Como o nome sugere, utiliza-se de marcadores de posição, como `%s`, no interior da string. Por exemplo:"
   ]
  },
  {
   "cell_type": "code",
   "execution_count": 2,
   "id": "345cb02f",
   "metadata": {},
   "outputs": [
    {
     "name": "stdout",
     "output_type": "stream",
     "text": [
      "Um texto vai ser colocado aqui\n"
     ]
    }
   ],
   "source": [
    "print(\"Um texto vai ser colocado %s\" % \"aqui\")"
   ]
  },
  {
   "cell_type": "markdown",
   "id": "fb812cbc",
   "metadata": {},
   "source": [
    "Quando é necessário mais de uma inserção, uma tupla é passada com cada inserção na ordem que deve aparecer na string:"
   ]
  },
  {
   "cell_type": "code",
   "execution_count": 4,
   "id": "831300d2",
   "metadata": {},
   "outputs": [
    {
     "name": "stdout",
     "output_type": "stream",
     "text": [
      "Um texto vai ser colocado aqui e mais aqui\n"
     ]
    }
   ],
   "source": [
    "print(\"Um texto vai ser colocado %s e %s\" % (\"aqui\", \"mais aqui\"))"
   ]
  },
  {
   "cell_type": "markdown",
   "id": "1365ea39",
   "metadata": {},
   "source": [
    "## Lidando com números\n",
    "No caso de querer uma representação fiel do número passado, utiliza-se `%s` para que o mesmo seja convertido para string. Mas manipulações podem ser feitas, como truncamento para inteiro e mostrar o sinal:"
   ]
  },
  {
   "cell_type": "code",
   "execution_count": 10,
   "id": "6941ff64",
   "metadata": {},
   "outputs": [
    {
     "name": "stdout",
     "output_type": "stream",
     "text": [
      "Números como 13.744 são convertidos para string\n",
      "Também poodem ser representados como inteiros: 13\n",
      "Mostrando o sinal em inteiros: +13\n",
      "Mostrando o sinal em floats: +13.744000\n"
     ]
    }
   ],
   "source": [
    "num = 13.744\n",
    "\n",
    "print(\"Números como %s são convertidos para string\" % num)\n",
    "print(\"Também poodem ser representados como inteiros: %d\" % num)\n",
    "\n",
    "print(\"Mostrando o sinal em inteiros: %+d\" % num)\n",
    "print(\"Mostrando o sinal em floats: %+f\" % num)"
   ]
  },
  {
   "cell_type": "markdown",
   "id": "af32d145",
   "metadata": {},
   "source": [
    "Observe acima que a representação de float ficou com mais decimais que o número passado. Podemos modificar esta representação com `x.yf`, onde *x* é o mínimo de caracteres e *y*, as casa decimais:"
   ]
  },
  {
   "cell_type": "code",
   "execution_count": 20,
   "id": "dc3cc144",
   "metadata": {},
   "outputs": [
    {
     "name": "stdout",
     "output_type": "stream",
     "text": [
      "Mínimo de 7 caracteres com 2 casas decimais:   13.74\n",
      "Mínimo de 1 caracter com 0 casas decimais: 14 (observe o arredondamento)\n",
      "Mínimo de 1 caracter com 5 casas decimais: 13.74400\n",
      "Mínimo de 10 caracteres com 2 casas decimais:      13.74\n",
      "Mínimo de 10 caracteres com 2 casas decimais:     +13.74 (com sinal)\n"
     ]
    }
   ],
   "source": [
    "print(\"Mínimo de 7 caracteres com 2 casas decimais: %7.2f\" % num)\n",
    "print(\"Mínimo de 1 caracter com 0 casas decimais: %1.0f (observe o arredondamento)\" % num)\n",
    "print(\"Mínimo de 1 caracter com 5 casas decimais: %1.5f\" % num)\n",
    "print(\"Mínimo de 10 caracteres com 2 casas decimais: %10.2f\" % num)\n",
    "print(\"Mínimo de 10 caracteres com 2 casas decimais: %+10.2f (com sinal)\" % num)"
   ]
  },
  {
   "cell_type": "markdown",
   "id": "a29103da",
   "metadata": {},
   "source": [
    "## Método format\n",
    "Forma introduzida no Python 3.0 e que possui mais flexibilidade e legibilidade que a maneira apresentada anteriormente.\n",
    "\n",
    "Tendo apenas uma inserção, fica:"
   ]
  },
  {
   "cell_type": "code",
   "execution_count": 22,
   "id": "bd55468d",
   "metadata": {},
   "outputs": [
    {
     "name": "stdout",
     "output_type": "stream",
     "text": [
      "Vai entrar um texto aqui\n"
     ]
    }
   ],
   "source": [
    "print(\"Vai entrar um texto {}\".format(\"aqui\"))"
   ]
  },
  {
   "cell_type": "markdown",
   "id": "c550f495",
   "metadata": {},
   "source": [
    "Uma grande melhoria do `format` é poder escolher a ordem de inserção e trabalhar com variáveis:"
   ]
  },
  {
   "cell_type": "code",
   "execution_count": null,
   "id": "7f54e3ae",
   "metadata": {},
   "outputs": [
    {
     "name": "stdout",
     "output_type": "stream",
     "text": [
      "Controlando a ordem!\n",
      "Primeiro: 1, Segundo: 2, Terceiro: 12.3\n"
     ]
    }
   ],
   "source": [
    "print(\"Controlando {2} {1}{0}\".format(\"!\", \"ordem\", \"a\"))\n",
    "\n",
    "print(\"Primeiro: {a}, Segundo: {b}, Terceiro: {c}\".format(a=1, b=\"2\", c=12.3))"
   ]
  },
  {
   "cell_type": "markdown",
   "id": "3a4731f8",
   "metadata": {},
   "source": [
    "É possível também inserir valores com base em uma tupla a partir do unpacking da mesma:"
   ]
  },
  {
   "cell_type": "code",
   "execution_count": 26,
   "id": "361f6330",
   "metadata": {},
   "outputs": [
    {
     "name": "stdout",
     "output_type": "stream",
     "text": [
      "Primeiro: 1, Segundo: 2, Terceiro: 3\n"
     ]
    }
   ],
   "source": [
    "tupla = (1, 2, 3)\n",
    "\n",
    "\n",
    "print(\"Primeiro: {}, Segundo: {}, Terceiro: {}\".format(*tupla))"
   ]
  },
  {
   "cell_type": "markdown",
   "id": "52e014be",
   "metadata": {},
   "source": [
    "Pode-se, inclusive, usar chaves de dicionários através de *unpack* como no exemplo a seguir:"
   ]
  },
  {
   "cell_type": "code",
   "execution_count": 27,
   "id": "80d59137",
   "metadata": {},
   "outputs": [
    {
     "name": "stdout",
     "output_type": "stream",
     "text": [
      "Olá, Pedro. Você é especialista em Ciência de Dados\n"
     ]
    }
   ],
   "source": [
    "pessoa = {\n",
    "    \"nome\": \"Pedro\",\n",
    "    \"especialidade\": \"Ciência de Dados\"\n",
    "}\n",
    "\n",
    "print(\"Olá, {nome}. Você é especialista em {especialidade}\".format(**pessoa))"
   ]
  },
  {
   "cell_type": "markdown",
   "id": "7fc69434",
   "metadata": {},
   "source": [
    "## Alinhamento\n",
    "Com o `format` houve um grande avanço nas possibilidades de exibir saída em texto. A seguir, vemos como podemos indicar o espaço a ser ocupado por cada inserção:"
   ]
  },
  {
   "cell_type": "code",
   "execution_count": 30,
   "id": "c4785950",
   "metadata": {},
   "outputs": [
    {
     "name": "stdout",
     "output_type": "stream",
     "text": [
      "Nome             | Especialidade       \n",
      "Pedro            | Ciência de Dados    \n",
      "Leonardo         | Python              \n"
     ]
    }
   ],
   "source": [
    "print(\"{0:16} | {1:20}\".format(\"Nome\", \"Especialidade\"))\n",
    "print(\"{0:16} | {1:20}\".format(\"Pedro\", \"Ciência de Dados\"))\n",
    "print(\"{0:16} | {1:20}\".format(\"Leonardo\", \"Python\"))"
   ]
  },
  {
   "cell_type": "markdown",
   "id": "ed47dbc1",
   "metadata": {},
   "source": [
    "Veja como os valores numéricos se alinharam à direita, enquanto as strings se alinharam à esquerda. É possível controlar o alinhamento da seguinte forma:"
   ]
  },
  {
   "cell_type": "code",
   "execution_count": 32,
   "id": "2dcb3cdd",
   "metadata": {},
   "outputs": [
    {
     "name": "stdout",
     "output_type": "stream",
     "text": [
      "Esquerda |  Centro  |  Direita\n",
      "11       |    22    |       33\n"
     ]
    }
   ],
   "source": [
    "print(\"{0:<8} | {1:^8} | {2:>8}\".format(\"Esquerda\", \"Centro\", \"Direita\"))\n",
    "print(\"{0:<8} | {1:^8} | {2:>8}\".format(11, 22, 33))"
   ]
  },
  {
   "cell_type": "markdown",
   "id": "75c776ef",
   "metadata": {},
   "source": [
    "Também é possível preencher o espaço com algum caractere:"
   ]
  },
  {
   "cell_type": "code",
   "execution_count": 33,
   "id": "a3017311",
   "metadata": {},
   "outputs": [
    {
     "name": "stdout",
     "output_type": "stream",
     "text": [
      "Esquerda | -Centro- | .Direita\n",
      "11====== | ---22--- | ......33\n"
     ]
    }
   ],
   "source": [
    "print(\"{0:=<8} | {1:-^8} | {2:.>8}\".format(\"Esquerda\", \"Centro\", \"Direita\"))\n",
    "print(\"{0:=<8} | {1:-^8} | {2:.>8}\".format(11, 22, 33))"
   ]
  },
  {
   "cell_type": "markdown",
   "id": "437c38f3",
   "metadata": {},
   "source": [
    "As informações de alinhamento e de tamanho também podem ser passadas como parâmetros:"
   ]
  },
  {
   "cell_type": "code",
   "execution_count": 37,
   "id": "d8c64ac5",
   "metadata": {},
   "outputs": [
    {
     "name": "stdout",
     "output_type": "stream",
     "text": [
      "\"  texto   \"\n"
     ]
    }
   ],
   "source": [
    "print('\"{:{align}{width}}\"'.format(\"texto\", align=\"^\", width=\"10\"))"
   ]
  },
  {
   "cell_type": "markdown",
   "id": "76b835c7",
   "metadata": {},
   "source": [
    "## Lidando com números\n",
    "Muito similar ao visto na utilização do marcador de posição:"
   ]
  },
  {
   "cell_type": "code",
   "execution_count": 1,
   "id": "a79a5bfc",
   "metadata": {},
   "outputs": [
    {
     "name": "stdout",
     "output_type": "stream",
     "text": [
      "10 caracteres e 2 casas decimais:      13.58\n"
     ]
    }
   ],
   "source": [
    "print(\"10 caracteres e 2 casas decimais: {:10.2f}\".format(13.579))"
   ]
  },
  {
   "cell_type": "markdown",
   "id": "62297790",
   "metadata": {},
   "source": [
    "E aqui também se pode utilizar parâmetros:"
   ]
  },
  {
   "cell_type": "code",
   "execution_count": 4,
   "id": "061270b8",
   "metadata": {},
   "outputs": [
    {
     "name": "stdout",
     "output_type": "stream",
     "text": [
      "10 caracteres e 2 casas decimais:     +13.58\n"
     ]
    }
   ],
   "source": [
    "print(\"10 caracteres e 2 casas decimais: {:{sign}{width}.{prec}f}\".format(13.579, width=10, prec=2, sign=\"+\"))"
   ]
  },
  {
   "cell_type": "markdown",
   "id": "87dd0af8",
   "metadata": {},
   "source": [
    "## f-strings\n",
    "Disponíveis a partir do Python 3.6, as f-strings avançaram ainda mais na flexibilidade e na legibilidade. O uso básico é bem simples, bastando colocar `f` (ou `F`) antes da string e a váriavel entre parênteses:"
   ]
  },
  {
   "cell_type": "code",
   "execution_count": 5,
   "id": "4a4616f2",
   "metadata": {},
   "outputs": [
    {
     "name": "stdout",
     "output_type": "stream",
     "text": [
      "Nome: Pedro\n"
     ]
    }
   ],
   "source": [
    "nome = \"Pedro\"\n",
    "print(f\"Nome: {nome}\")"
   ]
  },
  {
   "cell_type": "markdown",
   "id": "40575c96",
   "metadata": {},
   "source": [
    "As f-strings são resolvidas em tempo de execução, de forma que podem ser passadas expressões diretamente:"
   ]
  },
  {
   "cell_type": "code",
   "execution_count": 6,
   "id": "b85fe5ff",
   "metadata": {},
   "outputs": [
    {
     "name": "stdout",
     "output_type": "stream",
     "text": [
      "Conta: 4\n"
     ]
    }
   ],
   "source": [
    "print(f\"Conta: {2 * 2}\")"
   ]
  },
  {
   "cell_type": "markdown",
   "id": "9ee4e8be",
   "metadata": {},
   "source": [
    "## Lidando com Números\n",
    "Pode-se adotar a mesma forma de lidar vista com o `format`:"
   ]
  },
  {
   "cell_type": "code",
   "execution_count": 9,
   "id": "d1d76dd4",
   "metadata": {},
   "outputs": [
    {
     "name": "stdout",
     "output_type": "stream",
     "text": [
      "10 caracteres e 4 casas decimais:    23.4500 (format)\n",
      "10 caracteres e 4 casas decimais:    23.4500 (f-string)\n"
     ]
    }
   ],
   "source": [
    "num = 23.45\n",
    "\n",
    "print(\"10 caracteres e 4 casas decimais: {:10.4f} (format)\".format(num))\n",
    "print(f\"10 caracteres e 4 casas decimais: {num:10.4f} (f-string)\")"
   ]
  },
  {
   "cell_type": "markdown",
   "id": "2abf952a",
   "metadata": {},
   "source": [
    "## Alinhamento\n",
    "O que foi visto sobre alinhamento na parte do `format` continua valendo aqui. E ainda podemos usar a resolução em tempo de execução. Veja o exemplo:"
   ]
  },
  {
   "cell_type": "code",
   "execution_count": 33,
   "id": "46796fea",
   "metadata": {},
   "outputs": [
    {
     "name": "stdout",
     "output_type": "stream",
     "text": [
      "|      Nome       | Idade |     Empresa     |\n",
      "|-----------------|-------|-----------------|\n",
      "|   Bill Gates    |  68   |    Microsoft    |\n",
      "|   Elon Musk     |  52   |        X        |\n",
      "| Mark Zukerberg  |  39   |     Facebook    |\n"
     ]
    }
   ],
   "source": [
    "pessoas = {\n",
    "    \"bill\": {\n",
    "        \"nome\": \"Bill Gates\",\n",
    "        \"idade\": 68,\n",
    "        \"empresa\": \"Microsoft\"\n",
    "    },\n",
    "    \"elon\": {\n",
    "        \"nome\": \"Elon Musk\",\n",
    "        \"idade\": 52,\n",
    "        \"empresa\": \"X\"\n",
    "    },\n",
    "    \"mark\": {\n",
    "        \"nome\": \"Mark Zukerberg\",\n",
    "        \"idade\": 39,\n",
    "        \"empresa\": \"Facebook\"\n",
    "    },\n",
    "}\n",
    "\n",
    "print(f\"|{'Nome':^16} | {'Idade':^5} | {'Empresa':^16}|\")\n",
    "print(f\"|{'-' * 17}|{'-' * 7}|{'-' * 17}|\")\n",
    "print(f\"|{pessoas['bill']['nome']:^16} | {pessoas['bill']['idade']:^5} | {pessoas['bill']['empresa']:^16}|\")\n",
    "print(f\"|{pessoas['elon']['nome']:^16} | {pessoas['elon']['idade']:^5} | {pessoas['elon']['empresa']:^16}|\")\n",
    "print(f\"|{pessoas['mark']['nome']:^16} | {pessoas['mark']['idade']:^5} | {pessoas['mark']['empresa']:^16}|\")"
   ]
  },
  {
   "cell_type": "markdown",
   "id": "d9d11071",
   "metadata": {},
   "source": [
    "Repare que há muita repetição de código. Para evitar isso, mais adiante no curso veremos como criar *loops* (laços) de repetição."
   ]
  }
 ],
 "metadata": {
  "kernelspec": {
   "display_name": ".venv",
   "language": "python",
   "name": "python3"
  },
  "language_info": {
   "codemirror_mode": {
    "name": "ipython",
    "version": 3
   },
   "file_extension": ".py",
   "mimetype": "text/x-python",
   "name": "python",
   "nbconvert_exporter": "python",
   "pygments_lexer": "ipython3",
   "version": "3.12.3"
  }
 },
 "nbformat": 4,
 "nbformat_minor": 5
}
